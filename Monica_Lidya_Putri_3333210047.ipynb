{
  "cells": [
    {
      "cell_type": "markdown",
      "metadata": {
        "id": "view-in-github",
        "colab_type": "text"
      },
      "source": [
        "<a href=\"https://colab.research.google.com/github/monicalidya/3333210047_MonicaLidyaPutri_C/blob/main/Monica_Lidya_Putri_3333210047.ipynb\" target=\"_parent\"><img src=\"https://colab.research.google.com/assets/colab-badge.svg\" alt=\"Open In Colab\"/></a>"
      ]
    },
    {
      "cell_type": "markdown",
      "source": [
        "**Real Estate Sales 2001-2020 GL**\n",
        "\n",
        "---\n",
        "\n",
        "\n",
        "\n",
        "---\n",
        "\n"
      ],
      "metadata": {
        "id": "y9BtK_QdYiN6"
      }
    },
    {
      "cell_type": "markdown",
      "source": [
        "**About Dataset**\n",
        "\n",
        "The Office of Policy and Management maintains a listing of all real estate sales with a sales price of $2,000 or greater that occur between October 1 and September 30 of each year. For each sale record, the file includes; town, property address, date of sale, property type (residential, apartment, commercial, industrial or vacant land), sales price, and property assessment.\n",
        "\n",
        "\n",
        "\n",
        "---\n",
        "[Link dari dataset](https://www.kaggle.com/datasets/utkarshx27/real-estate-sales-2001-2020-gl)\n",
        "\n"
      ],
      "metadata": {
        "id": "IqFehcVrY3xi"
      }
    },
    {
      "cell_type": "markdown",
      "source": [
        "## 1. Data Preprocessing"
      ],
      "metadata": {
        "id": "TFN6Of7TWe57"
      }
    },
    {
      "cell_type": "markdown",
      "source": [
        "## Overview\n",
        "\n",
        "Practice for Data Analytic Class in Merdeka Belajar \n",
        "\n",
        "## Objecive\n",
        "\n",
        "• Retrieving data \n",
        "\n",
        "• Cleansing, integrating\n",
        "dan transforming data\n",
        "\n",
        "• Data Preparation\n",
        "\n",
        "• Exploratory Data\n",
        "Analysis\n",
        "\n",
        "• Data Visualization\n"
      ],
      "metadata": {
        "id": "cvS878SumIw0"
      }
    },
    {
      "cell_type": "markdown",
      "source": [
        "**1.1 Importing Library**"
      ],
      "metadata": {
        "id": "IADUBKDnWr3s"
      }
    },
    {
      "cell_type": "markdown",
      "source": [
        "**Melakukan import beberapa library yang akan digunakan untuk menyelesaikan permasalahan dibawah**"
      ],
      "metadata": {
        "id": "XDB3_ixzZKjz"
      }
    },
    {
      "cell_type": "code",
      "execution_count": 22,
      "metadata": {
        "id": "CvNhhTZtGoGV"
      },
      "outputs": [],
      "source": [
        "import pandas as pd\n",
        "import numpy as np\n",
        "import matplotlib.pyplot as plt\n",
        "from sklearn.preprocessing import LabelEncoder\n",
        "\n",
        "from sklearn.model_selection import train_test_split\n",
        "from sklearn.model_selection import cross_val_score\n",
        "from sklearn.model_selection import KFold\n",
        "from sklearn.metrics import accuracy_score"
      ]
    },
    {
      "cell_type": "markdown",
      "source": [
        "Library pandas merupaka library yang digunakan untuk mengolah data yang berasal dari format file CVS"
      ],
      "metadata": {
        "id": "QRBVwcHJe1ov"
      }
    },
    {
      "cell_type": "markdown",
      "source": [
        "**1.2 Importing Dataset**"
      ],
      "metadata": {
        "id": "Ydt444CDW46r"
      }
    },
    {
      "cell_type": "markdown",
      "source": [
        "**Melakukan import Data yang sebelumnya sudah ditambahkan di gdrive**"
      ],
      "metadata": {
        "id": "gUOUA3sKZng_"
      }
    },
    {
      "cell_type": "code",
      "execution_count": 23,
      "metadata": {
        "id": "SpkeEnsdTfH3",
        "colab": {
          "base_uri": "https://localhost:8080/"
        },
        "outputId": "a449f357-4d2a-4d73-e823-6051dcef9b96"
      },
      "outputs": [
        {
          "output_type": "stream",
          "name": "stdout",
          "text": [
            "Downloading...\n",
            "From: https://drive.google.com/uc?id=1NClcZ9GNNGrGTSDg55du45gXcijZuU7K\n",
            "To: /content/Real_Estate_Sales_2001-2020_GL.csv\n",
            "100% 110M/110M [00:01<00:00, 108MB/s]\n"
          ]
        }
      ],
      "source": [
        "!gdown 1NClcZ9GNNGrGTSDg55du45gXcijZuU7K"
      ]
    },
    {
      "cell_type": "markdown",
      "source": [
        "Import bertujuang untuk melakukan uploud dari data yang sudah kita pilih untuk dilakukan running dengan bantuan coding-coding dibawah nantinya"
      ],
      "metadata": {
        "id": "9lcd0352a399"
      }
    },
    {
      "cell_type": "markdown",
      "source": [
        "**Melakukan import pabdas menjadi pd, dan pd didefinisikan sebagai sebuah dataset**"
      ],
      "metadata": {
        "id": "i0NJWwYaZxi8"
      }
    },
    {
      "cell_type": "code",
      "source": [
        "import pandas as pd\n",
        "dataset = pd.read_csv('/content/Real_Estate_Sales_2001-2020_GL.csv')\n",
        "dataset"
      ],
      "metadata": {
        "colab": {
          "base_uri": "https://localhost:8080/",
          "height": 458
        },
        "id": "N0fME_84YBzx",
        "outputId": "b4f78365-d8c6-49a4-bbdc-7bb5268dac73"
      },
      "execution_count": 24,
      "outputs": [
        {
          "output_type": "stream",
          "name": "stderr",
          "text": [
            "<ipython-input-24-ba8237137315>:2: DtypeWarning: Columns (8,9,10,11,12) have mixed types. Specify dtype option on import or set low_memory=False.\n",
            "  dataset = pd.read_csv('/content/Real_Estate_Sales_2001-2020_GL.csv')\n"
          ]
        },
        {
          "output_type": "execute_result",
          "data": {
            "text/plain": [
              "        Serial Number  List Year Date Recorded           Town  \\\n",
              "0             2020348       2020    09/13/2021        Ansonia   \n",
              "1               20002       2020    10/02/2020        Ashford   \n",
              "2              200212       2020    03/09/2021           Avon   \n",
              "3              200243       2020    04/13/2021           Avon   \n",
              "4              200377       2020    07/02/2021           Avon   \n",
              "...               ...        ...           ...            ...   \n",
              "997208         190272       2019    06/24/2020     New London   \n",
              "997209         190284       2019    11/27/2019      Waterbury   \n",
              "997210         190129       2019    04/27/2020  Windsor Locks   \n",
              "997211         190504       2019    06/03/2020     Middletown   \n",
              "997212         190344       2019    12/20/2019        Milford   \n",
              "\n",
              "                      Address  Assessed Value  Sale Amount  Sales Ratio  \\\n",
              "0             230 WAKELEE AVE        150500.0     325000.0     0.463000   \n",
              "1             390 TURNPIKE RD        253000.0     430000.0     0.588300   \n",
              "2            5 CHESTNUT DRIVE        130400.0     179900.0     0.724800   \n",
              "3       111 NORTHINGTON DRIVE        619290.0     890000.0     0.695800   \n",
              "4          70 FAR HILLS DRIVE        862330.0    1447500.0     0.595700   \n",
              "...                       ...             ...          ...          ...   \n",
              "997208            4 BISHOP CT         60410.0      53100.0     1.137665   \n",
              "997209        126 PERKINS AVE         68280.0      76000.0     0.898400   \n",
              "997210         19 HATHAWAY ST        121450.0     210000.0     0.578300   \n",
              "997211           8 BYSTREK DR        203360.0     280000.0     0.726300   \n",
              "997212        250 RESEARCH DR       4035970.0    7450000.0     0.541700   \n",
              "\n",
              "        Property Type Residential Type      Non Use Code Assessor Remarks  \\\n",
              "0          Commercial              NaN               NaN              NaN   \n",
              "1         Residential    Single Family               NaN              NaN   \n",
              "2         Residential            Condo               NaN              NaN   \n",
              "3         Residential    Single Family               NaN              NaN   \n",
              "4         Residential    Single Family               NaN              NaN   \n",
              "...               ...              ...               ...              ...   \n",
              "997208  Single Family    Single Family  14 - Foreclosure              NaN   \n",
              "997209  Single Family    Single Family        25 - Other     PRIVATE SALE   \n",
              "997210  Single Family    Single Family               NaN              NaN   \n",
              "997211  Single Family    Single Family               NaN              NaN   \n",
              "997212            NaN              NaN               NaN              NaN   \n",
              "\n",
              "       OPM remarks Location  \n",
              "0              NaN      NaN  \n",
              "1              NaN      NaN  \n",
              "2              NaN      NaN  \n",
              "3              NaN      NaN  \n",
              "4              NaN      NaN  \n",
              "...            ...      ...  \n",
              "997208         NaN      NaN  \n",
              "997209         NaN      NaN  \n",
              "997210         NaN      NaN  \n",
              "997211         NaN      NaN  \n",
              "997212         NaN      NaN  \n",
              "\n",
              "[997213 rows x 14 columns]"
            ],
            "text/html": [
              "\n",
              "  <div id=\"df-3a564fb2-4c97-4dda-84c2-5db980ac2a43\">\n",
              "    <div class=\"colab-df-container\">\n",
              "      <div>\n",
              "<style scoped>\n",
              "    .dataframe tbody tr th:only-of-type {\n",
              "        vertical-align: middle;\n",
              "    }\n",
              "\n",
              "    .dataframe tbody tr th {\n",
              "        vertical-align: top;\n",
              "    }\n",
              "\n",
              "    .dataframe thead th {\n",
              "        text-align: right;\n",
              "    }\n",
              "</style>\n",
              "<table border=\"1\" class=\"dataframe\">\n",
              "  <thead>\n",
              "    <tr style=\"text-align: right;\">\n",
              "      <th></th>\n",
              "      <th>Serial Number</th>\n",
              "      <th>List Year</th>\n",
              "      <th>Date Recorded</th>\n",
              "      <th>Town</th>\n",
              "      <th>Address</th>\n",
              "      <th>Assessed Value</th>\n",
              "      <th>Sale Amount</th>\n",
              "      <th>Sales Ratio</th>\n",
              "      <th>Property Type</th>\n",
              "      <th>Residential Type</th>\n",
              "      <th>Non Use Code</th>\n",
              "      <th>Assessor Remarks</th>\n",
              "      <th>OPM remarks</th>\n",
              "      <th>Location</th>\n",
              "    </tr>\n",
              "  </thead>\n",
              "  <tbody>\n",
              "    <tr>\n",
              "      <th>0</th>\n",
              "      <td>2020348</td>\n",
              "      <td>2020</td>\n",
              "      <td>09/13/2021</td>\n",
              "      <td>Ansonia</td>\n",
              "      <td>230 WAKELEE AVE</td>\n",
              "      <td>150500.0</td>\n",
              "      <td>325000.0</td>\n",
              "      <td>0.463000</td>\n",
              "      <td>Commercial</td>\n",
              "      <td>NaN</td>\n",
              "      <td>NaN</td>\n",
              "      <td>NaN</td>\n",
              "      <td>NaN</td>\n",
              "      <td>NaN</td>\n",
              "    </tr>\n",
              "    <tr>\n",
              "      <th>1</th>\n",
              "      <td>20002</td>\n",
              "      <td>2020</td>\n",
              "      <td>10/02/2020</td>\n",
              "      <td>Ashford</td>\n",
              "      <td>390 TURNPIKE RD</td>\n",
              "      <td>253000.0</td>\n",
              "      <td>430000.0</td>\n",
              "      <td>0.588300</td>\n",
              "      <td>Residential</td>\n",
              "      <td>Single Family</td>\n",
              "      <td>NaN</td>\n",
              "      <td>NaN</td>\n",
              "      <td>NaN</td>\n",
              "      <td>NaN</td>\n",
              "    </tr>\n",
              "    <tr>\n",
              "      <th>2</th>\n",
              "      <td>200212</td>\n",
              "      <td>2020</td>\n",
              "      <td>03/09/2021</td>\n",
              "      <td>Avon</td>\n",
              "      <td>5 CHESTNUT DRIVE</td>\n",
              "      <td>130400.0</td>\n",
              "      <td>179900.0</td>\n",
              "      <td>0.724800</td>\n",
              "      <td>Residential</td>\n",
              "      <td>Condo</td>\n",
              "      <td>NaN</td>\n",
              "      <td>NaN</td>\n",
              "      <td>NaN</td>\n",
              "      <td>NaN</td>\n",
              "    </tr>\n",
              "    <tr>\n",
              "      <th>3</th>\n",
              "      <td>200243</td>\n",
              "      <td>2020</td>\n",
              "      <td>04/13/2021</td>\n",
              "      <td>Avon</td>\n",
              "      <td>111 NORTHINGTON DRIVE</td>\n",
              "      <td>619290.0</td>\n",
              "      <td>890000.0</td>\n",
              "      <td>0.695800</td>\n",
              "      <td>Residential</td>\n",
              "      <td>Single Family</td>\n",
              "      <td>NaN</td>\n",
              "      <td>NaN</td>\n",
              "      <td>NaN</td>\n",
              "      <td>NaN</td>\n",
              "    </tr>\n",
              "    <tr>\n",
              "      <th>4</th>\n",
              "      <td>200377</td>\n",
              "      <td>2020</td>\n",
              "      <td>07/02/2021</td>\n",
              "      <td>Avon</td>\n",
              "      <td>70 FAR HILLS DRIVE</td>\n",
              "      <td>862330.0</td>\n",
              "      <td>1447500.0</td>\n",
              "      <td>0.595700</td>\n",
              "      <td>Residential</td>\n",
              "      <td>Single Family</td>\n",
              "      <td>NaN</td>\n",
              "      <td>NaN</td>\n",
              "      <td>NaN</td>\n",
              "      <td>NaN</td>\n",
              "    </tr>\n",
              "    <tr>\n",
              "      <th>...</th>\n",
              "      <td>...</td>\n",
              "      <td>...</td>\n",
              "      <td>...</td>\n",
              "      <td>...</td>\n",
              "      <td>...</td>\n",
              "      <td>...</td>\n",
              "      <td>...</td>\n",
              "      <td>...</td>\n",
              "      <td>...</td>\n",
              "      <td>...</td>\n",
              "      <td>...</td>\n",
              "      <td>...</td>\n",
              "      <td>...</td>\n",
              "      <td>...</td>\n",
              "    </tr>\n",
              "    <tr>\n",
              "      <th>997208</th>\n",
              "      <td>190272</td>\n",
              "      <td>2019</td>\n",
              "      <td>06/24/2020</td>\n",
              "      <td>New London</td>\n",
              "      <td>4 BISHOP CT</td>\n",
              "      <td>60410.0</td>\n",
              "      <td>53100.0</td>\n",
              "      <td>1.137665</td>\n",
              "      <td>Single Family</td>\n",
              "      <td>Single Family</td>\n",
              "      <td>14 - Foreclosure</td>\n",
              "      <td>NaN</td>\n",
              "      <td>NaN</td>\n",
              "      <td>NaN</td>\n",
              "    </tr>\n",
              "    <tr>\n",
              "      <th>997209</th>\n",
              "      <td>190284</td>\n",
              "      <td>2019</td>\n",
              "      <td>11/27/2019</td>\n",
              "      <td>Waterbury</td>\n",
              "      <td>126 PERKINS AVE</td>\n",
              "      <td>68280.0</td>\n",
              "      <td>76000.0</td>\n",
              "      <td>0.898400</td>\n",
              "      <td>Single Family</td>\n",
              "      <td>Single Family</td>\n",
              "      <td>25 - Other</td>\n",
              "      <td>PRIVATE SALE</td>\n",
              "      <td>NaN</td>\n",
              "      <td>NaN</td>\n",
              "    </tr>\n",
              "    <tr>\n",
              "      <th>997210</th>\n",
              "      <td>190129</td>\n",
              "      <td>2019</td>\n",
              "      <td>04/27/2020</td>\n",
              "      <td>Windsor Locks</td>\n",
              "      <td>19 HATHAWAY ST</td>\n",
              "      <td>121450.0</td>\n",
              "      <td>210000.0</td>\n",
              "      <td>0.578300</td>\n",
              "      <td>Single Family</td>\n",
              "      <td>Single Family</td>\n",
              "      <td>NaN</td>\n",
              "      <td>NaN</td>\n",
              "      <td>NaN</td>\n",
              "      <td>NaN</td>\n",
              "    </tr>\n",
              "    <tr>\n",
              "      <th>997211</th>\n",
              "      <td>190504</td>\n",
              "      <td>2019</td>\n",
              "      <td>06/03/2020</td>\n",
              "      <td>Middletown</td>\n",
              "      <td>8 BYSTREK DR</td>\n",
              "      <td>203360.0</td>\n",
              "      <td>280000.0</td>\n",
              "      <td>0.726300</td>\n",
              "      <td>Single Family</td>\n",
              "      <td>Single Family</td>\n",
              "      <td>NaN</td>\n",
              "      <td>NaN</td>\n",
              "      <td>NaN</td>\n",
              "      <td>NaN</td>\n",
              "    </tr>\n",
              "    <tr>\n",
              "      <th>997212</th>\n",
              "      <td>190344</td>\n",
              "      <td>2019</td>\n",
              "      <td>12/20/2019</td>\n",
              "      <td>Milford</td>\n",
              "      <td>250 RESEARCH DR</td>\n",
              "      <td>4035970.0</td>\n",
              "      <td>7450000.0</td>\n",
              "      <td>0.541700</td>\n",
              "      <td>NaN</td>\n",
              "      <td>NaN</td>\n",
              "      <td>NaN</td>\n",
              "      <td>NaN</td>\n",
              "      <td>NaN</td>\n",
              "      <td>NaN</td>\n",
              "    </tr>\n",
              "  </tbody>\n",
              "</table>\n",
              "<p>997213 rows × 14 columns</p>\n",
              "</div>\n",
              "      <button class=\"colab-df-convert\" onclick=\"convertToInteractive('df-3a564fb2-4c97-4dda-84c2-5db980ac2a43')\"\n",
              "              title=\"Convert this dataframe to an interactive table.\"\n",
              "              style=\"display:none;\">\n",
              "        \n",
              "  <svg xmlns=\"http://www.w3.org/2000/svg\" height=\"24px\"viewBox=\"0 0 24 24\"\n",
              "       width=\"24px\">\n",
              "    <path d=\"M0 0h24v24H0V0z\" fill=\"none\"/>\n",
              "    <path d=\"M18.56 5.44l.94 2.06.94-2.06 2.06-.94-2.06-.94-.94-2.06-.94 2.06-2.06.94zm-11 1L8.5 8.5l.94-2.06 2.06-.94-2.06-.94L8.5 2.5l-.94 2.06-2.06.94zm10 10l.94 2.06.94-2.06 2.06-.94-2.06-.94-.94-2.06-.94 2.06-2.06.94z\"/><path d=\"M17.41 7.96l-1.37-1.37c-.4-.4-.92-.59-1.43-.59-.52 0-1.04.2-1.43.59L10.3 9.45l-7.72 7.72c-.78.78-.78 2.05 0 2.83L4 21.41c.39.39.9.59 1.41.59.51 0 1.02-.2 1.41-.59l7.78-7.78 2.81-2.81c.8-.78.8-2.07 0-2.86zM5.41 20L4 18.59l7.72-7.72 1.47 1.35L5.41 20z\"/>\n",
              "  </svg>\n",
              "      </button>\n",
              "      \n",
              "  <style>\n",
              "    .colab-df-container {\n",
              "      display:flex;\n",
              "      flex-wrap:wrap;\n",
              "      gap: 12px;\n",
              "    }\n",
              "\n",
              "    .colab-df-convert {\n",
              "      background-color: #E8F0FE;\n",
              "      border: none;\n",
              "      border-radius: 50%;\n",
              "      cursor: pointer;\n",
              "      display: none;\n",
              "      fill: #1967D2;\n",
              "      height: 32px;\n",
              "      padding: 0 0 0 0;\n",
              "      width: 32px;\n",
              "    }\n",
              "\n",
              "    .colab-df-convert:hover {\n",
              "      background-color: #E2EBFA;\n",
              "      box-shadow: 0px 1px 2px rgba(60, 64, 67, 0.3), 0px 1px 3px 1px rgba(60, 64, 67, 0.15);\n",
              "      fill: #174EA6;\n",
              "    }\n",
              "\n",
              "    [theme=dark] .colab-df-convert {\n",
              "      background-color: #3B4455;\n",
              "      fill: #D2E3FC;\n",
              "    }\n",
              "\n",
              "    [theme=dark] .colab-df-convert:hover {\n",
              "      background-color: #434B5C;\n",
              "      box-shadow: 0px 1px 3px 1px rgba(0, 0, 0, 0.15);\n",
              "      filter: drop-shadow(0px 1px 2px rgba(0, 0, 0, 0.3));\n",
              "      fill: #FFFFFF;\n",
              "    }\n",
              "  </style>\n",
              "\n",
              "      <script>\n",
              "        const buttonEl =\n",
              "          document.querySelector('#df-3a564fb2-4c97-4dda-84c2-5db980ac2a43 button.colab-df-convert');\n",
              "        buttonEl.style.display =\n",
              "          google.colab.kernel.accessAllowed ? 'block' : 'none';\n",
              "\n",
              "        async function convertToInteractive(key) {\n",
              "          const element = document.querySelector('#df-3a564fb2-4c97-4dda-84c2-5db980ac2a43');\n",
              "          const dataTable =\n",
              "            await google.colab.kernel.invokeFunction('convertToInteractive',\n",
              "                                                     [key], {});\n",
              "          if (!dataTable) return;\n",
              "\n",
              "          const docLinkHtml = 'Like what you see? Visit the ' +\n",
              "            '<a target=\"_blank\" href=https://colab.research.google.com/notebooks/data_table.ipynb>data table notebook</a>'\n",
              "            + ' to learn more about interactive tables.';\n",
              "          element.innerHTML = '';\n",
              "          dataTable['output_type'] = 'display_data';\n",
              "          await google.colab.output.renderOutput(dataTable, element);\n",
              "          const docLink = document.createElement('div');\n",
              "          docLink.innerHTML = docLinkHtml;\n",
              "          element.appendChild(docLink);\n",
              "        }\n",
              "      </script>\n",
              "    </div>\n",
              "  </div>\n",
              "  "
            ]
          },
          "metadata": {},
          "execution_count": 24
        }
      ]
    },
    {
      "cell_type": "markdown",
      "source": [
        "Data diatas didapatkan dari hasil import dari link file yang sudah kita masukkan"
      ],
      "metadata": {
        "id": "6viJ6gtCe5cy"
      }
    },
    {
      "cell_type": "code",
      "source": [
        "dataset = pd.DataFrame(dataset)\n",
        "dataset.replace(r'unknown', np.nan, inplace = True)\n",
        "dataset.head()"
      ],
      "metadata": {
        "colab": {
          "base_uri": "https://localhost:8080/",
          "height": 206
        },
        "id": "Y9p5TvsUhf0Q",
        "outputId": "e531522a-69ac-4bee-9887-738073dbf855"
      },
      "execution_count": 25,
      "outputs": [
        {
          "output_type": "execute_result",
          "data": {
            "text/plain": [
              "   Serial Number  List Year Date Recorded     Town                Address  \\\n",
              "0        2020348       2020    09/13/2021  Ansonia        230 WAKELEE AVE   \n",
              "1          20002       2020    10/02/2020  Ashford        390 TURNPIKE RD   \n",
              "2         200212       2020    03/09/2021     Avon       5 CHESTNUT DRIVE   \n",
              "3         200243       2020    04/13/2021     Avon  111 NORTHINGTON DRIVE   \n",
              "4         200377       2020    07/02/2021     Avon     70 FAR HILLS DRIVE   \n",
              "\n",
              "   Assessed Value  Sale Amount  Sales Ratio Property Type Residential Type  \\\n",
              "0        150500.0     325000.0       0.4630    Commercial              NaN   \n",
              "1        253000.0     430000.0       0.5883   Residential    Single Family   \n",
              "2        130400.0     179900.0       0.7248   Residential            Condo   \n",
              "3        619290.0     890000.0       0.6958   Residential    Single Family   \n",
              "4        862330.0    1447500.0       0.5957   Residential    Single Family   \n",
              "\n",
              "  Non Use Code Assessor Remarks OPM remarks Location  \n",
              "0          NaN              NaN         NaN      NaN  \n",
              "1          NaN              NaN         NaN      NaN  \n",
              "2          NaN              NaN         NaN      NaN  \n",
              "3          NaN              NaN         NaN      NaN  \n",
              "4          NaN              NaN         NaN      NaN  "
            ],
            "text/html": [
              "\n",
              "  <div id=\"df-74126347-744f-469a-883d-30b3be2d1a51\">\n",
              "    <div class=\"colab-df-container\">\n",
              "      <div>\n",
              "<style scoped>\n",
              "    .dataframe tbody tr th:only-of-type {\n",
              "        vertical-align: middle;\n",
              "    }\n",
              "\n",
              "    .dataframe tbody tr th {\n",
              "        vertical-align: top;\n",
              "    }\n",
              "\n",
              "    .dataframe thead th {\n",
              "        text-align: right;\n",
              "    }\n",
              "</style>\n",
              "<table border=\"1\" class=\"dataframe\">\n",
              "  <thead>\n",
              "    <tr style=\"text-align: right;\">\n",
              "      <th></th>\n",
              "      <th>Serial Number</th>\n",
              "      <th>List Year</th>\n",
              "      <th>Date Recorded</th>\n",
              "      <th>Town</th>\n",
              "      <th>Address</th>\n",
              "      <th>Assessed Value</th>\n",
              "      <th>Sale Amount</th>\n",
              "      <th>Sales Ratio</th>\n",
              "      <th>Property Type</th>\n",
              "      <th>Residential Type</th>\n",
              "      <th>Non Use Code</th>\n",
              "      <th>Assessor Remarks</th>\n",
              "      <th>OPM remarks</th>\n",
              "      <th>Location</th>\n",
              "    </tr>\n",
              "  </thead>\n",
              "  <tbody>\n",
              "    <tr>\n",
              "      <th>0</th>\n",
              "      <td>2020348</td>\n",
              "      <td>2020</td>\n",
              "      <td>09/13/2021</td>\n",
              "      <td>Ansonia</td>\n",
              "      <td>230 WAKELEE AVE</td>\n",
              "      <td>150500.0</td>\n",
              "      <td>325000.0</td>\n",
              "      <td>0.4630</td>\n",
              "      <td>Commercial</td>\n",
              "      <td>NaN</td>\n",
              "      <td>NaN</td>\n",
              "      <td>NaN</td>\n",
              "      <td>NaN</td>\n",
              "      <td>NaN</td>\n",
              "    </tr>\n",
              "    <tr>\n",
              "      <th>1</th>\n",
              "      <td>20002</td>\n",
              "      <td>2020</td>\n",
              "      <td>10/02/2020</td>\n",
              "      <td>Ashford</td>\n",
              "      <td>390 TURNPIKE RD</td>\n",
              "      <td>253000.0</td>\n",
              "      <td>430000.0</td>\n",
              "      <td>0.5883</td>\n",
              "      <td>Residential</td>\n",
              "      <td>Single Family</td>\n",
              "      <td>NaN</td>\n",
              "      <td>NaN</td>\n",
              "      <td>NaN</td>\n",
              "      <td>NaN</td>\n",
              "    </tr>\n",
              "    <tr>\n",
              "      <th>2</th>\n",
              "      <td>200212</td>\n",
              "      <td>2020</td>\n",
              "      <td>03/09/2021</td>\n",
              "      <td>Avon</td>\n",
              "      <td>5 CHESTNUT DRIVE</td>\n",
              "      <td>130400.0</td>\n",
              "      <td>179900.0</td>\n",
              "      <td>0.7248</td>\n",
              "      <td>Residential</td>\n",
              "      <td>Condo</td>\n",
              "      <td>NaN</td>\n",
              "      <td>NaN</td>\n",
              "      <td>NaN</td>\n",
              "      <td>NaN</td>\n",
              "    </tr>\n",
              "    <tr>\n",
              "      <th>3</th>\n",
              "      <td>200243</td>\n",
              "      <td>2020</td>\n",
              "      <td>04/13/2021</td>\n",
              "      <td>Avon</td>\n",
              "      <td>111 NORTHINGTON DRIVE</td>\n",
              "      <td>619290.0</td>\n",
              "      <td>890000.0</td>\n",
              "      <td>0.6958</td>\n",
              "      <td>Residential</td>\n",
              "      <td>Single Family</td>\n",
              "      <td>NaN</td>\n",
              "      <td>NaN</td>\n",
              "      <td>NaN</td>\n",
              "      <td>NaN</td>\n",
              "    </tr>\n",
              "    <tr>\n",
              "      <th>4</th>\n",
              "      <td>200377</td>\n",
              "      <td>2020</td>\n",
              "      <td>07/02/2021</td>\n",
              "      <td>Avon</td>\n",
              "      <td>70 FAR HILLS DRIVE</td>\n",
              "      <td>862330.0</td>\n",
              "      <td>1447500.0</td>\n",
              "      <td>0.5957</td>\n",
              "      <td>Residential</td>\n",
              "      <td>Single Family</td>\n",
              "      <td>NaN</td>\n",
              "      <td>NaN</td>\n",
              "      <td>NaN</td>\n",
              "      <td>NaN</td>\n",
              "    </tr>\n",
              "  </tbody>\n",
              "</table>\n",
              "</div>\n",
              "      <button class=\"colab-df-convert\" onclick=\"convertToInteractive('df-74126347-744f-469a-883d-30b3be2d1a51')\"\n",
              "              title=\"Convert this dataframe to an interactive table.\"\n",
              "              style=\"display:none;\">\n",
              "        \n",
              "  <svg xmlns=\"http://www.w3.org/2000/svg\" height=\"24px\"viewBox=\"0 0 24 24\"\n",
              "       width=\"24px\">\n",
              "    <path d=\"M0 0h24v24H0V0z\" fill=\"none\"/>\n",
              "    <path d=\"M18.56 5.44l.94 2.06.94-2.06 2.06-.94-2.06-.94-.94-2.06-.94 2.06-2.06.94zm-11 1L8.5 8.5l.94-2.06 2.06-.94-2.06-.94L8.5 2.5l-.94 2.06-2.06.94zm10 10l.94 2.06.94-2.06 2.06-.94-2.06-.94-.94-2.06-.94 2.06-2.06.94z\"/><path d=\"M17.41 7.96l-1.37-1.37c-.4-.4-.92-.59-1.43-.59-.52 0-1.04.2-1.43.59L10.3 9.45l-7.72 7.72c-.78.78-.78 2.05 0 2.83L4 21.41c.39.39.9.59 1.41.59.51 0 1.02-.2 1.41-.59l7.78-7.78 2.81-2.81c.8-.78.8-2.07 0-2.86zM5.41 20L4 18.59l7.72-7.72 1.47 1.35L5.41 20z\"/>\n",
              "  </svg>\n",
              "      </button>\n",
              "      \n",
              "  <style>\n",
              "    .colab-df-container {\n",
              "      display:flex;\n",
              "      flex-wrap:wrap;\n",
              "      gap: 12px;\n",
              "    }\n",
              "\n",
              "    .colab-df-convert {\n",
              "      background-color: #E8F0FE;\n",
              "      border: none;\n",
              "      border-radius: 50%;\n",
              "      cursor: pointer;\n",
              "      display: none;\n",
              "      fill: #1967D2;\n",
              "      height: 32px;\n",
              "      padding: 0 0 0 0;\n",
              "      width: 32px;\n",
              "    }\n",
              "\n",
              "    .colab-df-convert:hover {\n",
              "      background-color: #E2EBFA;\n",
              "      box-shadow: 0px 1px 2px rgba(60, 64, 67, 0.3), 0px 1px 3px 1px rgba(60, 64, 67, 0.15);\n",
              "      fill: #174EA6;\n",
              "    }\n",
              "\n",
              "    [theme=dark] .colab-df-convert {\n",
              "      background-color: #3B4455;\n",
              "      fill: #D2E3FC;\n",
              "    }\n",
              "\n",
              "    [theme=dark] .colab-df-convert:hover {\n",
              "      background-color: #434B5C;\n",
              "      box-shadow: 0px 1px 3px 1px rgba(0, 0, 0, 0.15);\n",
              "      filter: drop-shadow(0px 1px 2px rgba(0, 0, 0, 0.3));\n",
              "      fill: #FFFFFF;\n",
              "    }\n",
              "  </style>\n",
              "\n",
              "      <script>\n",
              "        const buttonEl =\n",
              "          document.querySelector('#df-74126347-744f-469a-883d-30b3be2d1a51 button.colab-df-convert');\n",
              "        buttonEl.style.display =\n",
              "          google.colab.kernel.accessAllowed ? 'block' : 'none';\n",
              "\n",
              "        async function convertToInteractive(key) {\n",
              "          const element = document.querySelector('#df-74126347-744f-469a-883d-30b3be2d1a51');\n",
              "          const dataTable =\n",
              "            await google.colab.kernel.invokeFunction('convertToInteractive',\n",
              "                                                     [key], {});\n",
              "          if (!dataTable) return;\n",
              "\n",
              "          const docLinkHtml = 'Like what you see? Visit the ' +\n",
              "            '<a target=\"_blank\" href=https://colab.research.google.com/notebooks/data_table.ipynb>data table notebook</a>'\n",
              "            + ' to learn more about interactive tables.';\n",
              "          element.innerHTML = '';\n",
              "          dataTable['output_type'] = 'display_data';\n",
              "          await google.colab.output.renderOutput(dataTable, element);\n",
              "          const docLink = document.createElement('div');\n",
              "          docLink.innerHTML = docLinkHtml;\n",
              "          element.appendChild(docLink);\n",
              "        }\n",
              "      </script>\n",
              "    </div>\n",
              "  </div>\n",
              "  "
            ]
          },
          "metadata": {},
          "execution_count": 25
        }
      ]
    },
    {
      "cell_type": "markdown",
      "source": [
        "## 2. Exploratory Data"
      ],
      "metadata": {
        "id": "UDDwMkOVdAS-"
      }
    },
    {
      "cell_type": "markdown",
      "source": [
        "**Setelah itu melakukan penyelidikian dari data yang ada**"
      ],
      "metadata": {
        "id": "gvN2mvyrbK6E"
      }
    },
    {
      "cell_type": "markdown",
      "source": [
        "**Mencari berapa ukuran dari dataset**\n",
        "terdapat 997213 baris dengan 14 kolom"
      ],
      "metadata": {
        "id": "Gm62fuFzbSEz"
      }
    },
    {
      "cell_type": "code",
      "source": [
        "dataset.shape"
      ],
      "metadata": {
        "colab": {
          "base_uri": "https://localhost:8080/"
        },
        "id": "gfY3IjMzdDsN",
        "outputId": "ba998a23-461b-4cb5-bdb9-536ef8534948"
      },
      "execution_count": 26,
      "outputs": [
        {
          "output_type": "execute_result",
          "data": {
            "text/plain": [
              "(997213, 14)"
            ]
          },
          "metadata": {},
          "execution_count": 26
        }
      ]
    },
    {
      "cell_type": "markdown",
      "source": [
        "Fungsi dari dataset.shape adalah untuk Melihat ada berapa banyak jumlah data yang menggunakan fungsi dari size"
      ],
      "metadata": {
        "id": "M9LLgjdfbOgC"
      }
    },
    {
      "cell_type": "markdown",
      "source": [
        "**coding ini digunakan untuk mencari ada kolom apa saja pada dataset ini, lalu didapatkan hasil seperti dibawah**"
      ],
      "metadata": {
        "id": "zBl9wvysdf4Z"
      }
    },
    {
      "cell_type": "code",
      "source": [
        "dataset.columns"
      ],
      "metadata": {
        "colab": {
          "base_uri": "https://localhost:8080/"
        },
        "id": "v2bT3bcCdad5",
        "outputId": "56a82d51-4f3f-46ff-e01c-3601ee4e98ed"
      },
      "execution_count": 27,
      "outputs": [
        {
          "output_type": "execute_result",
          "data": {
            "text/plain": [
              "Index(['Serial Number', 'List Year', 'Date Recorded', 'Town', 'Address',\n",
              "       'Assessed Value', 'Sale Amount', 'Sales Ratio', 'Property Type',\n",
              "       'Residential Type', 'Non Use Code', 'Assessor Remarks', 'OPM remarks',\n",
              "       'Location'],\n",
              "      dtype='object')"
            ]
          },
          "metadata": {},
          "execution_count": 27
        }
      ]
    },
    {
      "cell_type": "markdown",
      "source": [
        "**Coding dibawah ini digunakan untuk mengetahui data yang ada pada dataset masuk kedalam type apa**"
      ],
      "metadata": {
        "id": "DLS0LkRQdpbW"
      }
    },
    {
      "cell_type": "code",
      "source": [
        "dataset.dtypes"
      ],
      "metadata": {
        "colab": {
          "base_uri": "https://localhost:8080/"
        },
        "id": "DGucyPqGdstV",
        "outputId": "f46f8399-da38-4065-8f21-2f96f159e650"
      },
      "execution_count": 28,
      "outputs": [
        {
          "output_type": "execute_result",
          "data": {
            "text/plain": [
              "Serial Number         int64\n",
              "List Year             int64\n",
              "Date Recorded        object\n",
              "Town                 object\n",
              "Address              object\n",
              "Assessed Value      float64\n",
              "Sale Amount         float64\n",
              "Sales Ratio         float64\n",
              "Property Type        object\n",
              "Residential Type     object\n",
              "Non Use Code         object\n",
              "Assessor Remarks     object\n",
              "OPM remarks          object\n",
              "Location             object\n",
              "dtype: object"
            ]
          },
          "metadata": {},
          "execution_count": 28
        }
      ]
    },
    {
      "cell_type": "markdown",
      "source": [
        "**Coding dibawah ini memberikan informasi terkait banyaknya jumlah data yang ada di setiap kolom beserta jenis dari type datanya, serta jumlah memori yang digunakan untuk data dibawah ini**"
      ],
      "metadata": {
        "id": "GQKM0rdcd-Da"
      }
    },
    {
      "cell_type": "code",
      "source": [
        "dataset.info()"
      ],
      "metadata": {
        "colab": {
          "base_uri": "https://localhost:8080/"
        },
        "id": "R5lpoJMgdqdl",
        "outputId": "0310c982-c1b7-45db-c7f3-113ef9b43026"
      },
      "execution_count": 29,
      "outputs": [
        {
          "output_type": "stream",
          "name": "stdout",
          "text": [
            "<class 'pandas.core.frame.DataFrame'>\n",
            "RangeIndex: 997213 entries, 0 to 997212\n",
            "Data columns (total 14 columns):\n",
            " #   Column            Non-Null Count   Dtype  \n",
            "---  ------            --------------   -----  \n",
            " 0   Serial Number     997213 non-null  int64  \n",
            " 1   List Year         997213 non-null  int64  \n",
            " 2   Date Recorded     997211 non-null  object \n",
            " 3   Town              997213 non-null  object \n",
            " 4   Address           997162 non-null  object \n",
            " 5   Assessed Value    997213 non-null  float64\n",
            " 6   Sale Amount       997213 non-null  float64\n",
            " 7   Sales Ratio       997213 non-null  float64\n",
            " 8   Property Type     614767 non-null  object \n",
            " 9   Residential Type  608904 non-null  object \n",
            " 10  Non Use Code      289681 non-null  object \n",
            " 11  Assessor Remarks  149830 non-null  object \n",
            " 12  OPM remarks       9934 non-null    object \n",
            " 13  Location          197697 non-null  object \n",
            "dtypes: float64(3), int64(2), object(9)\n",
            "memory usage: 106.5+ MB\n"
          ]
        }
      ]
    },
    {
      "cell_type": "markdown",
      "source": [
        "Coding diatas menunjukkan bahwa dataset diatas bertype float sebanyak 3 kolom data, integer sebanyak 2 kolom data, dan object sebanyak 9 kolom data"
      ],
      "metadata": {
        "id": "zq_OlcqzimQI"
      }
    },
    {
      "cell_type": "markdown",
      "source": [
        "**Coding dibawah ini digunakan untuk menghitung jumlah nilai unik dalam dataset dibawah ini**"
      ],
      "metadata": {
        "id": "r8TaplpVgF7c"
      }
    },
    {
      "cell_type": "code",
      "source": [
        "dataset.nunique()"
      ],
      "metadata": {
        "colab": {
          "base_uri": "https://localhost:8080/"
        },
        "id": "iAJrbGiuf-8c",
        "outputId": "f8540924-a524-403b-d100-9e0b29b5b8d0"
      },
      "execution_count": 30,
      "outputs": [
        {
          "output_type": "execute_result",
          "data": {
            "text/plain": [
              "Serial Number        83537\n",
              "List Year               20\n",
              "Date Recorded         6387\n",
              "Town                   170\n",
              "Address             714371\n",
              "Assessed Value       91378\n",
              "Sale Amount          57372\n",
              "Sales Ratio         547044\n",
              "Property Type           11\n",
              "Residential Type         5\n",
              "Non Use Code           106\n",
              "Assessor Remarks     66507\n",
              "OPM remarks           4825\n",
              "Location            130529\n",
              "dtype: int64"
            ]
          },
          "metadata": {},
          "execution_count": 30
        }
      ]
    },
    {
      "cell_type": "markdown",
      "source": [
        "Coding diatas berguna untuk mengembalikan jumlah dari nilai unik, sehingga perlu memperhatikan nilai dari NaN yang tidak akan dilakukan perhitungan "
      ],
      "metadata": {
        "id": "6IKp9rAqbkxj"
      }
    },
    {
      "cell_type": "markdown",
      "source": [
        "**2.1 Handling Missing Value**"
      ],
      "metadata": {
        "id": "SsvcPPw9ekvS"
      }
    },
    {
      "cell_type": "markdown",
      "source": [
        "Let's assume unknown value as missing value since unknown means not known or no values"
      ],
      "metadata": {
        "id": "tkkOl04Ee_xV"
      }
    },
    {
      "cell_type": "markdown",
      "source": [
        "**coding dibawah berfungsi untuk menghitung jumlah nilai yang hilang dalam setiap kolom dataset yang digunakan**"
      ],
      "metadata": {
        "id": "rmsTFeaRghhR"
      }
    },
    {
      "cell_type": "code",
      "source": [
        "dataset.isnull().sum()"
      ],
      "metadata": {
        "colab": {
          "base_uri": "https://localhost:8080/"
        },
        "id": "rsrJsSO8fW7M",
        "outputId": "1e5fdced-1ec3-44a4-da23-7b0936513463"
      },
      "execution_count": 31,
      "outputs": [
        {
          "output_type": "execute_result",
          "data": {
            "text/plain": [
              "Serial Number            0\n",
              "List Year                0\n",
              "Date Recorded            2\n",
              "Town                     0\n",
              "Address                 51\n",
              "Assessed Value           0\n",
              "Sale Amount              0\n",
              "Sales Ratio              0\n",
              "Property Type       382446\n",
              "Residential Type    388309\n",
              "Non Use Code        707532\n",
              "Assessor Remarks    847383\n",
              "OPM remarks         987279\n",
              "Location            799516\n",
              "dtype: int64"
            ]
          },
          "metadata": {},
          "execution_count": 31
        }
      ]
    },
    {
      "cell_type": "markdown",
      "source": [
        "Fungsi dari coding diatas adalah untuk merapihkan suatu kolom yang datanya ada atau tidak. Jika data nya tidak ada pada kolom maka diberikan data pengganti. Seperti contoh diatas ada data terkait opm mark yang jumlahnya ada 987279. Hal tersebut berarti bahwa terdapat data pada kolom tersebut, dan jika tidak ada maka akan berpotensi terjadinya perbedaan hitungan. "
      ],
      "metadata": {
        "id": "oSxazpHmb6M6"
      }
    },
    {
      "cell_type": "markdown",
      "source": [
        "**Coding dibawah ini berarti bahwa data yang ada pada kolom assessed value merupakan data yang float64**"
      ],
      "metadata": {
        "id": "XNbMAV1Ogz9I"
      }
    },
    {
      "cell_type": "code",
      "source": [
        "dataset['Assessed Value'].dtypes"
      ],
      "metadata": {
        "colab": {
          "base_uri": "https://localhost:8080/"
        },
        "id": "hw2FxOlorXI8",
        "outputId": "fc82819d-7449-4bc0-c040-72f7351075de"
      },
      "execution_count": 32,
      "outputs": [
        {
          "output_type": "execute_result",
          "data": {
            "text/plain": [
              "dtype('float64')"
            ]
          },
          "metadata": {},
          "execution_count": 32
        }
      ]
    },
    {
      "cell_type": "markdown",
      "source": [
        "****Coding dibawah ini berarti bahwa data yang ada pada kolom Sale Amount merupakan data yang float64****"
      ],
      "metadata": {
        "id": "CJjPhSRYhzXn"
      }
    },
    {
      "cell_type": "code",
      "source": [
        "dataset['Sale Amount'].dtypes"
      ],
      "metadata": {
        "colab": {
          "base_uri": "https://localhost:8080/"
        },
        "id": "1ZQ3-sq0rg0J",
        "outputId": "9174aca2-4c0c-43c3-e750-b321dd8ad3ba"
      },
      "execution_count": 33,
      "outputs": [
        {
          "output_type": "execute_result",
          "data": {
            "text/plain": [
              "dtype('float64')"
            ]
          },
          "metadata": {},
          "execution_count": 33
        }
      ]
    },
    {
      "cell_type": "markdown",
      "source": [
        "****Coding dibawah ini berarti bahwa data yang ada pada kolom Sales Ratio merupakan data yang float64****"
      ],
      "metadata": {
        "id": "BkU519Wdh4th"
      }
    },
    {
      "cell_type": "code",
      "source": [
        "dataset['Sales Ratio'].dtypes"
      ],
      "metadata": {
        "colab": {
          "base_uri": "https://localhost:8080/"
        },
        "id": "VMWvLZjcrkuY",
        "outputId": "00bc7db1-96fc-442a-b449-29c1dd5d1cc3"
      },
      "execution_count": 34,
      "outputs": [
        {
          "output_type": "execute_result",
          "data": {
            "text/plain": [
              "dtype('float64')"
            ]
          },
          "metadata": {},
          "execution_count": 34
        }
      ]
    },
    {
      "cell_type": "markdown",
      "source": [
        "Perform imputer to handle missing value in numerical data"
      ],
      "metadata": {
        "id": "v6QJEYLbpcpG"
      }
    },
    {
      "cell_type": "markdown",
      "source": [
        "**coding dibawah ini untuk menginstall library yang digunakan untuk mengisi nilai-nilai yang hilang**"
      ],
      "metadata": {
        "id": "nhqPfKABh_HM"
      }
    },
    {
      "cell_type": "code",
      "source": [
        "from sklearn.impute import SimpleImputer\n",
        "imputer = SimpleImputer(missing_values= np.nan, strategy='mean')\n",
        "imputer"
      ],
      "metadata": {
        "colab": {
          "base_uri": "https://localhost:8080/",
          "height": 75
        },
        "id": "02J19YzBjpuO",
        "outputId": "3a66edf8-8864-410a-e51c-4e03c6225e23"
      },
      "execution_count": 37,
      "outputs": [
        {
          "output_type": "execute_result",
          "data": {
            "text/plain": [
              "SimpleImputer()"
            ],
            "text/html": [
              "<style>#sk-container-id-1 {color: black;background-color: white;}#sk-container-id-1 pre{padding: 0;}#sk-container-id-1 div.sk-toggleable {background-color: white;}#sk-container-id-1 label.sk-toggleable__label {cursor: pointer;display: block;width: 100%;margin-bottom: 0;padding: 0.3em;box-sizing: border-box;text-align: center;}#sk-container-id-1 label.sk-toggleable__label-arrow:before {content: \"▸\";float: left;margin-right: 0.25em;color: #696969;}#sk-container-id-1 label.sk-toggleable__label-arrow:hover:before {color: black;}#sk-container-id-1 div.sk-estimator:hover label.sk-toggleable__label-arrow:before {color: black;}#sk-container-id-1 div.sk-toggleable__content {max-height: 0;max-width: 0;overflow: hidden;text-align: left;background-color: #f0f8ff;}#sk-container-id-1 div.sk-toggleable__content pre {margin: 0.2em;color: black;border-radius: 0.25em;background-color: #f0f8ff;}#sk-container-id-1 input.sk-toggleable__control:checked~div.sk-toggleable__content {max-height: 200px;max-width: 100%;overflow: auto;}#sk-container-id-1 input.sk-toggleable__control:checked~label.sk-toggleable__label-arrow:before {content: \"▾\";}#sk-container-id-1 div.sk-estimator input.sk-toggleable__control:checked~label.sk-toggleable__label {background-color: #d4ebff;}#sk-container-id-1 div.sk-label input.sk-toggleable__control:checked~label.sk-toggleable__label {background-color: #d4ebff;}#sk-container-id-1 input.sk-hidden--visually {border: 0;clip: rect(1px 1px 1px 1px);clip: rect(1px, 1px, 1px, 1px);height: 1px;margin: -1px;overflow: hidden;padding: 0;position: absolute;width: 1px;}#sk-container-id-1 div.sk-estimator {font-family: monospace;background-color: #f0f8ff;border: 1px dotted black;border-radius: 0.25em;box-sizing: border-box;margin-bottom: 0.5em;}#sk-container-id-1 div.sk-estimator:hover {background-color: #d4ebff;}#sk-container-id-1 div.sk-parallel-item::after {content: \"\";width: 100%;border-bottom: 1px solid gray;flex-grow: 1;}#sk-container-id-1 div.sk-label:hover label.sk-toggleable__label {background-color: #d4ebff;}#sk-container-id-1 div.sk-serial::before {content: \"\";position: absolute;border-left: 1px solid gray;box-sizing: border-box;top: 0;bottom: 0;left: 50%;z-index: 0;}#sk-container-id-1 div.sk-serial {display: flex;flex-direction: column;align-items: center;background-color: white;padding-right: 0.2em;padding-left: 0.2em;position: relative;}#sk-container-id-1 div.sk-item {position: relative;z-index: 1;}#sk-container-id-1 div.sk-parallel {display: flex;align-items: stretch;justify-content: center;background-color: white;position: relative;}#sk-container-id-1 div.sk-item::before, #sk-container-id-1 div.sk-parallel-item::before {content: \"\";position: absolute;border-left: 1px solid gray;box-sizing: border-box;top: 0;bottom: 0;left: 50%;z-index: -1;}#sk-container-id-1 div.sk-parallel-item {display: flex;flex-direction: column;z-index: 1;position: relative;background-color: white;}#sk-container-id-1 div.sk-parallel-item:first-child::after {align-self: flex-end;width: 50%;}#sk-container-id-1 div.sk-parallel-item:last-child::after {align-self: flex-start;width: 50%;}#sk-container-id-1 div.sk-parallel-item:only-child::after {width: 0;}#sk-container-id-1 div.sk-dashed-wrapped {border: 1px dashed gray;margin: 0 0.4em 0.5em 0.4em;box-sizing: border-box;padding-bottom: 0.4em;background-color: white;}#sk-container-id-1 div.sk-label label {font-family: monospace;font-weight: bold;display: inline-block;line-height: 1.2em;}#sk-container-id-1 div.sk-label-container {text-align: center;}#sk-container-id-1 div.sk-container {/* jupyter's `normalize.less` sets `[hidden] { display: none; }` but bootstrap.min.css set `[hidden] { display: none !important; }` so we also need the `!important` here to be able to override the default hidden behavior on the sphinx rendered scikit-learn.org. See: https://github.com/scikit-learn/scikit-learn/issues/21755 */display: inline-block !important;position: relative;}#sk-container-id-1 div.sk-text-repr-fallback {display: none;}</style><div id=\"sk-container-id-1\" class=\"sk-top-container\"><div class=\"sk-text-repr-fallback\"><pre>SimpleImputer()</pre><b>In a Jupyter environment, please rerun this cell to show the HTML representation or trust the notebook. <br />On GitHub, the HTML representation is unable to render, please try loading this page with nbviewer.org.</b></div><div class=\"sk-container\" hidden><div class=\"sk-item\"><div class=\"sk-estimator sk-toggleable\"><input class=\"sk-toggleable__control sk-hidden--visually\" id=\"sk-estimator-id-1\" type=\"checkbox\" checked><label for=\"sk-estimator-id-1\" class=\"sk-toggleable__label sk-toggleable__label-arrow\">SimpleImputer</label><div class=\"sk-toggleable__content\"><pre>SimpleImputer()</pre></div></div></div></div></div>"
            ]
          },
          "metadata": {},
          "execution_count": 37
        }
      ]
    },
    {
      "cell_type": "markdown",
      "source": [
        "Kodingan ini melatih objek imputer yang telah dibuat sebelumnya pada kolom dalam dataset. dalam kasus ini objek imputer akan menghitung nilai dari rata-rata setiap kolom yang akan digunakan sebagai sebuah referensi untuk mengisi nilai disetiap kolom. Dengan menggunkan kodingan tersebut objek imputer akan dilatih dengan data yang ada pada kolom yang telahg di tentukan"
      ],
      "metadata": {
        "id": "8XjwkdV0kv1M"
      }
    },
    {
      "cell_type": "markdown",
      "source": [
        "**Coding dibawah menunjukkan data pada kolom mana saja yang harus ditambahkan nilai karena sebelumnya tidak ada nilainya**"
      ],
      "metadata": {
        "id": "x_9WuS8wi7Mw"
      }
    },
    {
      "cell_type": "code",
      "source": [
        "imputer = imputer.fit(dataset[['Assessed Value','Sale Amount','Sales Ratio']])\n",
        "imputer"
      ],
      "metadata": {
        "colab": {
          "base_uri": "https://localhost:8080/",
          "height": 75
        },
        "id": "RatiEmtpsMxv",
        "outputId": "8307e226-f0b2-4e3d-9566-deba7ae47f1d"
      },
      "execution_count": 38,
      "outputs": [
        {
          "output_type": "execute_result",
          "data": {
            "text/plain": [
              "SimpleImputer()"
            ],
            "text/html": [
              "<style>#sk-container-id-2 {color: black;background-color: white;}#sk-container-id-2 pre{padding: 0;}#sk-container-id-2 div.sk-toggleable {background-color: white;}#sk-container-id-2 label.sk-toggleable__label {cursor: pointer;display: block;width: 100%;margin-bottom: 0;padding: 0.3em;box-sizing: border-box;text-align: center;}#sk-container-id-2 label.sk-toggleable__label-arrow:before {content: \"▸\";float: left;margin-right: 0.25em;color: #696969;}#sk-container-id-2 label.sk-toggleable__label-arrow:hover:before {color: black;}#sk-container-id-2 div.sk-estimator:hover label.sk-toggleable__label-arrow:before {color: black;}#sk-container-id-2 div.sk-toggleable__content {max-height: 0;max-width: 0;overflow: hidden;text-align: left;background-color: #f0f8ff;}#sk-container-id-2 div.sk-toggleable__content pre {margin: 0.2em;color: black;border-radius: 0.25em;background-color: #f0f8ff;}#sk-container-id-2 input.sk-toggleable__control:checked~div.sk-toggleable__content {max-height: 200px;max-width: 100%;overflow: auto;}#sk-container-id-2 input.sk-toggleable__control:checked~label.sk-toggleable__label-arrow:before {content: \"▾\";}#sk-container-id-2 div.sk-estimator input.sk-toggleable__control:checked~label.sk-toggleable__label {background-color: #d4ebff;}#sk-container-id-2 div.sk-label input.sk-toggleable__control:checked~label.sk-toggleable__label {background-color: #d4ebff;}#sk-container-id-2 input.sk-hidden--visually {border: 0;clip: rect(1px 1px 1px 1px);clip: rect(1px, 1px, 1px, 1px);height: 1px;margin: -1px;overflow: hidden;padding: 0;position: absolute;width: 1px;}#sk-container-id-2 div.sk-estimator {font-family: monospace;background-color: #f0f8ff;border: 1px dotted black;border-radius: 0.25em;box-sizing: border-box;margin-bottom: 0.5em;}#sk-container-id-2 div.sk-estimator:hover {background-color: #d4ebff;}#sk-container-id-2 div.sk-parallel-item::after {content: \"\";width: 100%;border-bottom: 1px solid gray;flex-grow: 1;}#sk-container-id-2 div.sk-label:hover label.sk-toggleable__label {background-color: #d4ebff;}#sk-container-id-2 div.sk-serial::before {content: \"\";position: absolute;border-left: 1px solid gray;box-sizing: border-box;top: 0;bottom: 0;left: 50%;z-index: 0;}#sk-container-id-2 div.sk-serial {display: flex;flex-direction: column;align-items: center;background-color: white;padding-right: 0.2em;padding-left: 0.2em;position: relative;}#sk-container-id-2 div.sk-item {position: relative;z-index: 1;}#sk-container-id-2 div.sk-parallel {display: flex;align-items: stretch;justify-content: center;background-color: white;position: relative;}#sk-container-id-2 div.sk-item::before, #sk-container-id-2 div.sk-parallel-item::before {content: \"\";position: absolute;border-left: 1px solid gray;box-sizing: border-box;top: 0;bottom: 0;left: 50%;z-index: -1;}#sk-container-id-2 div.sk-parallel-item {display: flex;flex-direction: column;z-index: 1;position: relative;background-color: white;}#sk-container-id-2 div.sk-parallel-item:first-child::after {align-self: flex-end;width: 50%;}#sk-container-id-2 div.sk-parallel-item:last-child::after {align-self: flex-start;width: 50%;}#sk-container-id-2 div.sk-parallel-item:only-child::after {width: 0;}#sk-container-id-2 div.sk-dashed-wrapped {border: 1px dashed gray;margin: 0 0.4em 0.5em 0.4em;box-sizing: border-box;padding-bottom: 0.4em;background-color: white;}#sk-container-id-2 div.sk-label label {font-family: monospace;font-weight: bold;display: inline-block;line-height: 1.2em;}#sk-container-id-2 div.sk-label-container {text-align: center;}#sk-container-id-2 div.sk-container {/* jupyter's `normalize.less` sets `[hidden] { display: none; }` but bootstrap.min.css set `[hidden] { display: none !important; }` so we also need the `!important` here to be able to override the default hidden behavior on the sphinx rendered scikit-learn.org. See: https://github.com/scikit-learn/scikit-learn/issues/21755 */display: inline-block !important;position: relative;}#sk-container-id-2 div.sk-text-repr-fallback {display: none;}</style><div id=\"sk-container-id-2\" class=\"sk-top-container\"><div class=\"sk-text-repr-fallback\"><pre>SimpleImputer()</pre><b>In a Jupyter environment, please rerun this cell to show the HTML representation or trust the notebook. <br />On GitHub, the HTML representation is unable to render, please try loading this page with nbviewer.org.</b></div><div class=\"sk-container\" hidden><div class=\"sk-item\"><div class=\"sk-estimator sk-toggleable\"><input class=\"sk-toggleable__control sk-hidden--visually\" id=\"sk-estimator-id-2\" type=\"checkbox\" checked><label for=\"sk-estimator-id-2\" class=\"sk-toggleable__label sk-toggleable__label-arrow\">SimpleImputer</label><div class=\"sk-toggleable__content\"><pre>SimpleImputer()</pre></div></div></div></div></div>"
            ]
          },
          "metadata": {},
          "execution_count": 38
        }
      ]
    },
    {
      "cell_type": "markdown",
      "source": [
        "Koding diatas berarti terjadinya import dari library sklearn.impute yang didalamnya di import dari kelas simpleimputer. koding itu digunakan untuk mengisi nilai yang hilang dalam dataset. Kodingan diatas berfungsi untuk melakukan transformasi pada dataset menggunakan imputer yang telah dilatih sebelumnya. baris dari setiap kodingan juga mencetak jumlah dari nilai yang hilang. Saat transformasi telah selesai maka nilai-nilai dari kolom yang kosong akan diisi dengan nilai rata-rata"
      ],
      "metadata": {
        "id": "yDtARKuTYfRV"
      }
    },
    {
      "cell_type": "markdown",
      "source": [
        "**coding dibawah digunakan untuk melihat jumlah dari nilai-nilai dataset yang masih hilang**"
      ],
      "metadata": {
        "id": "6elgj6hzjNU_"
      }
    },
    {
      "cell_type": "code",
      "source": [
        "dataset[['Assessed Value','Sale Amount','Sales Ratio']] = imputer.transform(dataset[['Assessed Value','Sale Amount','Sales Ratio']])\n",
        "dataset.isnull().sum()"
      ],
      "metadata": {
        "colab": {
          "base_uri": "https://localhost:8080/"
        },
        "id": "VRRgnMy9s6t7",
        "outputId": "b6f49075-399c-4ad7-ae6b-0791e95129c4"
      },
      "execution_count": 39,
      "outputs": [
        {
          "output_type": "execute_result",
          "data": {
            "text/plain": [
              "Serial Number            0\n",
              "List Year                0\n",
              "Date Recorded            2\n",
              "Town                     0\n",
              "Address                 51\n",
              "Assessed Value           0\n",
              "Sale Amount              0\n",
              "Sales Ratio              0\n",
              "Property Type       382446\n",
              "Residential Type    388309\n",
              "Non Use Code        707532\n",
              "Assessor Remarks    847383\n",
              "OPM remarks         987279\n",
              "Location            799516\n",
              "dtype: int64"
            ]
          },
          "metadata": {},
          "execution_count": 39
        }
      ]
    },
    {
      "cell_type": "markdown",
      "source": [
        "Kodingan ini mengimport kelas SimpleImputer dari library sklearn.impute yang digunakan untuk mengisi nilai yang hilang (missing values) dalam dataset dengan strategi tertentu."
      ],
      "metadata": {
        "id": "3k7PUXP5kkaG"
      }
    },
    {
      "cell_type": "markdown",
      "source": [
        "Berdasarkan hasil data diatas didapatkan bahwa sudah tidak ada nilai-nilai yang hilang dari setiap kolom"
      ],
      "metadata": {
        "id": "bRF88Pkeji3G"
      }
    },
    {
      "cell_type": "markdown",
      "source": [
        "Using drop column tohandle missing value on categorical or object data"
      ],
      "metadata": {
        "id": "akm-xmRdphDb"
      }
    },
    {
      "cell_type": "markdown",
      "source": [
        "**Coding dibawah digunakan untuk menghapus kolom dataset yang masih memiliki nilai-nilai yang hilang**"
      ],
      "metadata": {
        "id": "ku0Lc3eDjsaR"
      }
    },
    {
      "cell_type": "code",
      "execution_count": 40,
      "metadata": {
        "colab": {
          "base_uri": "https://localhost:8080/"
        },
        "id": "APXYNKqq0J3k",
        "outputId": "01b488b5-5026-4265-e0b5-96df55525694"
      },
      "outputs": [
        {
          "output_type": "execute_result",
          "data": {
            "text/plain": [
              "Serial Number     0\n",
              "List Year         0\n",
              "Town              0\n",
              "Assessed Value    0\n",
              "Sale Amount       0\n",
              "Sales Ratio       0\n",
              "dtype: int64"
            ]
          },
          "metadata": {},
          "execution_count": 40
        }
      ],
      "source": [
        "dataset = dataset.dropna(axis=1)\n",
        "dataset.isnull().sum()"
      ]
    },
    {
      "cell_type": "markdown",
      "source": [
        "berdasarkan data diatas berarti sudah tidak ada kolom yang tidak memiliki nilai atau nilai nya yang hilang"
      ],
      "metadata": {
        "id": "7BaPa3ffkA6x"
      }
    },
    {
      "cell_type": "markdown",
      "source": [
        "drop datetime column since we don't need it, we will use it in the next lecure for forecasting time series data"
      ],
      "metadata": {
        "id": "hqbUmlrTqsed"
      }
    },
    {
      "cell_type": "code",
      "source": [
        "dataset = pd.DataFrame(dataset)\n",
        "dataset.replace(r'unknown', np.nan, inplace = True)\n",
        "dataset.head()"
      ],
      "metadata": {
        "colab": {
          "base_uri": "https://localhost:8080/",
          "height": 206
        },
        "id": "SNsKAtk_lrjG",
        "outputId": "476082d6-df27-4c55-ca11-d0a2938a22e1"
      },
      "execution_count": 41,
      "outputs": [
        {
          "output_type": "execute_result",
          "data": {
            "text/plain": [
              "   Serial Number  List Year     Town  Assessed Value  Sale Amount  Sales Ratio\n",
              "0        2020348       2020  Ansonia        150500.0     325000.0       0.4630\n",
              "1          20002       2020  Ashford        253000.0     430000.0       0.5883\n",
              "2         200212       2020     Avon        130400.0     179900.0       0.7248\n",
              "3         200243       2020     Avon        619290.0     890000.0       0.6958\n",
              "4         200377       2020     Avon        862330.0    1447500.0       0.5957"
            ],
            "text/html": [
              "\n",
              "  <div id=\"df-950dc2b0-aea0-4af5-8d7d-701d3c9169cf\">\n",
              "    <div class=\"colab-df-container\">\n",
              "      <div>\n",
              "<style scoped>\n",
              "    .dataframe tbody tr th:only-of-type {\n",
              "        vertical-align: middle;\n",
              "    }\n",
              "\n",
              "    .dataframe tbody tr th {\n",
              "        vertical-align: top;\n",
              "    }\n",
              "\n",
              "    .dataframe thead th {\n",
              "        text-align: right;\n",
              "    }\n",
              "</style>\n",
              "<table border=\"1\" class=\"dataframe\">\n",
              "  <thead>\n",
              "    <tr style=\"text-align: right;\">\n",
              "      <th></th>\n",
              "      <th>Serial Number</th>\n",
              "      <th>List Year</th>\n",
              "      <th>Town</th>\n",
              "      <th>Assessed Value</th>\n",
              "      <th>Sale Amount</th>\n",
              "      <th>Sales Ratio</th>\n",
              "    </tr>\n",
              "  </thead>\n",
              "  <tbody>\n",
              "    <tr>\n",
              "      <th>0</th>\n",
              "      <td>2020348</td>\n",
              "      <td>2020</td>\n",
              "      <td>Ansonia</td>\n",
              "      <td>150500.0</td>\n",
              "      <td>325000.0</td>\n",
              "      <td>0.4630</td>\n",
              "    </tr>\n",
              "    <tr>\n",
              "      <th>1</th>\n",
              "      <td>20002</td>\n",
              "      <td>2020</td>\n",
              "      <td>Ashford</td>\n",
              "      <td>253000.0</td>\n",
              "      <td>430000.0</td>\n",
              "      <td>0.5883</td>\n",
              "    </tr>\n",
              "    <tr>\n",
              "      <th>2</th>\n",
              "      <td>200212</td>\n",
              "      <td>2020</td>\n",
              "      <td>Avon</td>\n",
              "      <td>130400.0</td>\n",
              "      <td>179900.0</td>\n",
              "      <td>0.7248</td>\n",
              "    </tr>\n",
              "    <tr>\n",
              "      <th>3</th>\n",
              "      <td>200243</td>\n",
              "      <td>2020</td>\n",
              "      <td>Avon</td>\n",
              "      <td>619290.0</td>\n",
              "      <td>890000.0</td>\n",
              "      <td>0.6958</td>\n",
              "    </tr>\n",
              "    <tr>\n",
              "      <th>4</th>\n",
              "      <td>200377</td>\n",
              "      <td>2020</td>\n",
              "      <td>Avon</td>\n",
              "      <td>862330.0</td>\n",
              "      <td>1447500.0</td>\n",
              "      <td>0.5957</td>\n",
              "    </tr>\n",
              "  </tbody>\n",
              "</table>\n",
              "</div>\n",
              "      <button class=\"colab-df-convert\" onclick=\"convertToInteractive('df-950dc2b0-aea0-4af5-8d7d-701d3c9169cf')\"\n",
              "              title=\"Convert this dataframe to an interactive table.\"\n",
              "              style=\"display:none;\">\n",
              "        \n",
              "  <svg xmlns=\"http://www.w3.org/2000/svg\" height=\"24px\"viewBox=\"0 0 24 24\"\n",
              "       width=\"24px\">\n",
              "    <path d=\"M0 0h24v24H0V0z\" fill=\"none\"/>\n",
              "    <path d=\"M18.56 5.44l.94 2.06.94-2.06 2.06-.94-2.06-.94-.94-2.06-.94 2.06-2.06.94zm-11 1L8.5 8.5l.94-2.06 2.06-.94-2.06-.94L8.5 2.5l-.94 2.06-2.06.94zm10 10l.94 2.06.94-2.06 2.06-.94-2.06-.94-.94-2.06-.94 2.06-2.06.94z\"/><path d=\"M17.41 7.96l-1.37-1.37c-.4-.4-.92-.59-1.43-.59-.52 0-1.04.2-1.43.59L10.3 9.45l-7.72 7.72c-.78.78-.78 2.05 0 2.83L4 21.41c.39.39.9.59 1.41.59.51 0 1.02-.2 1.41-.59l7.78-7.78 2.81-2.81c.8-.78.8-2.07 0-2.86zM5.41 20L4 18.59l7.72-7.72 1.47 1.35L5.41 20z\"/>\n",
              "  </svg>\n",
              "      </button>\n",
              "      \n",
              "  <style>\n",
              "    .colab-df-container {\n",
              "      display:flex;\n",
              "      flex-wrap:wrap;\n",
              "      gap: 12px;\n",
              "    }\n",
              "\n",
              "    .colab-df-convert {\n",
              "      background-color: #E8F0FE;\n",
              "      border: none;\n",
              "      border-radius: 50%;\n",
              "      cursor: pointer;\n",
              "      display: none;\n",
              "      fill: #1967D2;\n",
              "      height: 32px;\n",
              "      padding: 0 0 0 0;\n",
              "      width: 32px;\n",
              "    }\n",
              "\n",
              "    .colab-df-convert:hover {\n",
              "      background-color: #E2EBFA;\n",
              "      box-shadow: 0px 1px 2px rgba(60, 64, 67, 0.3), 0px 1px 3px 1px rgba(60, 64, 67, 0.15);\n",
              "      fill: #174EA6;\n",
              "    }\n",
              "\n",
              "    [theme=dark] .colab-df-convert {\n",
              "      background-color: #3B4455;\n",
              "      fill: #D2E3FC;\n",
              "    }\n",
              "\n",
              "    [theme=dark] .colab-df-convert:hover {\n",
              "      background-color: #434B5C;\n",
              "      box-shadow: 0px 1px 3px 1px rgba(0, 0, 0, 0.15);\n",
              "      filter: drop-shadow(0px 1px 2px rgba(0, 0, 0, 0.3));\n",
              "      fill: #FFFFFF;\n",
              "    }\n",
              "  </style>\n",
              "\n",
              "      <script>\n",
              "        const buttonEl =\n",
              "          document.querySelector('#df-950dc2b0-aea0-4af5-8d7d-701d3c9169cf button.colab-df-convert');\n",
              "        buttonEl.style.display =\n",
              "          google.colab.kernel.accessAllowed ? 'block' : 'none';\n",
              "\n",
              "        async function convertToInteractive(key) {\n",
              "          const element = document.querySelector('#df-950dc2b0-aea0-4af5-8d7d-701d3c9169cf');\n",
              "          const dataTable =\n",
              "            await google.colab.kernel.invokeFunction('convertToInteractive',\n",
              "                                                     [key], {});\n",
              "          if (!dataTable) return;\n",
              "\n",
              "          const docLinkHtml = 'Like what you see? Visit the ' +\n",
              "            '<a target=\"_blank\" href=https://colab.research.google.com/notebooks/data_table.ipynb>data table notebook</a>'\n",
              "            + ' to learn more about interactive tables.';\n",
              "          element.innerHTML = '';\n",
              "          dataTable['output_type'] = 'display_data';\n",
              "          await google.colab.output.renderOutput(dataTable, element);\n",
              "          const docLink = document.createElement('div');\n",
              "          docLink.innerHTML = docLinkHtml;\n",
              "          element.appendChild(docLink);\n",
              "        }\n",
              "      </script>\n",
              "    </div>\n",
              "  </div>\n",
              "  "
            ]
          },
          "metadata": {},
          "execution_count": 41
        }
      ]
    },
    {
      "cell_type": "markdown",
      "source": [
        "coding diatas digunakan untuk menggambarkan dataset dalam sebuah frame"
      ],
      "metadata": {
        "id": "QJ8JNQCqlwzi"
      }
    },
    {
      "cell_type": "code",
      "source": [
        "dataset = dataset.dropna(axis=1)\n",
        "dataset.head()"
      ],
      "metadata": {
        "colab": {
          "base_uri": "https://localhost:8080/",
          "height": 206
        },
        "id": "1L4EUo_8l2um",
        "outputId": "2197159e-0f24-4f58-a490-8eb5ba5582f1"
      },
      "execution_count": 42,
      "outputs": [
        {
          "output_type": "execute_result",
          "data": {
            "text/plain": [
              "   Serial Number  List Year     Town  Assessed Value  Sale Amount  Sales Ratio\n",
              "0        2020348       2020  Ansonia        150500.0     325000.0       0.4630\n",
              "1          20002       2020  Ashford        253000.0     430000.0       0.5883\n",
              "2         200212       2020     Avon        130400.0     179900.0       0.7248\n",
              "3         200243       2020     Avon        619290.0     890000.0       0.6958\n",
              "4         200377       2020     Avon        862330.0    1447500.0       0.5957"
            ],
            "text/html": [
              "\n",
              "  <div id=\"df-7396219c-d8ab-4455-8b3c-3c312d0b62d5\">\n",
              "    <div class=\"colab-df-container\">\n",
              "      <div>\n",
              "<style scoped>\n",
              "    .dataframe tbody tr th:only-of-type {\n",
              "        vertical-align: middle;\n",
              "    }\n",
              "\n",
              "    .dataframe tbody tr th {\n",
              "        vertical-align: top;\n",
              "    }\n",
              "\n",
              "    .dataframe thead th {\n",
              "        text-align: right;\n",
              "    }\n",
              "</style>\n",
              "<table border=\"1\" class=\"dataframe\">\n",
              "  <thead>\n",
              "    <tr style=\"text-align: right;\">\n",
              "      <th></th>\n",
              "      <th>Serial Number</th>\n",
              "      <th>List Year</th>\n",
              "      <th>Town</th>\n",
              "      <th>Assessed Value</th>\n",
              "      <th>Sale Amount</th>\n",
              "      <th>Sales Ratio</th>\n",
              "    </tr>\n",
              "  </thead>\n",
              "  <tbody>\n",
              "    <tr>\n",
              "      <th>0</th>\n",
              "      <td>2020348</td>\n",
              "      <td>2020</td>\n",
              "      <td>Ansonia</td>\n",
              "      <td>150500.0</td>\n",
              "      <td>325000.0</td>\n",
              "      <td>0.4630</td>\n",
              "    </tr>\n",
              "    <tr>\n",
              "      <th>1</th>\n",
              "      <td>20002</td>\n",
              "      <td>2020</td>\n",
              "      <td>Ashford</td>\n",
              "      <td>253000.0</td>\n",
              "      <td>430000.0</td>\n",
              "      <td>0.5883</td>\n",
              "    </tr>\n",
              "    <tr>\n",
              "      <th>2</th>\n",
              "      <td>200212</td>\n",
              "      <td>2020</td>\n",
              "      <td>Avon</td>\n",
              "      <td>130400.0</td>\n",
              "      <td>179900.0</td>\n",
              "      <td>0.7248</td>\n",
              "    </tr>\n",
              "    <tr>\n",
              "      <th>3</th>\n",
              "      <td>200243</td>\n",
              "      <td>2020</td>\n",
              "      <td>Avon</td>\n",
              "      <td>619290.0</td>\n",
              "      <td>890000.0</td>\n",
              "      <td>0.6958</td>\n",
              "    </tr>\n",
              "    <tr>\n",
              "      <th>4</th>\n",
              "      <td>200377</td>\n",
              "      <td>2020</td>\n",
              "      <td>Avon</td>\n",
              "      <td>862330.0</td>\n",
              "      <td>1447500.0</td>\n",
              "      <td>0.5957</td>\n",
              "    </tr>\n",
              "  </tbody>\n",
              "</table>\n",
              "</div>\n",
              "      <button class=\"colab-df-convert\" onclick=\"convertToInteractive('df-7396219c-d8ab-4455-8b3c-3c312d0b62d5')\"\n",
              "              title=\"Convert this dataframe to an interactive table.\"\n",
              "              style=\"display:none;\">\n",
              "        \n",
              "  <svg xmlns=\"http://www.w3.org/2000/svg\" height=\"24px\"viewBox=\"0 0 24 24\"\n",
              "       width=\"24px\">\n",
              "    <path d=\"M0 0h24v24H0V0z\" fill=\"none\"/>\n",
              "    <path d=\"M18.56 5.44l.94 2.06.94-2.06 2.06-.94-2.06-.94-.94-2.06-.94 2.06-2.06.94zm-11 1L8.5 8.5l.94-2.06 2.06-.94-2.06-.94L8.5 2.5l-.94 2.06-2.06.94zm10 10l.94 2.06.94-2.06 2.06-.94-2.06-.94-.94-2.06-.94 2.06-2.06.94z\"/><path d=\"M17.41 7.96l-1.37-1.37c-.4-.4-.92-.59-1.43-.59-.52 0-1.04.2-1.43.59L10.3 9.45l-7.72 7.72c-.78.78-.78 2.05 0 2.83L4 21.41c.39.39.9.59 1.41.59.51 0 1.02-.2 1.41-.59l7.78-7.78 2.81-2.81c.8-.78.8-2.07 0-2.86zM5.41 20L4 18.59l7.72-7.72 1.47 1.35L5.41 20z\"/>\n",
              "  </svg>\n",
              "      </button>\n",
              "      \n",
              "  <style>\n",
              "    .colab-df-container {\n",
              "      display:flex;\n",
              "      flex-wrap:wrap;\n",
              "      gap: 12px;\n",
              "    }\n",
              "\n",
              "    .colab-df-convert {\n",
              "      background-color: #E8F0FE;\n",
              "      border: none;\n",
              "      border-radius: 50%;\n",
              "      cursor: pointer;\n",
              "      display: none;\n",
              "      fill: #1967D2;\n",
              "      height: 32px;\n",
              "      padding: 0 0 0 0;\n",
              "      width: 32px;\n",
              "    }\n",
              "\n",
              "    .colab-df-convert:hover {\n",
              "      background-color: #E2EBFA;\n",
              "      box-shadow: 0px 1px 2px rgba(60, 64, 67, 0.3), 0px 1px 3px 1px rgba(60, 64, 67, 0.15);\n",
              "      fill: #174EA6;\n",
              "    }\n",
              "\n",
              "    [theme=dark] .colab-df-convert {\n",
              "      background-color: #3B4455;\n",
              "      fill: #D2E3FC;\n",
              "    }\n",
              "\n",
              "    [theme=dark] .colab-df-convert:hover {\n",
              "      background-color: #434B5C;\n",
              "      box-shadow: 0px 1px 3px 1px rgba(0, 0, 0, 0.15);\n",
              "      filter: drop-shadow(0px 1px 2px rgba(0, 0, 0, 0.3));\n",
              "      fill: #FFFFFF;\n",
              "    }\n",
              "  </style>\n",
              "\n",
              "      <script>\n",
              "        const buttonEl =\n",
              "          document.querySelector('#df-7396219c-d8ab-4455-8b3c-3c312d0b62d5 button.colab-df-convert');\n",
              "        buttonEl.style.display =\n",
              "          google.colab.kernel.accessAllowed ? 'block' : 'none';\n",
              "\n",
              "        async function convertToInteractive(key) {\n",
              "          const element = document.querySelector('#df-7396219c-d8ab-4455-8b3c-3c312d0b62d5');\n",
              "          const dataTable =\n",
              "            await google.colab.kernel.invokeFunction('convertToInteractive',\n",
              "                                                     [key], {});\n",
              "          if (!dataTable) return;\n",
              "\n",
              "          const docLinkHtml = 'Like what you see? Visit the ' +\n",
              "            '<a target=\"_blank\" href=https://colab.research.google.com/notebooks/data_table.ipynb>data table notebook</a>'\n",
              "            + ' to learn more about interactive tables.';\n",
              "          element.innerHTML = '';\n",
              "          dataTable['output_type'] = 'display_data';\n",
              "          await google.colab.output.renderOutput(dataTable, element);\n",
              "          const docLink = document.createElement('div');\n",
              "          docLink.innerHTML = docLinkHtml;\n",
              "          element.appendChild(docLink);\n",
              "        }\n",
              "      </script>\n",
              "    </div>\n",
              "  </div>\n",
              "  "
            ]
          },
          "metadata": {},
          "execution_count": 42
        }
      ]
    },
    {
      "cell_type": "code",
      "source": [
        "dataset = dataset.drop('Assessed Value', axis=1)\n",
        "dataset.head()"
      ],
      "metadata": {
        "colab": {
          "base_uri": "https://localhost:8080/",
          "height": 206
        },
        "id": "MqkMvuX4l627",
        "outputId": "462d9ad2-d81a-46e2-979e-a5808e5a1d0d"
      },
      "execution_count": 43,
      "outputs": [
        {
          "output_type": "execute_result",
          "data": {
            "text/plain": [
              "   Serial Number  List Year     Town  Sale Amount  Sales Ratio\n",
              "0        2020348       2020  Ansonia     325000.0       0.4630\n",
              "1          20002       2020  Ashford     430000.0       0.5883\n",
              "2         200212       2020     Avon     179900.0       0.7248\n",
              "3         200243       2020     Avon     890000.0       0.6958\n",
              "4         200377       2020     Avon    1447500.0       0.5957"
            ],
            "text/html": [
              "\n",
              "  <div id=\"df-b6164e8d-36bd-4745-98d5-cfc5684b19c4\">\n",
              "    <div class=\"colab-df-container\">\n",
              "      <div>\n",
              "<style scoped>\n",
              "    .dataframe tbody tr th:only-of-type {\n",
              "        vertical-align: middle;\n",
              "    }\n",
              "\n",
              "    .dataframe tbody tr th {\n",
              "        vertical-align: top;\n",
              "    }\n",
              "\n",
              "    .dataframe thead th {\n",
              "        text-align: right;\n",
              "    }\n",
              "</style>\n",
              "<table border=\"1\" class=\"dataframe\">\n",
              "  <thead>\n",
              "    <tr style=\"text-align: right;\">\n",
              "      <th></th>\n",
              "      <th>Serial Number</th>\n",
              "      <th>List Year</th>\n",
              "      <th>Town</th>\n",
              "      <th>Sale Amount</th>\n",
              "      <th>Sales Ratio</th>\n",
              "    </tr>\n",
              "  </thead>\n",
              "  <tbody>\n",
              "    <tr>\n",
              "      <th>0</th>\n",
              "      <td>2020348</td>\n",
              "      <td>2020</td>\n",
              "      <td>Ansonia</td>\n",
              "      <td>325000.0</td>\n",
              "      <td>0.4630</td>\n",
              "    </tr>\n",
              "    <tr>\n",
              "      <th>1</th>\n",
              "      <td>20002</td>\n",
              "      <td>2020</td>\n",
              "      <td>Ashford</td>\n",
              "      <td>430000.0</td>\n",
              "      <td>0.5883</td>\n",
              "    </tr>\n",
              "    <tr>\n",
              "      <th>2</th>\n",
              "      <td>200212</td>\n",
              "      <td>2020</td>\n",
              "      <td>Avon</td>\n",
              "      <td>179900.0</td>\n",
              "      <td>0.7248</td>\n",
              "    </tr>\n",
              "    <tr>\n",
              "      <th>3</th>\n",
              "      <td>200243</td>\n",
              "      <td>2020</td>\n",
              "      <td>Avon</td>\n",
              "      <td>890000.0</td>\n",
              "      <td>0.6958</td>\n",
              "    </tr>\n",
              "    <tr>\n",
              "      <th>4</th>\n",
              "      <td>200377</td>\n",
              "      <td>2020</td>\n",
              "      <td>Avon</td>\n",
              "      <td>1447500.0</td>\n",
              "      <td>0.5957</td>\n",
              "    </tr>\n",
              "  </tbody>\n",
              "</table>\n",
              "</div>\n",
              "      <button class=\"colab-df-convert\" onclick=\"convertToInteractive('df-b6164e8d-36bd-4745-98d5-cfc5684b19c4')\"\n",
              "              title=\"Convert this dataframe to an interactive table.\"\n",
              "              style=\"display:none;\">\n",
              "        \n",
              "  <svg xmlns=\"http://www.w3.org/2000/svg\" height=\"24px\"viewBox=\"0 0 24 24\"\n",
              "       width=\"24px\">\n",
              "    <path d=\"M0 0h24v24H0V0z\" fill=\"none\"/>\n",
              "    <path d=\"M18.56 5.44l.94 2.06.94-2.06 2.06-.94-2.06-.94-.94-2.06-.94 2.06-2.06.94zm-11 1L8.5 8.5l.94-2.06 2.06-.94-2.06-.94L8.5 2.5l-.94 2.06-2.06.94zm10 10l.94 2.06.94-2.06 2.06-.94-2.06-.94-.94-2.06-.94 2.06-2.06.94z\"/><path d=\"M17.41 7.96l-1.37-1.37c-.4-.4-.92-.59-1.43-.59-.52 0-1.04.2-1.43.59L10.3 9.45l-7.72 7.72c-.78.78-.78 2.05 0 2.83L4 21.41c.39.39.9.59 1.41.59.51 0 1.02-.2 1.41-.59l7.78-7.78 2.81-2.81c.8-.78.8-2.07 0-2.86zM5.41 20L4 18.59l7.72-7.72 1.47 1.35L5.41 20z\"/>\n",
              "  </svg>\n",
              "      </button>\n",
              "      \n",
              "  <style>\n",
              "    .colab-df-container {\n",
              "      display:flex;\n",
              "      flex-wrap:wrap;\n",
              "      gap: 12px;\n",
              "    }\n",
              "\n",
              "    .colab-df-convert {\n",
              "      background-color: #E8F0FE;\n",
              "      border: none;\n",
              "      border-radius: 50%;\n",
              "      cursor: pointer;\n",
              "      display: none;\n",
              "      fill: #1967D2;\n",
              "      height: 32px;\n",
              "      padding: 0 0 0 0;\n",
              "      width: 32px;\n",
              "    }\n",
              "\n",
              "    .colab-df-convert:hover {\n",
              "      background-color: #E2EBFA;\n",
              "      box-shadow: 0px 1px 2px rgba(60, 64, 67, 0.3), 0px 1px 3px 1px rgba(60, 64, 67, 0.15);\n",
              "      fill: #174EA6;\n",
              "    }\n",
              "\n",
              "    [theme=dark] .colab-df-convert {\n",
              "      background-color: #3B4455;\n",
              "      fill: #D2E3FC;\n",
              "    }\n",
              "\n",
              "    [theme=dark] .colab-df-convert:hover {\n",
              "      background-color: #434B5C;\n",
              "      box-shadow: 0px 1px 3px 1px rgba(0, 0, 0, 0.15);\n",
              "      filter: drop-shadow(0px 1px 2px rgba(0, 0, 0, 0.3));\n",
              "      fill: #FFFFFF;\n",
              "    }\n",
              "  </style>\n",
              "\n",
              "      <script>\n",
              "        const buttonEl =\n",
              "          document.querySelector('#df-b6164e8d-36bd-4745-98d5-cfc5684b19c4 button.colab-df-convert');\n",
              "        buttonEl.style.display =\n",
              "          google.colab.kernel.accessAllowed ? 'block' : 'none';\n",
              "\n",
              "        async function convertToInteractive(key) {\n",
              "          const element = document.querySelector('#df-b6164e8d-36bd-4745-98d5-cfc5684b19c4');\n",
              "          const dataTable =\n",
              "            await google.colab.kernel.invokeFunction('convertToInteractive',\n",
              "                                                     [key], {});\n",
              "          if (!dataTable) return;\n",
              "\n",
              "          const docLinkHtml = 'Like what you see? Visit the ' +\n",
              "            '<a target=\"_blank\" href=https://colab.research.google.com/notebooks/data_table.ipynb>data table notebook</a>'\n",
              "            + ' to learn more about interactive tables.';\n",
              "          element.innerHTML = '';\n",
              "          dataTable['output_type'] = 'display_data';\n",
              "          await google.colab.output.renderOutput(dataTable, element);\n",
              "          const docLink = document.createElement('div');\n",
              "          docLink.innerHTML = docLinkHtml;\n",
              "          element.appendChild(docLink);\n",
              "        }\n",
              "      </script>\n",
              "    </div>\n",
              "  </div>\n",
              "  "
            ]
          },
          "metadata": {},
          "execution_count": 43
        }
      ]
    },
    {
      "cell_type": "markdown",
      "source": [
        "## 3. Data Visualization"
      ],
      "metadata": {
        "id": "ENPm1cm20MRH"
      }
    },
    {
      "cell_type": "markdown",
      "source": [
        "**Eploratory Data Analysis (EDA)**"
      ],
      "metadata": {
        "id": "Kmt5tnjKb_Th"
      }
    },
    {
      "cell_type": "markdown",
      "source": [
        "we will not use exploratory data analysis like in the previous class, we'll take another apporach to visualize data"
      ],
      "metadata": {
        "id": "_sXK6PePvNOv"
      }
    },
    {
      "cell_type": "markdown",
      "source": [
        "**3.1 Check Outliers**\n",
        "\n",
        "Outliers are values at the extreme ends of a dataset.\n",
        "\n",
        "Some outliers represent true values from natural variation in the population. Other outliers may result from incorrect data entry, equipment malfunctions, or other measurement errors.\n",
        "\n",
        "An outlier isn’t always a form of dirty or incorrect data, so you have to be careful with them in data cleansing. What you should do with an outlier depends on its most likely cause.\n",
        "\n",
        "for more info: https://www.scribbr.com/statistics/outliers/"
      ],
      "metadata": {
        "id": "FZB03O6btxDd"
      }
    },
    {
      "cell_type": "markdown",
      "source": [
        "**Coding dibawah ini digunakan untuk menghasilkan ringkasan statistik dari dataset**"
      ],
      "metadata": {
        "id": "gjRR_O8WkVEV"
      }
    },
    {
      "cell_type": "code",
      "execution_count": 46,
      "metadata": {
        "colab": {
          "base_uri": "https://localhost:8080/",
          "height": 300
        },
        "id": "0V45x0tn28_2",
        "outputId": "391b7f15-370e-42d8-cd56-49a60a1cf9bf"
      },
      "outputs": [
        {
          "output_type": "execute_result",
          "data": {
            "text/plain": [
              "       Serial Number      List Year   Sale Amount   Sales Ratio\n",
              "count   9.972130e+05  997213.000000  9.972130e+05  9.972130e+05\n",
              "mean    4.311864e+05    2010.189829  3.911512e+05  1.044637e+01\n",
              "std     6.549219e+06       6.237877  5.347270e+06  1.890192e+03\n",
              "min     0.000000e+00    2001.000000  0.000000e+00  0.000000e+00\n",
              "25%     3.044400e+04    2004.000000  1.400000e+05  4.867000e-01\n",
              "50%     7.030300e+04    2010.000000  2.250000e+05  6.246000e-01\n",
              "75%     1.518780e+05    2016.000000  3.650000e+05  7.852761e-01\n",
              "max     2.000500e+09    2020.000000  5.000000e+09  1.226420e+06"
            ],
            "text/html": [
              "\n",
              "  <div id=\"df-54bf773c-4c59-4930-ba8c-80ad4c15db9d\">\n",
              "    <div class=\"colab-df-container\">\n",
              "      <div>\n",
              "<style scoped>\n",
              "    .dataframe tbody tr th:only-of-type {\n",
              "        vertical-align: middle;\n",
              "    }\n",
              "\n",
              "    .dataframe tbody tr th {\n",
              "        vertical-align: top;\n",
              "    }\n",
              "\n",
              "    .dataframe thead th {\n",
              "        text-align: right;\n",
              "    }\n",
              "</style>\n",
              "<table border=\"1\" class=\"dataframe\">\n",
              "  <thead>\n",
              "    <tr style=\"text-align: right;\">\n",
              "      <th></th>\n",
              "      <th>Serial Number</th>\n",
              "      <th>List Year</th>\n",
              "      <th>Sale Amount</th>\n",
              "      <th>Sales Ratio</th>\n",
              "    </tr>\n",
              "  </thead>\n",
              "  <tbody>\n",
              "    <tr>\n",
              "      <th>count</th>\n",
              "      <td>9.972130e+05</td>\n",
              "      <td>997213.000000</td>\n",
              "      <td>9.972130e+05</td>\n",
              "      <td>9.972130e+05</td>\n",
              "    </tr>\n",
              "    <tr>\n",
              "      <th>mean</th>\n",
              "      <td>4.311864e+05</td>\n",
              "      <td>2010.189829</td>\n",
              "      <td>3.911512e+05</td>\n",
              "      <td>1.044637e+01</td>\n",
              "    </tr>\n",
              "    <tr>\n",
              "      <th>std</th>\n",
              "      <td>6.549219e+06</td>\n",
              "      <td>6.237877</td>\n",
              "      <td>5.347270e+06</td>\n",
              "      <td>1.890192e+03</td>\n",
              "    </tr>\n",
              "    <tr>\n",
              "      <th>min</th>\n",
              "      <td>0.000000e+00</td>\n",
              "      <td>2001.000000</td>\n",
              "      <td>0.000000e+00</td>\n",
              "      <td>0.000000e+00</td>\n",
              "    </tr>\n",
              "    <tr>\n",
              "      <th>25%</th>\n",
              "      <td>3.044400e+04</td>\n",
              "      <td>2004.000000</td>\n",
              "      <td>1.400000e+05</td>\n",
              "      <td>4.867000e-01</td>\n",
              "    </tr>\n",
              "    <tr>\n",
              "      <th>50%</th>\n",
              "      <td>7.030300e+04</td>\n",
              "      <td>2010.000000</td>\n",
              "      <td>2.250000e+05</td>\n",
              "      <td>6.246000e-01</td>\n",
              "    </tr>\n",
              "    <tr>\n",
              "      <th>75%</th>\n",
              "      <td>1.518780e+05</td>\n",
              "      <td>2016.000000</td>\n",
              "      <td>3.650000e+05</td>\n",
              "      <td>7.852761e-01</td>\n",
              "    </tr>\n",
              "    <tr>\n",
              "      <th>max</th>\n",
              "      <td>2.000500e+09</td>\n",
              "      <td>2020.000000</td>\n",
              "      <td>5.000000e+09</td>\n",
              "      <td>1.226420e+06</td>\n",
              "    </tr>\n",
              "  </tbody>\n",
              "</table>\n",
              "</div>\n",
              "      <button class=\"colab-df-convert\" onclick=\"convertToInteractive('df-54bf773c-4c59-4930-ba8c-80ad4c15db9d')\"\n",
              "              title=\"Convert this dataframe to an interactive table.\"\n",
              "              style=\"display:none;\">\n",
              "        \n",
              "  <svg xmlns=\"http://www.w3.org/2000/svg\" height=\"24px\"viewBox=\"0 0 24 24\"\n",
              "       width=\"24px\">\n",
              "    <path d=\"M0 0h24v24H0V0z\" fill=\"none\"/>\n",
              "    <path d=\"M18.56 5.44l.94 2.06.94-2.06 2.06-.94-2.06-.94-.94-2.06-.94 2.06-2.06.94zm-11 1L8.5 8.5l.94-2.06 2.06-.94-2.06-.94L8.5 2.5l-.94 2.06-2.06.94zm10 10l.94 2.06.94-2.06 2.06-.94-2.06-.94-.94-2.06-.94 2.06-2.06.94z\"/><path d=\"M17.41 7.96l-1.37-1.37c-.4-.4-.92-.59-1.43-.59-.52 0-1.04.2-1.43.59L10.3 9.45l-7.72 7.72c-.78.78-.78 2.05 0 2.83L4 21.41c.39.39.9.59 1.41.59.51 0 1.02-.2 1.41-.59l7.78-7.78 2.81-2.81c.8-.78.8-2.07 0-2.86zM5.41 20L4 18.59l7.72-7.72 1.47 1.35L5.41 20z\"/>\n",
              "  </svg>\n",
              "      </button>\n",
              "      \n",
              "  <style>\n",
              "    .colab-df-container {\n",
              "      display:flex;\n",
              "      flex-wrap:wrap;\n",
              "      gap: 12px;\n",
              "    }\n",
              "\n",
              "    .colab-df-convert {\n",
              "      background-color: #E8F0FE;\n",
              "      border: none;\n",
              "      border-radius: 50%;\n",
              "      cursor: pointer;\n",
              "      display: none;\n",
              "      fill: #1967D2;\n",
              "      height: 32px;\n",
              "      padding: 0 0 0 0;\n",
              "      width: 32px;\n",
              "    }\n",
              "\n",
              "    .colab-df-convert:hover {\n",
              "      background-color: #E2EBFA;\n",
              "      box-shadow: 0px 1px 2px rgba(60, 64, 67, 0.3), 0px 1px 3px 1px rgba(60, 64, 67, 0.15);\n",
              "      fill: #174EA6;\n",
              "    }\n",
              "\n",
              "    [theme=dark] .colab-df-convert {\n",
              "      background-color: #3B4455;\n",
              "      fill: #D2E3FC;\n",
              "    }\n",
              "\n",
              "    [theme=dark] .colab-df-convert:hover {\n",
              "      background-color: #434B5C;\n",
              "      box-shadow: 0px 1px 3px 1px rgba(0, 0, 0, 0.15);\n",
              "      filter: drop-shadow(0px 1px 2px rgba(0, 0, 0, 0.3));\n",
              "      fill: #FFFFFF;\n",
              "    }\n",
              "  </style>\n",
              "\n",
              "      <script>\n",
              "        const buttonEl =\n",
              "          document.querySelector('#df-54bf773c-4c59-4930-ba8c-80ad4c15db9d button.colab-df-convert');\n",
              "        buttonEl.style.display =\n",
              "          google.colab.kernel.accessAllowed ? 'block' : 'none';\n",
              "\n",
              "        async function convertToInteractive(key) {\n",
              "          const element = document.querySelector('#df-54bf773c-4c59-4930-ba8c-80ad4c15db9d');\n",
              "          const dataTable =\n",
              "            await google.colab.kernel.invokeFunction('convertToInteractive',\n",
              "                                                     [key], {});\n",
              "          if (!dataTable) return;\n",
              "\n",
              "          const docLinkHtml = 'Like what you see? Visit the ' +\n",
              "            '<a target=\"_blank\" href=https://colab.research.google.com/notebooks/data_table.ipynb>data table notebook</a>'\n",
              "            + ' to learn more about interactive tables.';\n",
              "          element.innerHTML = '';\n",
              "          dataTable['output_type'] = 'display_data';\n",
              "          await google.colab.output.renderOutput(dataTable, element);\n",
              "          const docLink = document.createElement('div');\n",
              "          docLink.innerHTML = docLinkHtml;\n",
              "          element.appendChild(docLink);\n",
              "        }\n",
              "      </script>\n",
              "    </div>\n",
              "  </div>\n",
              "  "
            ]
          },
          "metadata": {},
          "execution_count": 46
        }
      ],
      "source": [
        "dataset.describe()"
      ]
    },
    {
      "cell_type": "markdown",
      "source": [
        "Coding diatas menggambarkan hasil dari nilai standar deviasi, rata-rata, nilai median, nilai paling minimum, nilai paling minimal, serta menggambarkan Q1 dan Q2. Jenis dari plot yang diatas tergantung pada jenis data yang ada pada dataframe.  efektivitas plot ini tergantung pada jenis dan struktur data dalam dataset. Kita perlu mengatur opsi tambahan, seperti jenis plot atau kolom yang ingin divisualisasikan, untuk mendapatkan tampilan yang paling relevan dan informatif."
      ],
      "metadata": {
        "id": "riYCJKSykcRc"
      }
    },
    {
      "cell_type": "code",
      "source": [
        "outlier = dataset[['List Year','Sale Amount','Sales Ratio']].plot(kind = 'box', \n",
        "                                                      figsize = (8,8),\n",
        "                                                      subplots = True, layout = (1,3),\n",
        "                                                      sharex = False, sharey = False,\n",
        "                                                      title='Check outlier Distribution in tabel')"
      ],
      "metadata": {
        "colab": {
          "base_uri": "https://localhost:8080/",
          "height": 756
        },
        "id": "5M_ZcYtqmU_O",
        "outputId": "91a1a457-8184-4bc7-9864-451796cfe4c9"
      },
      "execution_count": 49,
      "outputs": [
        {
          "output_type": "display_data",
          "data": {
            "text/plain": [
              "<Figure size 800x800 with 3 Axes>"
            ],
            "image/png": "[encoded data removed]"
          },
          "metadata": {}
        }
      ]
    },
    {
      "cell_type": "code",
      "source": [
        "# List Year\n",
        "duration = np.where(dataset['List Year'] >= (4000))\n",
        "# Sales Ratio\n",
        "campaign = np.where(dataset['Sales Ratio'] >= (45))\n",
        "\n",
        "dataset.drop(duration[0], inplace = True)\n",
        "dataset.drop(campaign[0], inplace = True)\n",
        " \n",
        "dataset.describe()"
      ],
      "metadata": {
        "colab": {
          "base_uri": "https://localhost:8080/",
          "height": 300
        },
        "id": "kYhRVd2Rm0Gx",
        "outputId": "70c2dc55-6a71-4d20-cadd-c65540408105"
      },
      "execution_count": 51,
      "outputs": [
        {
          "output_type": "execute_result",
          "data": {
            "text/plain": [
              "       Serial Number      List Year   Sale Amount    Sales Ratio\n",
              "count   9.932660e+05  993266.000000  9.932660e+05  993266.000000\n",
              "mean    4.319683e+05    2010.190401  3.924034e+05       0.841937\n",
              "std     6.558931e+06       6.239964  5.357838e+06       1.701376\n",
              "min     0.000000e+00    2001.000000  0.000000e+00       0.000000\n",
              "25%     3.044100e+04    2004.000000  1.400000e+05       0.486100\n",
              "50%     7.029500e+04    2010.000000  2.250000e+05       0.623549\n",
              "75%     1.592230e+05    2016.000000  3.650000e+05       0.782324\n",
              "max     2.000500e+09    2020.000000  5.000000e+09      44.975000"
            ],
            "text/html": [
              "\n",
              "  <div id=\"df-9c41993e-7b9c-467d-ad78-3e7ba861c2a8\">\n",
              "    <div class=\"colab-df-container\">\n",
              "      <div>\n",
              "<style scoped>\n",
              "    .dataframe tbody tr th:only-of-type {\n",
              "        vertical-align: middle;\n",
              "    }\n",
              "\n",
              "    .dataframe tbody tr th {\n",
              "        vertical-align: top;\n",
              "    }\n",
              "\n",
              "    .dataframe thead th {\n",
              "        text-align: right;\n",
              "    }\n",
              "</style>\n",
              "<table border=\"1\" class=\"dataframe\">\n",
              "  <thead>\n",
              "    <tr style=\"text-align: right;\">\n",
              "      <th></th>\n",
              "      <th>Serial Number</th>\n",
              "      <th>List Year</th>\n",
              "      <th>Sale Amount</th>\n",
              "      <th>Sales Ratio</th>\n",
              "    </tr>\n",
              "  </thead>\n",
              "  <tbody>\n",
              "    <tr>\n",
              "      <th>count</th>\n",
              "      <td>9.932660e+05</td>\n",
              "      <td>993266.000000</td>\n",
              "      <td>9.932660e+05</td>\n",
              "      <td>993266.000000</td>\n",
              "    </tr>\n",
              "    <tr>\n",
              "      <th>mean</th>\n",
              "      <td>4.319683e+05</td>\n",
              "      <td>2010.190401</td>\n",
              "      <td>3.924034e+05</td>\n",
              "      <td>0.841937</td>\n",
              "    </tr>\n",
              "    <tr>\n",
              "      <th>std</th>\n",
              "      <td>6.558931e+06</td>\n",
              "      <td>6.239964</td>\n",
              "      <td>5.357838e+06</td>\n",
              "      <td>1.701376</td>\n",
              "    </tr>\n",
              "    <tr>\n",
              "      <th>min</th>\n",
              "      <td>0.000000e+00</td>\n",
              "      <td>2001.000000</td>\n",
              "      <td>0.000000e+00</td>\n",
              "      <td>0.000000</td>\n",
              "    </tr>\n",
              "    <tr>\n",
              "      <th>25%</th>\n",
              "      <td>3.044100e+04</td>\n",
              "      <td>2004.000000</td>\n",
              "      <td>1.400000e+05</td>\n",
              "      <td>0.486100</td>\n",
              "    </tr>\n",
              "    <tr>\n",
              "      <th>50%</th>\n",
              "      <td>7.029500e+04</td>\n",
              "      <td>2010.000000</td>\n",
              "      <td>2.250000e+05</td>\n",
              "      <td>0.623549</td>\n",
              "    </tr>\n",
              "    <tr>\n",
              "      <th>75%</th>\n",
              "      <td>1.592230e+05</td>\n",
              "      <td>2016.000000</td>\n",
              "      <td>3.650000e+05</td>\n",
              "      <td>0.782324</td>\n",
              "    </tr>\n",
              "    <tr>\n",
              "      <th>max</th>\n",
              "      <td>2.000500e+09</td>\n",
              "      <td>2020.000000</td>\n",
              "      <td>5.000000e+09</td>\n",
              "      <td>44.975000</td>\n",
              "    </tr>\n",
              "  </tbody>\n",
              "</table>\n",
              "</div>\n",
              "      <button class=\"colab-df-convert\" onclick=\"convertToInteractive('df-9c41993e-7b9c-467d-ad78-3e7ba861c2a8')\"\n",
              "              title=\"Convert this dataframe to an interactive table.\"\n",
              "              style=\"display:none;\">\n",
              "        \n",
              "  <svg xmlns=\"http://www.w3.org/2000/svg\" height=\"24px\"viewBox=\"0 0 24 24\"\n",
              "       width=\"24px\">\n",
              "    <path d=\"M0 0h24v24H0V0z\" fill=\"none\"/>\n",
              "    <path d=\"M18.56 5.44l.94 2.06.94-2.06 2.06-.94-2.06-.94-.94-2.06-.94 2.06-2.06.94zm-11 1L8.5 8.5l.94-2.06 2.06-.94-2.06-.94L8.5 2.5l-.94 2.06-2.06.94zm10 10l.94 2.06.94-2.06 2.06-.94-2.06-.94-.94-2.06-.94 2.06-2.06.94z\"/><path d=\"M17.41 7.96l-1.37-1.37c-.4-.4-.92-.59-1.43-.59-.52 0-1.04.2-1.43.59L10.3 9.45l-7.72 7.72c-.78.78-.78 2.05 0 2.83L4 21.41c.39.39.9.59 1.41.59.51 0 1.02-.2 1.41-.59l7.78-7.78 2.81-2.81c.8-.78.8-2.07 0-2.86zM5.41 20L4 18.59l7.72-7.72 1.47 1.35L5.41 20z\"/>\n",
              "  </svg>\n",
              "      </button>\n",
              "      \n",
              "  <style>\n",
              "    .colab-df-container {\n",
              "      display:flex;\n",
              "      flex-wrap:wrap;\n",
              "      gap: 12px;\n",
              "    }\n",
              "\n",
              "    .colab-df-convert {\n",
              "      background-color: #E8F0FE;\n",
              "      border: none;\n",
              "      border-radius: 50%;\n",
              "      cursor: pointer;\n",
              "      display: none;\n",
              "      fill: #1967D2;\n",
              "      height: 32px;\n",
              "      padding: 0 0 0 0;\n",
              "      width: 32px;\n",
              "    }\n",
              "\n",
              "    .colab-df-convert:hover {\n",
              "      background-color: #E2EBFA;\n",
              "      box-shadow: 0px 1px 2px rgba(60, 64, 67, 0.3), 0px 1px 3px 1px rgba(60, 64, 67, 0.15);\n",
              "      fill: #174EA6;\n",
              "    }\n",
              "\n",
              "    [theme=dark] .colab-df-convert {\n",
              "      background-color: #3B4455;\n",
              "      fill: #D2E3FC;\n",
              "    }\n",
              "\n",
              "    [theme=dark] .colab-df-convert:hover {\n",
              "      background-color: #434B5C;\n",
              "      box-shadow: 0px 1px 3px 1px rgba(0, 0, 0, 0.15);\n",
              "      filter: drop-shadow(0px 1px 2px rgba(0, 0, 0, 0.3));\n",
              "      fill: #FFFFFF;\n",
              "    }\n",
              "  </style>\n",
              "\n",
              "      <script>\n",
              "        const buttonEl =\n",
              "          document.querySelector('#df-9c41993e-7b9c-467d-ad78-3e7ba861c2a8 button.colab-df-convert');\n",
              "        buttonEl.style.display =\n",
              "          google.colab.kernel.accessAllowed ? 'block' : 'none';\n",
              "\n",
              "        async function convertToInteractive(key) {\n",
              "          const element = document.querySelector('#df-9c41993e-7b9c-467d-ad78-3e7ba861c2a8');\n",
              "          const dataTable =\n",
              "            await google.colab.kernel.invokeFunction('convertToInteractive',\n",
              "                                                     [key], {});\n",
              "          if (!dataTable) return;\n",
              "\n",
              "          const docLinkHtml = 'Like what you see? Visit the ' +\n",
              "            '<a target=\"_blank\" href=https://colab.research.google.com/notebooks/data_table.ipynb>data table notebook</a>'\n",
              "            + ' to learn more about interactive tables.';\n",
              "          element.innerHTML = '';\n",
              "          dataTable['output_type'] = 'display_data';\n",
              "          await google.colab.output.renderOutput(dataTable, element);\n",
              "          const docLink = document.createElement('div');\n",
              "          docLink.innerHTML = docLinkHtml;\n",
              "          element.appendChild(docLink);\n",
              "        }\n",
              "      </script>\n",
              "    </div>\n",
              "  </div>\n",
              "  "
            ]
          },
          "metadata": {},
          "execution_count": 51
        }
      ]
    },
    {
      "cell_type": "code",
      "source": [
        "dataset2 = pd.get_dummies(dataset)\n",
        "dataset2.head()"
      ],
      "metadata": {
        "colab": {
          "base_uri": "https://localhost:8080/",
          "height": 297
        },
        "id": "sMznRW6SnC1y",
        "outputId": "1fc9c1d5-3a35-4897-cc0e-88757ab8317b"
      },
      "execution_count": 52,
      "outputs": [
        {
          "output_type": "execute_result",
          "data": {
            "text/plain": [
              "   Serial Number  List Year  Sale Amount  Sales Ratio  Town_***Unknown***  \\\n",
              "0        2020348       2020     325000.0       0.4630                   0   \n",
              "1          20002       2020     430000.0       0.5883                   0   \n",
              "2         200212       2020     179900.0       0.7248                   0   \n",
              "3         200243       2020     890000.0       0.6958                   0   \n",
              "4         200377       2020    1447500.0       0.5957                   0   \n",
              "\n",
              "   Town_Andover  Town_Ansonia  Town_Ashford  Town_Avon  Town_Barkhamsted  ...  \\\n",
              "0             0             1             0          0                 0  ...   \n",
              "1             0             0             1          0                 0  ...   \n",
              "2             0             0             0          1                 0  ...   \n",
              "3             0             0             0          1                 0  ...   \n",
              "4             0             0             0          1                 0  ...   \n",
              "\n",
              "   Town_Willington  Town_Wilton  Town_Winchester  Town_Windham  Town_Windsor  \\\n",
              "0                0            0                0             0             0   \n",
              "1                0            0                0             0             0   \n",
              "2                0            0                0             0             0   \n",
              "3                0            0                0             0             0   \n",
              "4                0            0                0             0             0   \n",
              "\n",
              "   Town_Windsor Locks  Town_Wolcott  Town_Woodbridge  Town_Woodbury  \\\n",
              "0                   0             0                0              0   \n",
              "1                   0             0                0              0   \n",
              "2                   0             0                0              0   \n",
              "3                   0             0                0              0   \n",
              "4                   0             0                0              0   \n",
              "\n",
              "   Town_Woodstock  \n",
              "0               0  \n",
              "1               0  \n",
              "2               0  \n",
              "3               0  \n",
              "4               0  \n",
              "\n",
              "[5 rows x 174 columns]"
            ],
            "text/html": [
              "\n",
              "  <div id=\"df-892f5e96-b1e7-4e2d-839a-a71ba5c6d82b\">\n",
              "    <div class=\"colab-df-container\">\n",
              "      <div>\n",
              "<style scoped>\n",
              "    .dataframe tbody tr th:only-of-type {\n",
              "        vertical-align: middle;\n",
              "    }\n",
              "\n",
              "    .dataframe tbody tr th {\n",
              "        vertical-align: top;\n",
              "    }\n",
              "\n",
              "    .dataframe thead th {\n",
              "        text-align: right;\n",
              "    }\n",
              "</style>\n",
              "<table border=\"1\" class=\"dataframe\">\n",
              "  <thead>\n",
              "    <tr style=\"text-align: right;\">\n",
              "      <th></th>\n",
              "      <th>Serial Number</th>\n",
              "      <th>List Year</th>\n",
              "      <th>Sale Amount</th>\n",
              "      <th>Sales Ratio</th>\n",
              "      <th>Town_***Unknown***</th>\n",
              "      <th>Town_Andover</th>\n",
              "      <th>Town_Ansonia</th>\n",
              "      <th>Town_Ashford</th>\n",
              "      <th>Town_Avon</th>\n",
              "      <th>Town_Barkhamsted</th>\n",
              "      <th>...</th>\n",
              "      <th>Town_Willington</th>\n",
              "      <th>Town_Wilton</th>\n",
              "      <th>Town_Winchester</th>\n",
              "      <th>Town_Windham</th>\n",
              "      <th>Town_Windsor</th>\n",
              "      <th>Town_Windsor Locks</th>\n",
              "      <th>Town_Wolcott</th>\n",
              "      <th>Town_Woodbridge</th>\n",
              "      <th>Town_Woodbury</th>\n",
              "      <th>Town_Woodstock</th>\n",
              "    </tr>\n",
              "  </thead>\n",
              "  <tbody>\n",
              "    <tr>\n",
              "      <th>0</th>\n",
              "      <td>2020348</td>\n",
              "      <td>2020</td>\n",
              "      <td>325000.0</td>\n",
              "      <td>0.4630</td>\n",
              "      <td>0</td>\n",
              "      <td>0</td>\n",
              "      <td>1</td>\n",
              "      <td>0</td>\n",
              "      <td>0</td>\n",
              "      <td>0</td>\n",
              "      <td>...</td>\n",
              "      <td>0</td>\n",
              "      <td>0</td>\n",
              "      <td>0</td>\n",
              "      <td>0</td>\n",
              "      <td>0</td>\n",
              "      <td>0</td>\n",
              "      <td>0</td>\n",
              "      <td>0</td>\n",
              "      <td>0</td>\n",
              "      <td>0</td>\n",
              "    </tr>\n",
              "    <tr>\n",
              "      <th>1</th>\n",
              "      <td>20002</td>\n",
              "      <td>2020</td>\n",
              "      <td>430000.0</td>\n",
              "      <td>0.5883</td>\n",
              "      <td>0</td>\n",
              "      <td>0</td>\n",
              "      <td>0</td>\n",
              "      <td>1</td>\n",
              "      <td>0</td>\n",
              "      <td>0</td>\n",
              "      <td>...</td>\n",
              "      <td>0</td>\n",
              "      <td>0</td>\n",
              "      <td>0</td>\n",
              "      <td>0</td>\n",
              "      <td>0</td>\n",
              "      <td>0</td>\n",
              "      <td>0</td>\n",
              "      <td>0</td>\n",
              "      <td>0</td>\n",
              "      <td>0</td>\n",
              "    </tr>\n",
              "    <tr>\n",
              "      <th>2</th>\n",
              "      <td>200212</td>\n",
              "      <td>2020</td>\n",
              "      <td>179900.0</td>\n",
              "      <td>0.7248</td>\n",
              "      <td>0</td>\n",
              "      <td>0</td>\n",
              "      <td>0</td>\n",
              "      <td>0</td>\n",
              "      <td>1</td>\n",
              "      <td>0</td>\n",
              "      <td>...</td>\n",
              "      <td>0</td>\n",
              "      <td>0</td>\n",
              "      <td>0</td>\n",
              "      <td>0</td>\n",
              "      <td>0</td>\n",
              "      <td>0</td>\n",
              "      <td>0</td>\n",
              "      <td>0</td>\n",
              "      <td>0</td>\n",
              "      <td>0</td>\n",
              "    </tr>\n",
              "    <tr>\n",
              "      <th>3</th>\n",
              "      <td>200243</td>\n",
              "      <td>2020</td>\n",
              "      <td>890000.0</td>\n",
              "      <td>0.6958</td>\n",
              "      <td>0</td>\n",
              "      <td>0</td>\n",
              "      <td>0</td>\n",
              "      <td>0</td>\n",
              "      <td>1</td>\n",
              "      <td>0</td>\n",
              "      <td>...</td>\n",
              "      <td>0</td>\n",
              "      <td>0</td>\n",
              "      <td>0</td>\n",
              "      <td>0</td>\n",
              "      <td>0</td>\n",
              "      <td>0</td>\n",
              "      <td>0</td>\n",
              "      <td>0</td>\n",
              "      <td>0</td>\n",
              "      <td>0</td>\n",
              "    </tr>\n",
              "    <tr>\n",
              "      <th>4</th>\n",
              "      <td>200377</td>\n",
              "      <td>2020</td>\n",
              "      <td>1447500.0</td>\n",
              "      <td>0.5957</td>\n",
              "      <td>0</td>\n",
              "      <td>0</td>\n",
              "      <td>0</td>\n",
              "      <td>0</td>\n",
              "      <td>1</td>\n",
              "      <td>0</td>\n",
              "      <td>...</td>\n",
              "      <td>0</td>\n",
              "      <td>0</td>\n",
              "      <td>0</td>\n",
              "      <td>0</td>\n",
              "      <td>0</td>\n",
              "      <td>0</td>\n",
              "      <td>0</td>\n",
              "      <td>0</td>\n",
              "      <td>0</td>\n",
              "      <td>0</td>\n",
              "    </tr>\n",
              "  </tbody>\n",
              "</table>\n",
              "<p>5 rows × 174 columns</p>\n",
              "</div>\n",
              "      <button class=\"colab-df-convert\" onclick=\"convertToInteractive('df-892f5e96-b1e7-4e2d-839a-a71ba5c6d82b')\"\n",
              "              title=\"Convert this dataframe to an interactive table.\"\n",
              "              style=\"display:none;\">\n",
              "        \n",
              "  <svg xmlns=\"http://www.w3.org/2000/svg\" height=\"24px\"viewBox=\"0 0 24 24\"\n",
              "       width=\"24px\">\n",
              "    <path d=\"M0 0h24v24H0V0z\" fill=\"none\"/>\n",
              "    <path d=\"M18.56 5.44l.94 2.06.94-2.06 2.06-.94-2.06-.94-.94-2.06-.94 2.06-2.06.94zm-11 1L8.5 8.5l.94-2.06 2.06-.94-2.06-.94L8.5 2.5l-.94 2.06-2.06.94zm10 10l.94 2.06.94-2.06 2.06-.94-2.06-.94-.94-2.06-.94 2.06-2.06.94z\"/><path d=\"M17.41 7.96l-1.37-1.37c-.4-.4-.92-.59-1.43-.59-.52 0-1.04.2-1.43.59L10.3 9.45l-7.72 7.72c-.78.78-.78 2.05 0 2.83L4 21.41c.39.39.9.59 1.41.59.51 0 1.02-.2 1.41-.59l7.78-7.78 2.81-2.81c.8-.78.8-2.07 0-2.86zM5.41 20L4 18.59l7.72-7.72 1.47 1.35L5.41 20z\"/>\n",
              "  </svg>\n",
              "      </button>\n",
              "      \n",
              "  <style>\n",
              "    .colab-df-container {\n",
              "      display:flex;\n",
              "      flex-wrap:wrap;\n",
              "      gap: 12px;\n",
              "    }\n",
              "\n",
              "    .colab-df-convert {\n",
              "      background-color: #E8F0FE;\n",
              "      border: none;\n",
              "      border-radius: 50%;\n",
              "      cursor: pointer;\n",
              "      display: none;\n",
              "      fill: #1967D2;\n",
              "      height: 32px;\n",
              "      padding: 0 0 0 0;\n",
              "      width: 32px;\n",
              "    }\n",
              "\n",
              "    .colab-df-convert:hover {\n",
              "      background-color: #E2EBFA;\n",
              "      box-shadow: 0px 1px 2px rgba(60, 64, 67, 0.3), 0px 1px 3px 1px rgba(60, 64, 67, 0.15);\n",
              "      fill: #174EA6;\n",
              "    }\n",
              "\n",
              "    [theme=dark] .colab-df-convert {\n",
              "      background-color: #3B4455;\n",
              "      fill: #D2E3FC;\n",
              "    }\n",
              "\n",
              "    [theme=dark] .colab-df-convert:hover {\n",
              "      background-color: #434B5C;\n",
              "      box-shadow: 0px 1px 3px 1px rgba(0, 0, 0, 0.15);\n",
              "      filter: drop-shadow(0px 1px 2px rgba(0, 0, 0, 0.3));\n",
              "      fill: #FFFFFF;\n",
              "    }\n",
              "  </style>\n",
              "\n",
              "      <script>\n",
              "        const buttonEl =\n",
              "          document.querySelector('#df-892f5e96-b1e7-4e2d-839a-a71ba5c6d82b button.colab-df-convert');\n",
              "        buttonEl.style.display =\n",
              "          google.colab.kernel.accessAllowed ? 'block' : 'none';\n",
              "\n",
              "        async function convertToInteractive(key) {\n",
              "          const element = document.querySelector('#df-892f5e96-b1e7-4e2d-839a-a71ba5c6d82b');\n",
              "          const dataTable =\n",
              "            await google.colab.kernel.invokeFunction('convertToInteractive',\n",
              "                                                     [key], {});\n",
              "          if (!dataTable) return;\n",
              "\n",
              "          const docLinkHtml = 'Like what you see? Visit the ' +\n",
              "            '<a target=\"_blank\" href=https://colab.research.google.com/notebooks/data_table.ipynb>data table notebook</a>'\n",
              "            + ' to learn more about interactive tables.';\n",
              "          element.innerHTML = '';\n",
              "          dataTable['output_type'] = 'display_data';\n",
              "          await google.colab.output.renderOutput(dataTable, element);\n",
              "          const docLink = document.createElement('div');\n",
              "          docLink.innerHTML = docLinkHtml;\n",
              "          element.appendChild(docLink);\n",
              "        }\n",
              "      </script>\n",
              "    </div>\n",
              "  </div>\n",
              "  "
            ]
          },
          "metadata": {},
          "execution_count": 52
        }
      ]
    },
    {
      "cell_type": "markdown",
      "source": [
        "**Coding dibawah digunakan untuk menghitung library baru yang digunakan untuk menggambarkan data dalam sebuah plot ataupun grafik**"
      ],
      "metadata": {
        "id": "6mQuQoeXkzu4"
      }
    },
    {
      "cell_type": "code",
      "source": [
        "import matplotlib.pyplot as plt\n",
        "%matplotlib inline\n",
        "dataset.plot()"
      ],
      "metadata": {
        "colab": {
          "base_uri": "https://localhost:8080/",
          "height": 480
        },
        "id": "hVyPVG8wv4Rd",
        "outputId": "71ebfbfc-afd9-4876-e8bc-5d4549b3e3ea"
      },
      "execution_count": 53,
      "outputs": [
        {
          "output_type": "execute_result",
          "data": {
            "text/plain": [
              "<Axes: >"
            ]
          },
          "metadata": {},
          "execution_count": 53
        },
        {
          "output_type": "display_data",
          "data": {
            "text/plain": [
              "<Figure size 640x480 with 1 Axes>"
            ],
            "image/png": "[encoded data removed]"
          },
          "metadata": {}
        }
      ]
    },
    {
      "cell_type": "code",
      "source": [
        "Berdasarkan coding diatas didapatkan bahwa nilai dari sale amount memiliki ukuran yang berbeda-beda"
      ],
      "metadata": {
        "id": "a7eeFTwullEo"
      },
      "execution_count": null,
      "outputs": []
    },
    {
      "cell_type": "markdown",
      "source": [
        "**Coding dibawah ini digunakan untuk Mengubah bentuk plot **"
      ],
      "metadata": {
        "id": "Dl48HitMp6Np"
      }
    },
    {
      "cell_type": "code",
      "source": [
        "import seaborn as sns\n",
        "%matplotlib inline\n",
        "\n",
        "sns.set(rc={'figure.figsize':(11,8)}, font_scale=1.5, style='whitegrid')\n",
        "\n",
        "# tips = sns.load_dataset(dataset)\n",
        "sns.boxplot(data=dataset, orient=\"h\");"
      ],
      "metadata": {
        "colab": {
          "base_uri": "https://localhost:8080/",
          "height": 716
        },
        "id": "Sg0KQswrw-aG",
        "outputId": "dc074807-717d-4412-aa24-1deaefb36f88"
      },
      "execution_count": 54,
      "outputs": [
        {
          "output_type": "display_data",
          "data": {
            "text/plain": [
              "<Figure size 1100x800 with 1 Axes>"
            ],
            "image/png": "[encoded data removed]"
          },
          "metadata": {}
        }
      ]
    },
    {
      "cell_type": "markdown",
      "source": [
        "**Coding dibawah menggambarkan dataset menjadi x dan y**"
      ],
      "metadata": {
        "id": "poDzMITErUbK"
      }
    },
    {
      "cell_type": "code",
      "source": [
        "# Scatter plot\n",
        "fig, ax = plt.subplots(figsize = (15,7))\n",
        "ax.scatter(dataset['Sale Amount'], dataset['Sales Ratio'])\n",
        " \n",
        "# x-axis label\n",
        "ax.set_xlabel('Sales Ratio')\n",
        " \n",
        "# y-axis label\n",
        "ax.set_ylabel('Sale Amount')\n",
        "plt.show()"
      ],
      "metadata": {
        "colab": {
          "base_uri": "https://localhost:8080/",
          "height": 641
        },
        "id": "QF-Yo7Mc1BJH",
        "outputId": "80272e00-7d3c-432b-d9d0-9a7b767f3a70"
      },
      "execution_count": 55,
      "outputs": [
        {
          "output_type": "display_data",
          "data": {
            "text/plain": [
              "<Figure size 1500x700 with 1 Axes>"
            ],
            "image/png": "[encoded data removed]"
          },
          "metadata": {}
        }
      ]
    },
    {
      "cell_type": "markdown",
      "source": [
        "**Removing the outliers using IQR**\n",
        "\n",
        "**IQR (Inter Quartile Range)**\n",
        "\n",
        "IQR = Quartile3 – Quartile1\n",
        "\n",
        "Quartile description: https://rumusbilangan.com/rumus-kuartil/\n"
      ],
      "metadata": {
        "id": "QNqE47dr2hr4"
      }
    },
    {
      "cell_type": "markdown",
      "source": [
        "IQR is interpolation method to remove outliers\n",
        "\n",
        "To define the outlier base value is defined above and below datasets normal range namely Upper and Lower bounds, define the upper and the lower bound (1.5*IQR value is considered) :\n",
        "\n",
        "upper = Q3 +1.5*IQR\n",
        "\n",
        "lower = Q1 – 1.5*IQR\n",
        "\n",
        "how to calculate IQR:\n",
        "\n",
        "https://www.timesmojo.com/what-is-the-15-iqr-rule/\n",
        "\n",
        "https://www.geeksforgeeks.org/detect-and-remove-the-outliers-using-python/\n",
        "\n",
        "In the above formula as according to statistics, the 0.5 scale-up of IQR (new_IQR = IQR + 0.5*IQR) is taken, to consider all the data between 2.7 standard deviations in the Gaussian Distribution."
      ],
      "metadata": {
        "id": "5m0lhYyq3Xn7"
      }
    },
    {
      "cell_type": "markdown",
      "source": [
        "**Coding dibawah dilakukan untuk mengimport library baru, lalu menggambarkan bentuk lama dari kolom dataset Sale Amount  sebelum dilakukan perubahan apapun**"
      ],
      "metadata": {
        "id": "_ybfagyLrwbe"
      }
    },
    {
      "cell_type": "code",
      "source": [
        "import sklearn\n",
        "\n",
        "# IQR Price\n",
        "Q1 = np.percentile(dataset['Sale Amount'], 25,\n",
        "                   method = 'midpoint')\n",
        " \n",
        "Q3 = np.percentile(dataset['Sale Amount'], 75,\n",
        "                   method = 'midpoint')\n",
        "IQR = Q3 - Q1\n",
        " \n",
        "print(\"Old Shape: \", dataset.shape)"
      ],
      "metadata": {
        "colab": {
          "base_uri": "https://localhost:8080/"
        },
        "id": "jL9XfyUY6L58",
        "outputId": "0e4b7922-1993-4ed7-fc82-5c58e830651e"
      },
      "execution_count": 56,
      "outputs": [
        {
          "output_type": "stream",
          "name": "stdout",
          "text": [
            "Old Shape:  (993266, 5)\n"
          ]
        }
      ]
    },
    {
      "cell_type": "markdown",
      "source": [
        "**Coding dibawah digunakan untuk melihat bentuk baru dari kolom dataset Sale Amount setelah dilakukan berbagai banyak coding untuk menghilangkan missing value**"
      ],
      "metadata": {
        "id": "gOf0duxUsNxQ"
      }
    },
    {
      "cell_type": "code",
      "source": [
        "# Upper bound\n",
        "upper = Q3 + 1.5 * IQR\n",
        "\n",
        "# Lower bound\n",
        "lower = Q1 - 1.5 * IQR\n",
        "\n",
        "# Finding the indices of the outliers\n",
        "outliers_upper = dataset[dataset['Sale Amount'] > upper].index\n",
        "outliers_lower = dataset[dataset['Sale Amount'] < lower].index\n",
        "\n",
        "# Concatenate the indices of the outliers\n",
        "outliers = outliers_upper.append(outliers_lower)\n",
        "\n",
        "# Removing the outliers\n",
        "dataset.drop(outliers, inplace=True)\n",
        "\n",
        "print(\"New Shape: \", dataset.shape)\n"
      ],
      "metadata": {
        "colab": {
          "base_uri": "https://localhost:8080/"
        },
        "id": "WIZyhdHL6orp",
        "outputId": "152bfbbd-07fa-4d7c-9f23-ed8bd352899e"
      },
      "execution_count": 57,
      "outputs": [
        {
          "output_type": "stream",
          "name": "stdout",
          "text": [
            "New Shape:  (910389, 5)\n"
          ]
        }
      ]
    },
    {
      "cell_type": "markdown",
      "source": [
        "**Coding dibawah dilakukan untuk mengimport library baru, lalu menggambarkan bentuk lama dari kolom dataset Sales ratio sebelum dilakukan perubahan apapun**"
      ],
      "metadata": {
        "id": "5-MJw8c0s17s"
      }
    },
    {
      "cell_type": "code",
      "source": [
        "import sklearn\n",
        "\n",
        "# IQR Landsize\n",
        "Q1 = np.percentile(dataset['Sales Ratio'], 25,\n",
        "                   method = 'midpoint')\n",
        " \n",
        "Q3 = np.percentile(dataset['Sales Ratio'], 75,\n",
        "                   method = 'midpoint')\n",
        "IQR = Q3 - Q1\n",
        " \n",
        "print(\"Old Shape: \", dataset.shape)"
      ],
      "metadata": {
        "colab": {
          "base_uri": "https://localhost:8080/"
        },
        "id": "NV-D28kj63xj",
        "outputId": "de9098b9-ec8f-4143-9a91-3b6520a5556b"
      },
      "execution_count": 58,
      "outputs": [
        {
          "output_type": "stream",
          "name": "stdout",
          "text": [
            "Old Shape:  (910389, 5)\n"
          ]
        }
      ]
    },
    {
      "cell_type": "markdown",
      "source": [
        "**Coding dibawah digunakan untuk melihat bentuk baru dari kolom dataset Sales Ratio setelah dilakukan berbagai banyak coding untuk menghilangkan missing value**"
      ],
      "metadata": {
        "id": "9QtUruQYtEF0"
      }
    },
    {
      "cell_type": "code",
      "source": [
        "# Upper bound\n",
        "upper = Q3 + 1.5 * IQR\n",
        "\n",
        "# Lower bound\n",
        "lower = Q1 - 1.5 * IQR\n",
        "\n",
        "# Finding the indices of the outliers\n",
        "outliers_upper = dataset[dataset['Sales Ratio'] > upper].index\n",
        "outliers_lower = dataset[dataset['Sales Ratio'] < lower].index\n",
        "\n",
        "# Concatenate the indices of the outliers\n",
        "outliers = outliers_upper.append(outliers_lower)\n",
        "\n",
        "# Removing the outliers\n",
        "dataset.drop(outliers, inplace=True)\n",
        "\n",
        "print(\"New Shape: \", dataset.shape)\n"
      ],
      "metadata": {
        "colab": {
          "base_uri": "https://localhost:8080/"
        },
        "id": "raHbRnEQ66Ai",
        "outputId": "a515c904-c1e9-40ca-c642-307aa934bea2"
      },
      "execution_count": 59,
      "outputs": [
        {
          "output_type": "stream",
          "name": "stdout",
          "text": [
            "New Shape:  (819151, 5)\n"
          ]
        }
      ]
    },
    {
      "cell_type": "markdown",
      "source": [
        "**Coding dibawah digunakan untuk menggambarkan plot yang baru**"
      ],
      "metadata": {
        "id": "z5kofhOXtUDm"
      }
    },
    {
      "cell_type": "code",
      "execution_count": 60,
      "metadata": {
        "colab": {
          "base_uri": "https://localhost:8080/",
          "height": 716
        },
        "id": "vR-0FpAR4wNE",
        "outputId": "063fcbb7-85b3-4ad8-9aa8-41866b825570"
      },
      "outputs": [
        {
          "output_type": "display_data",
          "data": {
            "text/plain": [
              "<Figure size 1100x800 with 1 Axes>"
            ],
            "image/png": "[encoded data removed]"
          },
          "metadata": {}
        }
      ],
      "source": [
        "import seaborn as sns\n",
        "%matplotlib inline\n",
        "\n",
        "sns.set(rc={'figure.figsize':(11,8)}, font_scale=1.5, style='whitegrid')\n",
        "\n",
        "# tips = sns.load_dataset(dataset)\n",
        "sns.boxplot(data=dataset, orient=\"h\");"
      ]
    },
    {
      "cell_type": "code",
      "source": [
        "# Scatter plot\n",
        "fig, ax = plt.subplots(figsize = (15,7))\n",
        "ax.scatter(dataset['Sale Amount'], dataset['Sales Ratio'])\n",
        " \n",
        "# x-axis label\n",
        "ax.set_xlabel('Sales Ratio')\n",
        " \n",
        "# y-axis label\n",
        "ax.set_ylabel('Sale Amount')\n",
        "plt.show()"
      ],
      "metadata": {
        "colab": {
          "base_uri": "https://localhost:8080/",
          "height": 641
        },
        "id": "kp3nBBsZ8qQm",
        "outputId": "ff97d46c-33f9-4894-9e92-f5fd789762f7"
      },
      "execution_count": 61,
      "outputs": [
        {
          "output_type": "display_data",
          "data": {
            "text/plain": [
              "<Figure size 1500x700 with 1 Axes>"
            ],
            "image/png": "[encoded data removed]"
          },
          "metadata": {}
        }
      ]
    },
    {
      "cell_type": "markdown",
      "source": [
        "Show data distribution based on density (kde - kernel density estimation)"
      ],
      "metadata": {
        "id": "LsjkfEScBUoN"
      }
    },
    {
      "cell_type": "code",
      "execution_count": 62,
      "metadata": {
        "colab": {
          "base_uri": "https://localhost:8080/",
          "height": 294
        },
        "id": "aiF0oNG7_bPz",
        "outputId": "d5a9ba08-2ce2-4025-8aea-469f462589f3"
      },
      "outputs": [
        {
          "output_type": "display_data",
          "data": {
            "text/plain": [
              "<Figure size 1500x1200 with 20 Axes>"
            ],
            "image/png": "[encoded data removed]"
          },
          "metadata": {}
        }
      ],
      "source": [
        "dataset.plot(kind='kde',subplots=True,layout=(10,2),figsize=(15,12), sharex=False)\n",
        "plt.show()"
      ]
    },
    {
      "cell_type": "markdown",
      "source": [
        "Grafik diatas menggambarkan bahwa data pada serial number memiliki data dengan nilai yang smaa, pada grafik assessed value memiliki nilai kepadatan paling besar sekitar 5 dengan variansi tidak terlalu berbeda, Pada grafik sales ratio memiliki variansi yang berbeda-beda dan kerapatan paling tinggi bernilai 2, Pada grafik year memiliki nilai yang cukup naik turun karena data tersebut berisi jumlah berapa banyak yang terjual disetiap tahunnya terjual berapa, grafik yang terakhir menggambarkan jumlah nilai yang terjual untuk rumah yang dijual"
      ],
      "metadata": {
        "id": "woOs9sJCtxto"
      }
    },
    {
      "cell_type": "markdown",
      "source": [
        "Show data distribution based on histogram"
      ],
      "metadata": {
        "id": "wLLPYJxoBkJj"
      }
    },
    {
      "cell_type": "code",
      "source": [
        "dataset.plot(kind='hist',subplots=True,layout=(10,2),figsize=(15,12), sharex=False)\n",
        "plt.show()"
      ],
      "metadata": {
        "colab": {
          "base_uri": "https://localhost:8080/",
          "height": 272
        },
        "id": "oGUJFv6oj_Ub",
        "outputId": "212beb60-3f55-4c04-cfed-c562853c4f6f"
      },
      "execution_count": 63,
      "outputs": [
        {
          "output_type": "display_data",
          "data": {
            "text/plain": [
              "<Figure size 1500x1200 with 20 Axes>"
            ],
            "image/png": "[encoded data removed]"
          },
          "metadata": {}
        }
      ]
    },
    {
      "cell_type": "code",
      "source": [
        "dataset.plot(kind='line',subplots=True,layout=(10,2),figsize=(15,12), sharex=False)\n",
        "plt.show()"
      ],
      "metadata": {
        "colab": {
          "base_uri": "https://localhost:8080/",
          "height": 294
        },
        "id": "MGk91iI0kZ_3",
        "outputId": "1778ffe8-da70-412c-b04d-c1edb62b791b"
      },
      "execution_count": 64,
      "outputs": [
        {
          "output_type": "display_data",
          "data": {
            "text/plain": [
              "<Figure size 1500x1200 with 20 Axes>"
            ],
            "image/png": "[encoded data removed]"
          },
          "metadata": {}
        }
      ]
    },
    {
      "cell_type": "markdown",
      "source": [
        "**3.2 CORRELATION MATRIX**"
      ],
      "metadata": {
        "id": "Rdb2Vu6ER6bG"
      }
    },
    {
      "cell_type": "code",
      "execution_count": 65,
      "metadata": {
        "colab": {
          "base_uri": "https://localhost:8080/",
          "height": 1000
        },
        "id": "JJfeTBE8AoEU",
        "outputId": "f1d2cd7a-4408-45e0-f20c-92dd843bfbf0"
      },
      "outputs": [
        {
          "output_type": "display_data",
          "data": {
            "text/plain": [
              "<Figure size 1200x1200 with 16 Axes>"
            ],
            "image/png": "[encoded data removed]"
          },
          "metadata": {}
        }
      ],
      "source": [
        "pd.plotting.scatter_matrix(dataset,figsize=(12,12))\n",
        "plt.show()"
      ]
    },
    {
      "cell_type": "markdown",
      "source": [
        "correlation matrix with heatmap"
      ],
      "metadata": {
        "id": "3GkOv0zVElyF"
      }
    },
    {
      "cell_type": "code",
      "execution_count": 66,
      "metadata": {
        "colab": {
          "base_uri": "https://localhost:8080/",
          "height": 713
        },
        "id": "QOpTY-zcm2al",
        "outputId": "b8c51d09-c802-437a-af2f-b75db17af283"
      },
      "outputs": [
        {
          "output_type": "stream",
          "name": "stderr",
          "text": [
            "<ipython-input-66-4b443a21f68f>:2: FutureWarning: The default value of numeric_only in DataFrame.corr is deprecated. In a future version, it will default to False. Select only valid columns or specify the value of numeric_only to silence this warning.\n",
            "  corr = corr_data.corr()\n"
          ]
        },
        {
          "output_type": "display_data",
          "data": {
            "text/plain": [
              "<Figure size 1500x700 with 2 Axes>"
            ],
            "image/png": "[encoded data removed]"
          },
          "metadata": {}
        }
      ],
      "source": [
        "corr_data = dataset\n",
        "corr = corr_data.corr()\n",
        "\n",
        "cor_plot = sns.heatmap(corr,annot=True,cmap='RdYlGn',linewidths=0.2,annot_kws={'size':10})\n",
        "fig=plt.gcf()\n",
        "fig.set_size_inches(15,7)\n",
        "plt.xticks(fontsize=10,rotation=-30)\n",
        "plt.yticks(fontsize=10)\n",
        "plt.title('Correlation Matrix')\n",
        "plt.show()"
      ]
    },
    {
      "cell_type": "markdown",
      "source": [
        "Kode di atas digunakan untuk menghasilkan plot matriks korelasi (correlation matrix) menggunakan library seaborn (sns) dan matplotlib (plt) dalam Python. "
      ],
      "metadata": {
        "id": "uoyC986W6FFa"
      }
    },
    {
      "cell_type": "markdown",
      "source": [
        "**4. Splitting Dataset**"
      ],
      "metadata": {
        "id": "Ue-S5QvcEZP3"
      }
    },
    {
      "cell_type": "markdown",
      "source": [
        "**4.1 Slicing**"
      ],
      "metadata": {
        "id": "y6eAqlWSHSCa"
      }
    },
    {
      "cell_type": "markdown",
      "source": [
        "We define x and y as x for data and y for label"
      ],
      "metadata": {
        "id": "bPWKEA19HYEQ"
      }
    },
    {
      "cell_type": "markdown",
      "source": [
        "Tulis"
      ],
      "metadata": {
        "id": "RGMqHdvbJ7NR"
      }
    },
    {
      "cell_type": "code",
      "source": [
        "x = dataset.drop('Sale Amount', axis=1)\n",
        "x"
      ],
      "metadata": {
        "colab": {
          "base_uri": "https://localhost:8080/",
          "height": 424
        },
        "id": "hCep1ou2LfU1",
        "outputId": "c1098963-44da-42e4-9d4e-537f3f513963"
      },
      "execution_count": 80,
      "outputs": [
        {
          "output_type": "execute_result",
          "data": {
            "text/plain": [
              "        Serial Number  List Year           Town  Sales Ratio\n",
              "0             2020348       2020        Ansonia     0.463000\n",
              "1               20002       2020        Ashford     0.588300\n",
              "2              200212       2020           Avon     0.724800\n",
              "7             2020313       2020         Berlin     0.608100\n",
              "9               20139       2020         Bethel     0.511500\n",
              "...               ...        ...            ...          ...\n",
              "997206          19921       2019     West Haven     0.509100\n",
              "997208         190272       2019     New London     1.137665\n",
              "997209         190284       2019      Waterbury     0.898400\n",
              "997210         190129       2019  Windsor Locks     0.578300\n",
              "997211         190504       2019     Middletown     0.726300\n",
              "\n",
              "[819151 rows x 4 columns]"
            ],
            "text/html": [
              "\n",
              "  <div id=\"df-64d3f089-078c-4b13-a1bb-4000f8bd0f8c\">\n",
              "    <div class=\"colab-df-container\">\n",
              "      <div>\n",
              "<style scoped>\n",
              "    .dataframe tbody tr th:only-of-type {\n",
              "        vertical-align: middle;\n",
              "    }\n",
              "\n",
              "    .dataframe tbody tr th {\n",
              "        vertical-align: top;\n",
              "    }\n",
              "\n",
              "    .dataframe thead th {\n",
              "        text-align: right;\n",
              "    }\n",
              "</style>\n",
              "<table border=\"1\" class=\"dataframe\">\n",
              "  <thead>\n",
              "    <tr style=\"text-align: right;\">\n",
              "      <th></th>\n",
              "      <th>Serial Number</th>\n",
              "      <th>List Year</th>\n",
              "      <th>Town</th>\n",
              "      <th>Sales Ratio</th>\n",
              "    </tr>\n",
              "  </thead>\n",
              "  <tbody>\n",
              "    <tr>\n",
              "      <th>0</th>\n",
              "      <td>2020348</td>\n",
              "      <td>2020</td>\n",
              "      <td>Ansonia</td>\n",
              "      <td>0.463000</td>\n",
              "    </tr>\n",
              "    <tr>\n",
              "      <th>1</th>\n",
              "      <td>20002</td>\n",
              "      <td>2020</td>\n",
              "      <td>Ashford</td>\n",
              "      <td>0.588300</td>\n",
              "    </tr>\n",
              "    <tr>\n",
              "      <th>2</th>\n",
              "      <td>200212</td>\n",
              "      <td>2020</td>\n",
              "      <td>Avon</td>\n",
              "      <td>0.724800</td>\n",
              "    </tr>\n",
              "    <tr>\n",
              "      <th>7</th>\n",
              "      <td>2020313</td>\n",
              "      <td>2020</td>\n",
              "      <td>Berlin</td>\n",
              "      <td>0.608100</td>\n",
              "    </tr>\n",
              "    <tr>\n",
              "      <th>9</th>\n",
              "      <td>20139</td>\n",
              "      <td>2020</td>\n",
              "      <td>Bethel</td>\n",
              "      <td>0.511500</td>\n",
              "    </tr>\n",
              "    <tr>\n",
              "      <th>...</th>\n",
              "      <td>...</td>\n",
              "      <td>...</td>\n",
              "      <td>...</td>\n",
              "      <td>...</td>\n",
              "    </tr>\n",
              "    <tr>\n",
              "      <th>997206</th>\n",
              "      <td>19921</td>\n",
              "      <td>2019</td>\n",
              "      <td>West Haven</td>\n",
              "      <td>0.509100</td>\n",
              "    </tr>\n",
              "    <tr>\n",
              "      <th>997208</th>\n",
              "      <td>190272</td>\n",
              "      <td>2019</td>\n",
              "      <td>New London</td>\n",
              "      <td>1.137665</td>\n",
              "    </tr>\n",
              "    <tr>\n",
              "      <th>997209</th>\n",
              "      <td>190284</td>\n",
              "      <td>2019</td>\n",
              "      <td>Waterbury</td>\n",
              "      <td>0.898400</td>\n",
              "    </tr>\n",
              "    <tr>\n",
              "      <th>997210</th>\n",
              "      <td>190129</td>\n",
              "      <td>2019</td>\n",
              "      <td>Windsor Locks</td>\n",
              "      <td>0.578300</td>\n",
              "    </tr>\n",
              "    <tr>\n",
              "      <th>997211</th>\n",
              "      <td>190504</td>\n",
              "      <td>2019</td>\n",
              "      <td>Middletown</td>\n",
              "      <td>0.726300</td>\n",
              "    </tr>\n",
              "  </tbody>\n",
              "</table>\n",
              "<p>819151 rows × 4 columns</p>\n",
              "</div>\n",
              "      <button class=\"colab-df-convert\" onclick=\"convertToInteractive('df-64d3f089-078c-4b13-a1bb-4000f8bd0f8c')\"\n",
              "              title=\"Convert this dataframe to an interactive table.\"\n",
              "              style=\"display:none;\">\n",
              "        \n",
              "  <svg xmlns=\"http://www.w3.org/2000/svg\" height=\"24px\"viewBox=\"0 0 24 24\"\n",
              "       width=\"24px\">\n",
              "    <path d=\"M0 0h24v24H0V0z\" fill=\"none\"/>\n",
              "    <path d=\"M18.56 5.44l.94 2.06.94-2.06 2.06-.94-2.06-.94-.94-2.06-.94 2.06-2.06.94zm-11 1L8.5 8.5l.94-2.06 2.06-.94-2.06-.94L8.5 2.5l-.94 2.06-2.06.94zm10 10l.94 2.06.94-2.06 2.06-.94-2.06-.94-.94-2.06-.94 2.06-2.06.94z\"/><path d=\"M17.41 7.96l-1.37-1.37c-.4-.4-.92-.59-1.43-.59-.52 0-1.04.2-1.43.59L10.3 9.45l-7.72 7.72c-.78.78-.78 2.05 0 2.83L4 21.41c.39.39.9.59 1.41.59.51 0 1.02-.2 1.41-.59l7.78-7.78 2.81-2.81c.8-.78.8-2.07 0-2.86zM5.41 20L4 18.59l7.72-7.72 1.47 1.35L5.41 20z\"/>\n",
              "  </svg>\n",
              "      </button>\n",
              "      \n",
              "  <style>\n",
              "    .colab-df-container {\n",
              "      display:flex;\n",
              "      flex-wrap:wrap;\n",
              "      gap: 12px;\n",
              "    }\n",
              "\n",
              "    .colab-df-convert {\n",
              "      background-color: #E8F0FE;\n",
              "      border: none;\n",
              "      border-radius: 50%;\n",
              "      cursor: pointer;\n",
              "      display: none;\n",
              "      fill: #1967D2;\n",
              "      height: 32px;\n",
              "      padding: 0 0 0 0;\n",
              "      width: 32px;\n",
              "    }\n",
              "\n",
              "    .colab-df-convert:hover {\n",
              "      background-color: #E2EBFA;\n",
              "      box-shadow: 0px 1px 2px rgba(60, 64, 67, 0.3), 0px 1px 3px 1px rgba(60, 64, 67, 0.15);\n",
              "      fill: #174EA6;\n",
              "    }\n",
              "\n",
              "    [theme=dark] .colab-df-convert {\n",
              "      background-color: #3B4455;\n",
              "      fill: #D2E3FC;\n",
              "    }\n",
              "\n",
              "    [theme=dark] .colab-df-convert:hover {\n",
              "      background-color: #434B5C;\n",
              "      box-shadow: 0px 1px 3px 1px rgba(0, 0, 0, 0.15);\n",
              "      filter: drop-shadow(0px 1px 2px rgba(0, 0, 0, 0.3));\n",
              "      fill: #FFFFFF;\n",
              "    }\n",
              "  </style>\n",
              "\n",
              "      <script>\n",
              "        const buttonEl =\n",
              "          document.querySelector('#df-64d3f089-078c-4b13-a1bb-4000f8bd0f8c button.colab-df-convert');\n",
              "        buttonEl.style.display =\n",
              "          google.colab.kernel.accessAllowed ? 'block' : 'none';\n",
              "\n",
              "        async function convertToInteractive(key) {\n",
              "          const element = document.querySelector('#df-64d3f089-078c-4b13-a1bb-4000f8bd0f8c');\n",
              "          const dataTable =\n",
              "            await google.colab.kernel.invokeFunction('convertToInteractive',\n",
              "                                                     [key], {});\n",
              "          if (!dataTable) return;\n",
              "\n",
              "          const docLinkHtml = 'Like what you see? Visit the ' +\n",
              "            '<a target=\"_blank\" href=https://colab.research.google.com/notebooks/data_table.ipynb>data table notebook</a>'\n",
              "            + ' to learn more about interactive tables.';\n",
              "          element.innerHTML = '';\n",
              "          dataTable['output_type'] = 'display_data';\n",
              "          await google.colab.output.renderOutput(dataTable, element);\n",
              "          const docLink = document.createElement('div');\n",
              "          docLink.innerHTML = docLinkHtml;\n",
              "          element.appendChild(docLink);\n",
              "        }\n",
              "      </script>\n",
              "    </div>\n",
              "  </div>\n",
              "  "
            ]
          },
          "metadata": {},
          "execution_count": 80
        }
      ]
    },
    {
      "cell_type": "markdown",
      "source": [
        "coding diatas digunakan untuk  untuk memperoleh subset atau potongan data dari sebuah objek yang berurutan, seperti array, list, atau string, berdasarkan indeks atau range indeks tertentu."
      ],
      "metadata": {
        "id": "Nz5utG3m4MtU"
      }
    },
    {
      "cell_type": "markdown",
      "source": [
        "Choose feature Type as a label"
      ],
      "metadata": {
        "id": "SkZgXnQ-tST1"
      }
    },
    {
      "cell_type": "code",
      "source": [
        "y = dataset[\"Sale Amount\"]\n",
        "y"
      ],
      "metadata": {
        "colab": {
          "base_uri": "https://localhost:8080/"
        },
        "id": "WOZTLMYeh3hj",
        "outputId": "6206461c-a646-4079-9b41-f2601b9860fc"
      },
      "execution_count": 81,
      "outputs": [
        {
          "output_type": "execute_result",
          "data": {
            "text/plain": [
              "0         325000.0\n",
              "1         430000.0\n",
              "2         179900.0\n",
              "7         677500.0\n",
              "9         335000.0\n",
              "            ...   \n",
              "997206    246000.0\n",
              "997208     53100.0\n",
              "997209     76000.0\n",
              "997210    210000.0\n",
              "997211    280000.0\n",
              "Name: Sale Amount, Length: 819151, dtype: float64"
            ]
          },
          "metadata": {},
          "execution_count": 81
        }
      ]
    },
    {
      "cell_type": "markdown",
      "source": [
        "coding diatas digunakan untuk  memenggil dataset dari tabel y"
      ],
      "metadata": {
        "id": "27cHoRHI4WNc"
      }
    },
    {
      "cell_type": "code",
      "source": [
        "y.values.reshape(-1,1)"
      ],
      "metadata": {
        "colab": {
          "base_uri": "https://localhost:8080/"
        },
        "id": "l6idhdXTrLAD",
        "outputId": "dfd12924-d5c1-42fb-ff24-30533962340f"
      },
      "execution_count": 82,
      "outputs": [
        {
          "output_type": "execute_result",
          "data": {
            "text/plain": [
              "array([[325000.],\n",
              "       [430000.],\n",
              "       [179900.],\n",
              "       ...,\n",
              "       [ 76000.],\n",
              "       [210000.],\n",
              "       [280000.]])"
            ]
          },
          "metadata": {},
          "execution_count": 82
        }
      ]
    },
    {
      "cell_type": "markdown",
      "source": [
        "coding diatas digunakan untuk  mengubah bentuk array satu dimensi menjadi array dua dimensi dengan satu kolom. Ini sering digunakan dalam kasus di mana kita perlu mengubah bentuk data untuk keperluan pemodelan atau analisis tertentu."
      ],
      "metadata": {
        "id": "LfpuNmo15zmW"
      }
    },
    {
      "cell_type": "markdown",
      "source": [
        "**4.2 Categorical Encoding**\n",
        "\n",
        "Choose One Hot Encoding or Label Encoding for perform categorical encoding\n",
        "\n",
        "**One-Hot Encoding for data input x**"
      ],
      "metadata": {
        "id": "-KhD3RU7qniq"
      }
    },
    {
      "cell_type": "code",
      "source": [
        "x = pd.get_dummies(x)\n",
        "x"
      ],
      "metadata": {
        "colab": {
          "base_uri": "https://localhost:8080/",
          "height": 485
        },
        "id": "y_K5f2vyqNef",
        "outputId": "e142200a-3428-4217-d6ea-4f9ccbfe43a7"
      },
      "execution_count": 83,
      "outputs": [
        {
          "output_type": "execute_result",
          "data": {
            "text/plain": [
              "        Serial Number  List Year  Sales Ratio  Town_***Unknown***  \\\n",
              "0             2020348       2020     0.463000                   0   \n",
              "1               20002       2020     0.588300                   0   \n",
              "2              200212       2020     0.724800                   0   \n",
              "7             2020313       2020     0.608100                   0   \n",
              "9               20139       2020     0.511500                   0   \n",
              "...               ...        ...          ...                 ...   \n",
              "997206          19921       2019     0.509100                   0   \n",
              "997208         190272       2019     1.137665                   0   \n",
              "997209         190284       2019     0.898400                   0   \n",
              "997210         190129       2019     0.578300                   0   \n",
              "997211         190504       2019     0.726300                   0   \n",
              "\n",
              "        Town_Andover  Town_Ansonia  Town_Ashford  Town_Avon  Town_Barkhamsted  \\\n",
              "0                  0             1             0          0                 0   \n",
              "1                  0             0             1          0                 0   \n",
              "2                  0             0             0          1                 0   \n",
              "7                  0             0             0          0                 0   \n",
              "9                  0             0             0          0                 0   \n",
              "...              ...           ...           ...        ...               ...   \n",
              "997206             0             0             0          0                 0   \n",
              "997208             0             0             0          0                 0   \n",
              "997209             0             0             0          0                 0   \n",
              "997210             0             0             0          0                 0   \n",
              "997211             0             0             0          0                 0   \n",
              "\n",
              "        Town_Beacon Falls  ...  Town_Willington  Town_Wilton  Town_Winchester  \\\n",
              "0                       0  ...                0            0                0   \n",
              "1                       0  ...                0            0                0   \n",
              "2                       0  ...                0            0                0   \n",
              "7                       0  ...                0            0                0   \n",
              "9                       0  ...                0            0                0   \n",
              "...                   ...  ...              ...          ...              ...   \n",
              "997206                  0  ...                0            0                0   \n",
              "997208                  0  ...                0            0                0   \n",
              "997209                  0  ...                0            0                0   \n",
              "997210                  0  ...                0            0                0   \n",
              "997211                  0  ...                0            0                0   \n",
              "\n",
              "        Town_Windham  Town_Windsor  Town_Windsor Locks  Town_Wolcott  \\\n",
              "0                  0             0                   0             0   \n",
              "1                  0             0                   0             0   \n",
              "2                  0             0                   0             0   \n",
              "7                  0             0                   0             0   \n",
              "9                  0             0                   0             0   \n",
              "...              ...           ...                 ...           ...   \n",
              "997206             0             0                   0             0   \n",
              "997208             0             0                   0             0   \n",
              "997209             0             0                   0             0   \n",
              "997210             0             0                   1             0   \n",
              "997211             0             0                   0             0   \n",
              "\n",
              "        Town_Woodbridge  Town_Woodbury  Town_Woodstock  \n",
              "0                     0              0               0  \n",
              "1                     0              0               0  \n",
              "2                     0              0               0  \n",
              "7                     0              0               0  \n",
              "9                     0              0               0  \n",
              "...                 ...            ...             ...  \n",
              "997206                0              0               0  \n",
              "997208                0              0               0  \n",
              "997209                0              0               0  \n",
              "997210                0              0               0  \n",
              "997211                0              0               0  \n",
              "\n",
              "[819151 rows x 173 columns]"
            ],
            "text/html": [
              "\n",
              "  <div id=\"df-e41bc8fd-68ab-4b8c-b2a1-6a347ed2728d\">\n",
              "    <div class=\"colab-df-container\">\n",
              "      <div>\n",
              "<style scoped>\n",
              "    .dataframe tbody tr th:only-of-type {\n",
              "        vertical-align: middle;\n",
              "    }\n",
              "\n",
              "    .dataframe tbody tr th {\n",
              "        vertical-align: top;\n",
              "    }\n",
              "\n",
              "    .dataframe thead th {\n",
              "        text-align: right;\n",
              "    }\n",
              "</style>\n",
              "<table border=\"1\" class=\"dataframe\">\n",
              "  <thead>\n",
              "    <tr style=\"text-align: right;\">\n",
              "      <th></th>\n",
              "      <th>Serial Number</th>\n",
              "      <th>List Year</th>\n",
              "      <th>Sales Ratio</th>\n",
              "      <th>Town_***Unknown***</th>\n",
              "      <th>Town_Andover</th>\n",
              "      <th>Town_Ansonia</th>\n",
              "      <th>Town_Ashford</th>\n",
              "      <th>Town_Avon</th>\n",
              "      <th>Town_Barkhamsted</th>\n",
              "      <th>Town_Beacon Falls</th>\n",
              "      <th>...</th>\n",
              "      <th>Town_Willington</th>\n",
              "      <th>Town_Wilton</th>\n",
              "      <th>Town_Winchester</th>\n",
              "      <th>Town_Windham</th>\n",
              "      <th>Town_Windsor</th>\n",
              "      <th>Town_Windsor Locks</th>\n",
              "      <th>Town_Wolcott</th>\n",
              "      <th>Town_Woodbridge</th>\n",
              "      <th>Town_Woodbury</th>\n",
              "      <th>Town_Woodstock</th>\n",
              "    </tr>\n",
              "  </thead>\n",
              "  <tbody>\n",
              "    <tr>\n",
              "      <th>0</th>\n",
              "      <td>2020348</td>\n",
              "      <td>2020</td>\n",
              "      <td>0.463000</td>\n",
              "      <td>0</td>\n",
              "      <td>0</td>\n",
              "      <td>1</td>\n",
              "      <td>0</td>\n",
              "      <td>0</td>\n",
              "      <td>0</td>\n",
              "      <td>0</td>\n",
              "      <td>...</td>\n",
              "      <td>0</td>\n",
              "      <td>0</td>\n",
              "      <td>0</td>\n",
              "      <td>0</td>\n",
              "      <td>0</td>\n",
              "      <td>0</td>\n",
              "      <td>0</td>\n",
              "      <td>0</td>\n",
              "      <td>0</td>\n",
              "      <td>0</td>\n",
              "    </tr>\n",
              "    <tr>\n",
              "      <th>1</th>\n",
              "      <td>20002</td>\n",
              "      <td>2020</td>\n",
              "      <td>0.588300</td>\n",
              "      <td>0</td>\n",
              "      <td>0</td>\n",
              "      <td>0</td>\n",
              "      <td>1</td>\n",
              "      <td>0</td>\n",
              "      <td>0</td>\n",
              "      <td>0</td>\n",
              "      <td>...</td>\n",
              "      <td>0</td>\n",
              "      <td>0</td>\n",
              "      <td>0</td>\n",
              "      <td>0</td>\n",
              "      <td>0</td>\n",
              "      <td>0</td>\n",
              "      <td>0</td>\n",
              "      <td>0</td>\n",
              "      <td>0</td>\n",
              "      <td>0</td>\n",
              "    </tr>\n",
              "    <tr>\n",
              "      <th>2</th>\n",
              "      <td>200212</td>\n",
              "      <td>2020</td>\n",
              "      <td>0.724800</td>\n",
              "      <td>0</td>\n",
              "      <td>0</td>\n",
              "      <td>0</td>\n",
              "      <td>0</td>\n",
              "      <td>1</td>\n",
              "      <td>0</td>\n",
              "      <td>0</td>\n",
              "      <td>...</td>\n",
              "      <td>0</td>\n",
              "      <td>0</td>\n",
              "      <td>0</td>\n",
              "      <td>0</td>\n",
              "      <td>0</td>\n",
              "      <td>0</td>\n",
              "      <td>0</td>\n",
              "      <td>0</td>\n",
              "      <td>0</td>\n",
              "      <td>0</td>\n",
              "    </tr>\n",
              "    <tr>\n",
              "      <th>7</th>\n",
              "      <td>2020313</td>\n",
              "      <td>2020</td>\n",
              "      <td>0.608100</td>\n",
              "      <td>0</td>\n",
              "      <td>0</td>\n",
              "      <td>0</td>\n",
              "      <td>0</td>\n",
              "      <td>0</td>\n",
              "      <td>0</td>\n",
              "      <td>0</td>\n",
              "      <td>...</td>\n",
              "      <td>0</td>\n",
              "      <td>0</td>\n",
              "      <td>0</td>\n",
              "      <td>0</td>\n",
              "      <td>0</td>\n",
              "      <td>0</td>\n",
              "      <td>0</td>\n",
              "      <td>0</td>\n",
              "      <td>0</td>\n",
              "      <td>0</td>\n",
              "    </tr>\n",
              "    <tr>\n",
              "      <th>9</th>\n",
              "      <td>20139</td>\n",
              "      <td>2020</td>\n",
              "      <td>0.511500</td>\n",
              "      <td>0</td>\n",
              "      <td>0</td>\n",
              "      <td>0</td>\n",
              "      <td>0</td>\n",
              "      <td>0</td>\n",
              "      <td>0</td>\n",
              "      <td>0</td>\n",
              "      <td>...</td>\n",
              "      <td>0</td>\n",
              "      <td>0</td>\n",
              "      <td>0</td>\n",
              "      <td>0</td>\n",
              "      <td>0</td>\n",
              "      <td>0</td>\n",
              "      <td>0</td>\n",
              "      <td>0</td>\n",
              "      <td>0</td>\n",
              "      <td>0</td>\n",
              "    </tr>\n",
              "    <tr>\n",
              "      <th>...</th>\n",
              "      <td>...</td>\n",
              "      <td>...</td>\n",
              "      <td>...</td>\n",
              "      <td>...</td>\n",
              "      <td>...</td>\n",
              "      <td>...</td>\n",
              "      <td>...</td>\n",
              "      <td>...</td>\n",
              "      <td>...</td>\n",
              "      <td>...</td>\n",
              "      <td>...</td>\n",
              "      <td>...</td>\n",
              "      <td>...</td>\n",
              "      <td>...</td>\n",
              "      <td>...</td>\n",
              "      <td>...</td>\n",
              "      <td>...</td>\n",
              "      <td>...</td>\n",
              "      <td>...</td>\n",
              "      <td>...</td>\n",
              "      <td>...</td>\n",
              "    </tr>\n",
              "    <tr>\n",
              "      <th>997206</th>\n",
              "      <td>19921</td>\n",
              "      <td>2019</td>\n",
              "      <td>0.509100</td>\n",
              "      <td>0</td>\n",
              "      <td>0</td>\n",
              "      <td>0</td>\n",
              "      <td>0</td>\n",
              "      <td>0</td>\n",
              "      <td>0</td>\n",
              "      <td>0</td>\n",
              "      <td>...</td>\n",
              "      <td>0</td>\n",
              "      <td>0</td>\n",
              "      <td>0</td>\n",
              "      <td>0</td>\n",
              "      <td>0</td>\n",
              "      <td>0</td>\n",
              "      <td>0</td>\n",
              "      <td>0</td>\n",
              "      <td>0</td>\n",
              "      <td>0</td>\n",
              "    </tr>\n",
              "    <tr>\n",
              "      <th>997208</th>\n",
              "      <td>190272</td>\n",
              "      <td>2019</td>\n",
              "      <td>1.137665</td>\n",
              "      <td>0</td>\n",
              "      <td>0</td>\n",
              "      <td>0</td>\n",
              "      <td>0</td>\n",
              "      <td>0</td>\n",
              "      <td>0</td>\n",
              "      <td>0</td>\n",
              "      <td>...</td>\n",
              "      <td>0</td>\n",
              "      <td>0</td>\n",
              "      <td>0</td>\n",
              "      <td>0</td>\n",
              "      <td>0</td>\n",
              "      <td>0</td>\n",
              "      <td>0</td>\n",
              "      <td>0</td>\n",
              "      <td>0</td>\n",
              "      <td>0</td>\n",
              "    </tr>\n",
              "    <tr>\n",
              "      <th>997209</th>\n",
              "      <td>190284</td>\n",
              "      <td>2019</td>\n",
              "      <td>0.898400</td>\n",
              "      <td>0</td>\n",
              "      <td>0</td>\n",
              "      <td>0</td>\n",
              "      <td>0</td>\n",
              "      <td>0</td>\n",
              "      <td>0</td>\n",
              "      <td>0</td>\n",
              "      <td>...</td>\n",
              "      <td>0</td>\n",
              "      <td>0</td>\n",
              "      <td>0</td>\n",
              "      <td>0</td>\n",
              "      <td>0</td>\n",
              "      <td>0</td>\n",
              "      <td>0</td>\n",
              "      <td>0</td>\n",
              "      <td>0</td>\n",
              "      <td>0</td>\n",
              "    </tr>\n",
              "    <tr>\n",
              "      <th>997210</th>\n",
              "      <td>190129</td>\n",
              "      <td>2019</td>\n",
              "      <td>0.578300</td>\n",
              "      <td>0</td>\n",
              "      <td>0</td>\n",
              "      <td>0</td>\n",
              "      <td>0</td>\n",
              "      <td>0</td>\n",
              "      <td>0</td>\n",
              "      <td>0</td>\n",
              "      <td>...</td>\n",
              "      <td>0</td>\n",
              "      <td>0</td>\n",
              "      <td>0</td>\n",
              "      <td>0</td>\n",
              "      <td>0</td>\n",
              "      <td>1</td>\n",
              "      <td>0</td>\n",
              "      <td>0</td>\n",
              "      <td>0</td>\n",
              "      <td>0</td>\n",
              "    </tr>\n",
              "    <tr>\n",
              "      <th>997211</th>\n",
              "      <td>190504</td>\n",
              "      <td>2019</td>\n",
              "      <td>0.726300</td>\n",
              "      <td>0</td>\n",
              "      <td>0</td>\n",
              "      <td>0</td>\n",
              "      <td>0</td>\n",
              "      <td>0</td>\n",
              "      <td>0</td>\n",
              "      <td>0</td>\n",
              "      <td>...</td>\n",
              "      <td>0</td>\n",
              "      <td>0</td>\n",
              "      <td>0</td>\n",
              "      <td>0</td>\n",
              "      <td>0</td>\n",
              "      <td>0</td>\n",
              "      <td>0</td>\n",
              "      <td>0</td>\n",
              "      <td>0</td>\n",
              "      <td>0</td>\n",
              "    </tr>\n",
              "  </tbody>\n",
              "</table>\n",
              "<p>819151 rows × 173 columns</p>\n",
              "</div>\n",
              "      <button class=\"colab-df-convert\" onclick=\"convertToInteractive('df-e41bc8fd-68ab-4b8c-b2a1-6a347ed2728d')\"\n",
              "              title=\"Convert this dataframe to an interactive table.\"\n",
              "              style=\"display:none;\">\n",
              "        \n",
              "  <svg xmlns=\"http://www.w3.org/2000/svg\" height=\"24px\"viewBox=\"0 0 24 24\"\n",
              "       width=\"24px\">\n",
              "    <path d=\"M0 0h24v24H0V0z\" fill=\"none\"/>\n",
              "    <path d=\"M18.56 5.44l.94 2.06.94-2.06 2.06-.94-2.06-.94-.94-2.06-.94 2.06-2.06.94zm-11 1L8.5 8.5l.94-2.06 2.06-.94-2.06-.94L8.5 2.5l-.94 2.06-2.06.94zm10 10l.94 2.06.94-2.06 2.06-.94-2.06-.94-.94-2.06-.94 2.06-2.06.94z\"/><path d=\"M17.41 7.96l-1.37-1.37c-.4-.4-.92-.59-1.43-.59-.52 0-1.04.2-1.43.59L10.3 9.45l-7.72 7.72c-.78.78-.78 2.05 0 2.83L4 21.41c.39.39.9.59 1.41.59.51 0 1.02-.2 1.41-.59l7.78-7.78 2.81-2.81c.8-.78.8-2.07 0-2.86zM5.41 20L4 18.59l7.72-7.72 1.47 1.35L5.41 20z\"/>\n",
              "  </svg>\n",
              "      </button>\n",
              "      \n",
              "  <style>\n",
              "    .colab-df-container {\n",
              "      display:flex;\n",
              "      flex-wrap:wrap;\n",
              "      gap: 12px;\n",
              "    }\n",
              "\n",
              "    .colab-df-convert {\n",
              "      background-color: #E8F0FE;\n",
              "      border: none;\n",
              "      border-radius: 50%;\n",
              "      cursor: pointer;\n",
              "      display: none;\n",
              "      fill: #1967D2;\n",
              "      height: 32px;\n",
              "      padding: 0 0 0 0;\n",
              "      width: 32px;\n",
              "    }\n",
              "\n",
              "    .colab-df-convert:hover {\n",
              "      background-color: #E2EBFA;\n",
              "      box-shadow: 0px 1px 2px rgba(60, 64, 67, 0.3), 0px 1px 3px 1px rgba(60, 64, 67, 0.15);\n",
              "      fill: #174EA6;\n",
              "    }\n",
              "\n",
              "    [theme=dark] .colab-df-convert {\n",
              "      background-color: #3B4455;\n",
              "      fill: #D2E3FC;\n",
              "    }\n",
              "\n",
              "    [theme=dark] .colab-df-convert:hover {\n",
              "      background-color: #434B5C;\n",
              "      box-shadow: 0px 1px 3px 1px rgba(0, 0, 0, 0.15);\n",
              "      filter: drop-shadow(0px 1px 2px rgba(0, 0, 0, 0.3));\n",
              "      fill: #FFFFFF;\n",
              "    }\n",
              "  </style>\n",
              "\n",
              "      <script>\n",
              "        const buttonEl =\n",
              "          document.querySelector('#df-e41bc8fd-68ab-4b8c-b2a1-6a347ed2728d button.colab-df-convert');\n",
              "        buttonEl.style.display =\n",
              "          google.colab.kernel.accessAllowed ? 'block' : 'none';\n",
              "\n",
              "        async function convertToInteractive(key) {\n",
              "          const element = document.querySelector('#df-e41bc8fd-68ab-4b8c-b2a1-6a347ed2728d');\n",
              "          const dataTable =\n",
              "            await google.colab.kernel.invokeFunction('convertToInteractive',\n",
              "                                                     [key], {});\n",
              "          if (!dataTable) return;\n",
              "\n",
              "          const docLinkHtml = 'Like what you see? Visit the ' +\n",
              "            '<a target=\"_blank\" href=https://colab.research.google.com/notebooks/data_table.ipynb>data table notebook</a>'\n",
              "            + ' to learn more about interactive tables.';\n",
              "          element.innerHTML = '';\n",
              "          dataTable['output_type'] = 'display_data';\n",
              "          await google.colab.output.renderOutput(dataTable, element);\n",
              "          const docLink = document.createElement('div');\n",
              "          docLink.innerHTML = docLinkHtml;\n",
              "          element.appendChild(docLink);\n",
              "        }\n",
              "      </script>\n",
              "    </div>\n",
              "  </div>\n",
              "  "
            ]
          },
          "metadata": {},
          "execution_count": 83
        }
      ]
    },
    {
      "cell_type": "markdown",
      "source": [
        "coding diatas digunakan untuk mencari nilai dummy untuk tabel x"
      ],
      "metadata": {
        "id": "2pgHnepK3i8L"
      }
    },
    {
      "cell_type": "code",
      "source": [
        "x.shape"
      ],
      "metadata": {
        "colab": {
          "base_uri": "https://localhost:8080/"
        },
        "id": "bTWosUkWqZyG",
        "outputId": "8d5a445d-5b3b-4e9c-b921-2d0206cc282c"
      },
      "execution_count": 84,
      "outputs": [
        {
          "output_type": "execute_result",
          "data": {
            "text/plain": [
              "(819151, 173)"
            ]
          },
          "metadata": {},
          "execution_count": 84
        }
      ]
    },
    {
      "cell_type": "markdown",
      "source": [
        "coding diatas digunakan untuk mencari ukuran dari bentuk tabel t dengan jumlah baris sebanyak 770478 dengan kolom sebanyak 174"
      ],
      "metadata": {
        "id": "zKO-6-o73rAI"
      }
    },
    {
      "cell_type": "markdown",
      "source": [
        "**4.2.1 Standarization**"
      ],
      "metadata": {
        "id": "BuOZc5O6GUJz"
      }
    },
    {
      "cell_type": "markdown",
      "source": [
        "Standardization is used on the data values that are normally distributed. Further, by applying standardization, we tend to make the mean of the dataset as 0 and the standard deviation equivalent to 1.\n",
        "\n",
        "That is, by standardizing the values, we get the following statistics of the data distribution\n",
        "\n",
        "mean = 0\n",
        "standard deviation = 1\n",
        "\n",
        "Thus, by this the data set becomes self explanatory and easy to analyze as the mean turns down to 0 and it happens to have an unit variance.\n",
        "\n",
        "References: https://www.askpython.com/python/examples/standardize-data-in-python#:~:text=Ways%20to%20Standardize%20Data%20in%20Python%201%201.,load_iris%20...%202%202.%20Using%20StandardScaler%20%28%29%20function"
      ],
      "metadata": {
        "id": "B4NxpFrsHDmP"
      }
    },
    {
      "cell_type": "code",
      "source": [
        "from sklearn.preprocessing import StandardScaler\n",
        "std_scale = StandardScaler().fit_transform(x)\n",
        "std_scale = pd.DataFrame(std_scale)\n",
        "\n",
        "std_scale"
      ],
      "metadata": {
        "colab": {
          "base_uri": "https://localhost:8080/",
          "height": 424
        },
        "id": "GR-GhzRXGRNg",
        "outputId": "9f9bacdf-ae69-4c63-cd99-d0e2f44fd633"
      },
      "execution_count": 85,
      "outputs": [
        {
          "output_type": "execute_result",
          "data": {
            "text/plain": [
              "             0         1         2         3         4          5    \\\n",
              "0       0.236951  1.567208 -0.745203 -0.001105 -0.031442  14.588410   \n",
              "1      -0.064601  1.567208 -0.148546 -0.001105 -0.031442  -0.068548   \n",
              "2      -0.037434  1.567208  0.501443 -0.001105 -0.031442  -0.068548   \n",
              "3       0.236946  1.567208 -0.054262 -0.001105 -0.031442  -0.068548   \n",
              "4      -0.064580  1.567208 -0.514255 -0.001105 -0.031442  -0.068548   \n",
              "...          ...       ...       ...       ...       ...        ...   \n",
              "819146 -0.064613  1.409257 -0.525683 -0.001105 -0.031442  -0.068548   \n",
              "819147 -0.038933  1.409257  2.467434 -0.001105 -0.031442  -0.068548   \n",
              "819148 -0.038931  1.409257  1.328096 -0.001105 -0.031442  -0.068548   \n",
              "819149 -0.038954  1.409257 -0.196165 -0.001105 -0.031442  -0.068548   \n",
              "819150 -0.038898  1.409257  0.508586 -0.001105 -0.031442  -0.068548   \n",
              "\n",
              "              6          7         8         9    ...       163       164  \\\n",
              "0       -0.037836  -0.084497 -0.032813 -0.043835  ... -0.037249 -0.050794   \n",
              "1       26.429740  -0.084497 -0.032813 -0.043835  ... -0.037249 -0.050794   \n",
              "2       -0.037836  11.834808 -0.032813 -0.043835  ... -0.037249 -0.050794   \n",
              "3       -0.037836  -0.084497 -0.032813 -0.043835  ... -0.037249 -0.050794   \n",
              "4       -0.037836  -0.084497 -0.032813 -0.043835  ... -0.037249 -0.050794   \n",
              "...           ...        ...       ...       ...  ...       ...       ...   \n",
              "819146  -0.037836  -0.084497 -0.032813 -0.043835  ... -0.037249 -0.050794   \n",
              "819147  -0.037836  -0.084497 -0.032813 -0.043835  ... -0.037249 -0.050794   \n",
              "819148  -0.037836  -0.084497 -0.032813 -0.043835  ... -0.037249 -0.050794   \n",
              "819149  -0.037836  -0.084497 -0.032813 -0.043835  ... -0.037249 -0.050794   \n",
              "819150  -0.037836  -0.084497 -0.032813 -0.043835  ... -0.037249 -0.050794   \n",
              "\n",
              "             165       166       167        168       169       170       171  \\\n",
              "0      -0.061143 -0.072737 -0.097629  -0.067934 -0.071324 -0.050406 -0.059482   \n",
              "1      -0.061143 -0.072737 -0.097629  -0.067934 -0.071324 -0.050406 -0.059482   \n",
              "2      -0.061143 -0.072737 -0.097629  -0.067934 -0.071324 -0.050406 -0.059482   \n",
              "3      -0.061143 -0.072737 -0.097629  -0.067934 -0.071324 -0.050406 -0.059482   \n",
              "4      -0.061143 -0.072737 -0.097629  -0.067934 -0.071324 -0.050406 -0.059482   \n",
              "...          ...       ...       ...        ...       ...       ...       ...   \n",
              "819146 -0.061143 -0.072737 -0.097629  -0.067934 -0.071324 -0.050406 -0.059482   \n",
              "819147 -0.061143 -0.072737 -0.097629  -0.067934 -0.071324 -0.050406 -0.059482   \n",
              "819148 -0.061143 -0.072737 -0.097629  -0.067934 -0.071324 -0.050406 -0.059482   \n",
              "819149 -0.061143 -0.072737 -0.097629  14.720245 -0.071324 -0.050406 -0.059482   \n",
              "819150 -0.061143 -0.072737 -0.097629  -0.067934 -0.071324 -0.050406 -0.059482   \n",
              "\n",
              "             172  \n",
              "0      -0.058112  \n",
              "1      -0.058112  \n",
              "2      -0.058112  \n",
              "3      -0.058112  \n",
              "4      -0.058112  \n",
              "...          ...  \n",
              "819146 -0.058112  \n",
              "819147 -0.058112  \n",
              "819148 -0.058112  \n",
              "819149 -0.058112  \n",
              "819150 -0.058112  \n",
              "\n",
              "[819151 rows x 173 columns]"
            ],
            "text/html": [
              "\n",
              "  <div id=\"df-82324546-6f65-4b72-bd9e-a89ec72eff31\">\n",
              "    <div class=\"colab-df-container\">\n",
              "      <div>\n",
              "<style scoped>\n",
              "    .dataframe tbody tr th:only-of-type {\n",
              "        vertical-align: middle;\n",
              "    }\n",
              "\n",
              "    .dataframe tbody tr th {\n",
              "        vertical-align: top;\n",
              "    }\n",
              "\n",
              "    .dataframe thead th {\n",
              "        text-align: right;\n",
              "    }\n",
              "</style>\n",
              "<table border=\"1\" class=\"dataframe\">\n",
              "  <thead>\n",
              "    <tr style=\"text-align: right;\">\n",
              "      <th></th>\n",
              "      <th>0</th>\n",
              "      <th>1</th>\n",
              "      <th>2</th>\n",
              "      <th>3</th>\n",
              "      <th>4</th>\n",
              "      <th>5</th>\n",
              "      <th>6</th>\n",
              "      <th>7</th>\n",
              "      <th>8</th>\n",
              "      <th>9</th>\n",
              "      <th>...</th>\n",
              "      <th>163</th>\n",
              "      <th>164</th>\n",
              "      <th>165</th>\n",
              "      <th>166</th>\n",
              "      <th>167</th>\n",
              "      <th>168</th>\n",
              "      <th>169</th>\n",
              "      <th>170</th>\n",
              "      <th>171</th>\n",
              "      <th>172</th>\n",
              "    </tr>\n",
              "  </thead>\n",
              "  <tbody>\n",
              "    <tr>\n",
              "      <th>0</th>\n",
              "      <td>0.236951</td>\n",
              "      <td>1.567208</td>\n",
              "      <td>-0.745203</td>\n",
              "      <td>-0.001105</td>\n",
              "      <td>-0.031442</td>\n",
              "      <td>14.588410</td>\n",
              "      <td>-0.037836</td>\n",
              "      <td>-0.084497</td>\n",
              "      <td>-0.032813</td>\n",
              "      <td>-0.043835</td>\n",
              "      <td>...</td>\n",
              "      <td>-0.037249</td>\n",
              "      <td>-0.050794</td>\n",
              "      <td>-0.061143</td>\n",
              "      <td>-0.072737</td>\n",
              "      <td>-0.097629</td>\n",
              "      <td>-0.067934</td>\n",
              "      <td>-0.071324</td>\n",
              "      <td>-0.050406</td>\n",
              "      <td>-0.059482</td>\n",
              "      <td>-0.058112</td>\n",
              "    </tr>\n",
              "    <tr>\n",
              "      <th>1</th>\n",
              "      <td>-0.064601</td>\n",
              "      <td>1.567208</td>\n",
              "      <td>-0.148546</td>\n",
              "      <td>-0.001105</td>\n",
              "      <td>-0.031442</td>\n",
              "      <td>-0.068548</td>\n",
              "      <td>26.429740</td>\n",
              "      <td>-0.084497</td>\n",
              "      <td>-0.032813</td>\n",
              "      <td>-0.043835</td>\n",
              "      <td>...</td>\n",
              "      <td>-0.037249</td>\n",
              "      <td>-0.050794</td>\n",
              "      <td>-0.061143</td>\n",
              "      <td>-0.072737</td>\n",
              "      <td>-0.097629</td>\n",
              "      <td>-0.067934</td>\n",
              "      <td>-0.071324</td>\n",
              "      <td>-0.050406</td>\n",
              "      <td>-0.059482</td>\n",
              "      <td>-0.058112</td>\n",
              "    </tr>\n",
              "    <tr>\n",
              "      <th>2</th>\n",
              "      <td>-0.037434</td>\n",
              "      <td>1.567208</td>\n",
              "      <td>0.501443</td>\n",
              "      <td>-0.001105</td>\n",
              "      <td>-0.031442</td>\n",
              "      <td>-0.068548</td>\n",
              "      <td>-0.037836</td>\n",
              "      <td>11.834808</td>\n",
              "      <td>-0.032813</td>\n",
              "      <td>-0.043835</td>\n",
              "      <td>...</td>\n",
              "      <td>-0.037249</td>\n",
              "      <td>-0.050794</td>\n",
              "      <td>-0.061143</td>\n",
              "      <td>-0.072737</td>\n",
              "      <td>-0.097629</td>\n",
              "      <td>-0.067934</td>\n",
              "      <td>-0.071324</td>\n",
              "      <td>-0.050406</td>\n",
              "      <td>-0.059482</td>\n",
              "      <td>-0.058112</td>\n",
              "    </tr>\n",
              "    <tr>\n",
              "      <th>3</th>\n",
              "      <td>0.236946</td>\n",
              "      <td>1.567208</td>\n",
              "      <td>-0.054262</td>\n",
              "      <td>-0.001105</td>\n",
              "      <td>-0.031442</td>\n",
              "      <td>-0.068548</td>\n",
              "      <td>-0.037836</td>\n",
              "      <td>-0.084497</td>\n",
              "      <td>-0.032813</td>\n",
              "      <td>-0.043835</td>\n",
              "      <td>...</td>\n",
              "      <td>-0.037249</td>\n",
              "      <td>-0.050794</td>\n",
              "      <td>-0.061143</td>\n",
              "      <td>-0.072737</td>\n",
              "      <td>-0.097629</td>\n",
              "      <td>-0.067934</td>\n",
              "      <td>-0.071324</td>\n",
              "      <td>-0.050406</td>\n",
              "      <td>-0.059482</td>\n",
              "      <td>-0.058112</td>\n",
              "    </tr>\n",
              "    <tr>\n",
              "      <th>4</th>\n",
              "      <td>-0.064580</td>\n",
              "      <td>1.567208</td>\n",
              "      <td>-0.514255</td>\n",
              "      <td>-0.001105</td>\n",
              "      <td>-0.031442</td>\n",
              "      <td>-0.068548</td>\n",
              "      <td>-0.037836</td>\n",
              "      <td>-0.084497</td>\n",
              "      <td>-0.032813</td>\n",
              "      <td>-0.043835</td>\n",
              "      <td>...</td>\n",
              "      <td>-0.037249</td>\n",
              "      <td>-0.050794</td>\n",
              "      <td>-0.061143</td>\n",
              "      <td>-0.072737</td>\n",
              "      <td>-0.097629</td>\n",
              "      <td>-0.067934</td>\n",
              "      <td>-0.071324</td>\n",
              "      <td>-0.050406</td>\n",
              "      <td>-0.059482</td>\n",
              "      <td>-0.058112</td>\n",
              "    </tr>\n",
              "    <tr>\n",
              "      <th>...</th>\n",
              "      <td>...</td>\n",
              "      <td>...</td>\n",
              "      <td>...</td>\n",
              "      <td>...</td>\n",
              "      <td>...</td>\n",
              "      <td>...</td>\n",
              "      <td>...</td>\n",
              "      <td>...</td>\n",
              "      <td>...</td>\n",
              "      <td>...</td>\n",
              "      <td>...</td>\n",
              "      <td>...</td>\n",
              "      <td>...</td>\n",
              "      <td>...</td>\n",
              "      <td>...</td>\n",
              "      <td>...</td>\n",
              "      <td>...</td>\n",
              "      <td>...</td>\n",
              "      <td>...</td>\n",
              "      <td>...</td>\n",
              "      <td>...</td>\n",
              "    </tr>\n",
              "    <tr>\n",
              "      <th>819146</th>\n",
              "      <td>-0.064613</td>\n",
              "      <td>1.409257</td>\n",
              "      <td>-0.525683</td>\n",
              "      <td>-0.001105</td>\n",
              "      <td>-0.031442</td>\n",
              "      <td>-0.068548</td>\n",
              "      <td>-0.037836</td>\n",
              "      <td>-0.084497</td>\n",
              "      <td>-0.032813</td>\n",
              "      <td>-0.043835</td>\n",
              "      <td>...</td>\n",
              "      <td>-0.037249</td>\n",
              "      <td>-0.050794</td>\n",
              "      <td>-0.061143</td>\n",
              "      <td>-0.072737</td>\n",
              "      <td>-0.097629</td>\n",
              "      <td>-0.067934</td>\n",
              "      <td>-0.071324</td>\n",
              "      <td>-0.050406</td>\n",
              "      <td>-0.059482</td>\n",
              "      <td>-0.058112</td>\n",
              "    </tr>\n",
              "    <tr>\n",
              "      <th>819147</th>\n",
              "      <td>-0.038933</td>\n",
              "      <td>1.409257</td>\n",
              "      <td>2.467434</td>\n",
              "      <td>-0.001105</td>\n",
              "      <td>-0.031442</td>\n",
              "      <td>-0.068548</td>\n",
              "      <td>-0.037836</td>\n",
              "      <td>-0.084497</td>\n",
              "      <td>-0.032813</td>\n",
              "      <td>-0.043835</td>\n",
              "      <td>...</td>\n",
              "      <td>-0.037249</td>\n",
              "      <td>-0.050794</td>\n",
              "      <td>-0.061143</td>\n",
              "      <td>-0.072737</td>\n",
              "      <td>-0.097629</td>\n",
              "      <td>-0.067934</td>\n",
              "      <td>-0.071324</td>\n",
              "      <td>-0.050406</td>\n",
              "      <td>-0.059482</td>\n",
              "      <td>-0.058112</td>\n",
              "    </tr>\n",
              "    <tr>\n",
              "      <th>819148</th>\n",
              "      <td>-0.038931</td>\n",
              "      <td>1.409257</td>\n",
              "      <td>1.328096</td>\n",
              "      <td>-0.001105</td>\n",
              "      <td>-0.031442</td>\n",
              "      <td>-0.068548</td>\n",
              "      <td>-0.037836</td>\n",
              "      <td>-0.084497</td>\n",
              "      <td>-0.032813</td>\n",
              "      <td>-0.043835</td>\n",
              "      <td>...</td>\n",
              "      <td>-0.037249</td>\n",
              "      <td>-0.050794</td>\n",
              "      <td>-0.061143</td>\n",
              "      <td>-0.072737</td>\n",
              "      <td>-0.097629</td>\n",
              "      <td>-0.067934</td>\n",
              "      <td>-0.071324</td>\n",
              "      <td>-0.050406</td>\n",
              "      <td>-0.059482</td>\n",
              "      <td>-0.058112</td>\n",
              "    </tr>\n",
              "    <tr>\n",
              "      <th>819149</th>\n",
              "      <td>-0.038954</td>\n",
              "      <td>1.409257</td>\n",
              "      <td>-0.196165</td>\n",
              "      <td>-0.001105</td>\n",
              "      <td>-0.031442</td>\n",
              "      <td>-0.068548</td>\n",
              "      <td>-0.037836</td>\n",
              "      <td>-0.084497</td>\n",
              "      <td>-0.032813</td>\n",
              "      <td>-0.043835</td>\n",
              "      <td>...</td>\n",
              "      <td>-0.037249</td>\n",
              "      <td>-0.050794</td>\n",
              "      <td>-0.061143</td>\n",
              "      <td>-0.072737</td>\n",
              "      <td>-0.097629</td>\n",
              "      <td>14.720245</td>\n",
              "      <td>-0.071324</td>\n",
              "      <td>-0.050406</td>\n",
              "      <td>-0.059482</td>\n",
              "      <td>-0.058112</td>\n",
              "    </tr>\n",
              "    <tr>\n",
              "      <th>819150</th>\n",
              "      <td>-0.038898</td>\n",
              "      <td>1.409257</td>\n",
              "      <td>0.508586</td>\n",
              "      <td>-0.001105</td>\n",
              "      <td>-0.031442</td>\n",
              "      <td>-0.068548</td>\n",
              "      <td>-0.037836</td>\n",
              "      <td>-0.084497</td>\n",
              "      <td>-0.032813</td>\n",
              "      <td>-0.043835</td>\n",
              "      <td>...</td>\n",
              "      <td>-0.037249</td>\n",
              "      <td>-0.050794</td>\n",
              "      <td>-0.061143</td>\n",
              "      <td>-0.072737</td>\n",
              "      <td>-0.097629</td>\n",
              "      <td>-0.067934</td>\n",
              "      <td>-0.071324</td>\n",
              "      <td>-0.050406</td>\n",
              "      <td>-0.059482</td>\n",
              "      <td>-0.058112</td>\n",
              "    </tr>\n",
              "  </tbody>\n",
              "</table>\n",
              "<p>819151 rows × 173 columns</p>\n",
              "</div>\n",
              "      <button class=\"colab-df-convert\" onclick=\"convertToInteractive('df-82324546-6f65-4b72-bd9e-a89ec72eff31')\"\n",
              "              title=\"Convert this dataframe to an interactive table.\"\n",
              "              style=\"display:none;\">\n",
              "        \n",
              "  <svg xmlns=\"http://www.w3.org/2000/svg\" height=\"24px\"viewBox=\"0 0 24 24\"\n",
              "       width=\"24px\">\n",
              "    <path d=\"M0 0h24v24H0V0z\" fill=\"none\"/>\n",
              "    <path d=\"M18.56 5.44l.94 2.06.94-2.06 2.06-.94-2.06-.94-.94-2.06-.94 2.06-2.06.94zm-11 1L8.5 8.5l.94-2.06 2.06-.94-2.06-.94L8.5 2.5l-.94 2.06-2.06.94zm10 10l.94 2.06.94-2.06 2.06-.94-2.06-.94-.94-2.06-.94 2.06-2.06.94z\"/><path d=\"M17.41 7.96l-1.37-1.37c-.4-.4-.92-.59-1.43-.59-.52 0-1.04.2-1.43.59L10.3 9.45l-7.72 7.72c-.78.78-.78 2.05 0 2.83L4 21.41c.39.39.9.59 1.41.59.51 0 1.02-.2 1.41-.59l7.78-7.78 2.81-2.81c.8-.78.8-2.07 0-2.86zM5.41 20L4 18.59l7.72-7.72 1.47 1.35L5.41 20z\"/>\n",
              "  </svg>\n",
              "      </button>\n",
              "      \n",
              "  <style>\n",
              "    .colab-df-container {\n",
              "      display:flex;\n",
              "      flex-wrap:wrap;\n",
              "      gap: 12px;\n",
              "    }\n",
              "\n",
              "    .colab-df-convert {\n",
              "      background-color: #E8F0FE;\n",
              "      border: none;\n",
              "      border-radius: 50%;\n",
              "      cursor: pointer;\n",
              "      display: none;\n",
              "      fill: #1967D2;\n",
              "      height: 32px;\n",
              "      padding: 0 0 0 0;\n",
              "      width: 32px;\n",
              "    }\n",
              "\n",
              "    .colab-df-convert:hover {\n",
              "      background-color: #E2EBFA;\n",
              "      box-shadow: 0px 1px 2px rgba(60, 64, 67, 0.3), 0px 1px 3px 1px rgba(60, 64, 67, 0.15);\n",
              "      fill: #174EA6;\n",
              "    }\n",
              "\n",
              "    [theme=dark] .colab-df-convert {\n",
              "      background-color: #3B4455;\n",
              "      fill: #D2E3FC;\n",
              "    }\n",
              "\n",
              "    [theme=dark] .colab-df-convert:hover {\n",
              "      background-color: #434B5C;\n",
              "      box-shadow: 0px 1px 3px 1px rgba(0, 0, 0, 0.15);\n",
              "      filter: drop-shadow(0px 1px 2px rgba(0, 0, 0, 0.3));\n",
              "      fill: #FFFFFF;\n",
              "    }\n",
              "  </style>\n",
              "\n",
              "      <script>\n",
              "        const buttonEl =\n",
              "          document.querySelector('#df-82324546-6f65-4b72-bd9e-a89ec72eff31 button.colab-df-convert');\n",
              "        buttonEl.style.display =\n",
              "          google.colab.kernel.accessAllowed ? 'block' : 'none';\n",
              "\n",
              "        async function convertToInteractive(key) {\n",
              "          const element = document.querySelector('#df-82324546-6f65-4b72-bd9e-a89ec72eff31');\n",
              "          const dataTable =\n",
              "            await google.colab.kernel.invokeFunction('convertToInteractive',\n",
              "                                                     [key], {});\n",
              "          if (!dataTable) return;\n",
              "\n",
              "          const docLinkHtml = 'Like what you see? Visit the ' +\n",
              "            '<a target=\"_blank\" href=https://colab.research.google.com/notebooks/data_table.ipynb>data table notebook</a>'\n",
              "            + ' to learn more about interactive tables.';\n",
              "          element.innerHTML = '';\n",
              "          dataTable['output_type'] = 'display_data';\n",
              "          await google.colab.output.renderOutput(dataTable, element);\n",
              "          const docLink = document.createElement('div');\n",
              "          docLink.innerHTML = docLinkHtml;\n",
              "          element.appendChild(docLink);\n",
              "        }\n",
              "      </script>\n",
              "    </div>\n",
              "  </div>\n",
              "  "
            ]
          },
          "metadata": {},
          "execution_count": 85
        }
      ]
    },
    {
      "cell_type": "markdown",
      "source": [
        "Coding di atas digunakan untuk melakukan transformasi data dari numerik menjadi skala yang memiliki mean (rata-rata) nol dan standar deviasi (deviation) satu."
      ],
      "metadata": {
        "id": "bn9lvKXy3JtE"
      }
    },
    {
      "cell_type": "markdown",
      "source": [
        "**4.2.2 Normalization**\n",
        "\n",
        "A way to normalize the input features/variables is the Min-Max scaler. By doing so, all features will be transformed into the range [0,1] meaning that the minimum and maximum value of a feature/variable is going to be 0 and 1, respectively.\n",
        "\n",
        "The main idea behind normalization/standardization is always the same. Variables that are measured at different scales do not contribute equally to the model fitting & model learned function and might end up creating a bias. Thus, to deal with this potential problem feature-wise normalization such as MinMax Scaling is usually used prior to model fitting.\n",
        "\n",
        "reference : https://stackoverflow.com/questions/62178888/can-someone-explain-to-me-how-minmaxscaler-works\n"
      ],
      "metadata": {
        "id": "AdhBeaKIFLfN"
      }
    },
    {
      "cell_type": "code",
      "source": [
        "from sklearn.preprocessing import MinMaxScaler\n",
        "x = MinMaxScaler().fit_transform(x)\n",
        "x = pd.DataFrame(x)\n",
        "\n",
        "x"
      ],
      "metadata": {
        "id": "gtFKYb9DlEhV",
        "colab": {
          "base_uri": "https://localhost:8080/",
          "height": 424
        },
        "outputId": "197bc7e6-9f3e-4933-d26f-9f4ae2fc4c13"
      },
      "execution_count": 86,
      "outputs": [
        {
          "output_type": "execute_result",
          "data": {
            "text/plain": [
              "             0         1         2    3    4    5    6    7    8    9    ...  \\\n",
              "0       0.001010  1.000000  0.353603  0.0  0.0  1.0  0.0  0.0  0.0  0.0  ...   \n",
              "1       0.000010  1.000000  0.457341  0.0  0.0  0.0  1.0  0.0  0.0  0.0  ...   \n",
              "2       0.000100  1.000000  0.570351  0.0  0.0  0.0  0.0  1.0  0.0  0.0  ...   \n",
              "3       0.001010  1.000000  0.473734  0.0  0.0  0.0  0.0  0.0  0.0  0.0  ...   \n",
              "4       0.000010  1.000000  0.393757  0.0  0.0  0.0  0.0  0.0  0.0  0.0  ...   \n",
              "...          ...       ...       ...  ...  ...  ...  ...  ...  ...  ...  ...   \n",
              "819146  0.000010  0.947368  0.391770  0.0  0.0  0.0  0.0  0.0  0.0  0.0  ...   \n",
              "819147  0.000095  0.947368  0.912169  0.0  0.0  0.0  0.0  0.0  0.0  0.0  ...   \n",
              "819148  0.000095  0.947368  0.714078  0.0  0.0  0.0  0.0  0.0  0.0  0.0  ...   \n",
              "819149  0.000095  0.947368  0.449062  0.0  0.0  0.0  0.0  0.0  0.0  0.0  ...   \n",
              "819150  0.000095  0.947368  0.571593  0.0  0.0  0.0  0.0  0.0  0.0  0.0  ...   \n",
              "\n",
              "        163  164  165  166  167  168  169  170  171  172  \n",
              "0       0.0  0.0  0.0  0.0  0.0  0.0  0.0  0.0  0.0  0.0  \n",
              "1       0.0  0.0  0.0  0.0  0.0  0.0  0.0  0.0  0.0  0.0  \n",
              "2       0.0  0.0  0.0  0.0  0.0  0.0  0.0  0.0  0.0  0.0  \n",
              "3       0.0  0.0  0.0  0.0  0.0  0.0  0.0  0.0  0.0  0.0  \n",
              "4       0.0  0.0  0.0  0.0  0.0  0.0  0.0  0.0  0.0  0.0  \n",
              "...     ...  ...  ...  ...  ...  ...  ...  ...  ...  ...  \n",
              "819146  0.0  0.0  0.0  0.0  0.0  0.0  0.0  0.0  0.0  0.0  \n",
              "819147  0.0  0.0  0.0  0.0  0.0  0.0  0.0  0.0  0.0  0.0  \n",
              "819148  0.0  0.0  0.0  0.0  0.0  0.0  0.0  0.0  0.0  0.0  \n",
              "819149  0.0  0.0  0.0  0.0  0.0  1.0  0.0  0.0  0.0  0.0  \n",
              "819150  0.0  0.0  0.0  0.0  0.0  0.0  0.0  0.0  0.0  0.0  \n",
              "\n",
              "[819151 rows x 173 columns]"
            ],
            "text/html": [
              "\n",
              "  <div id=\"df-1b276af6-b89c-4194-9c56-ae551dfd6ccc\">\n",
              "    <div class=\"colab-df-container\">\n",
              "      <div>\n",
              "<style scoped>\n",
              "    .dataframe tbody tr th:only-of-type {\n",
              "        vertical-align: middle;\n",
              "    }\n",
              "\n",
              "    .dataframe tbody tr th {\n",
              "        vertical-align: top;\n",
              "    }\n",
              "\n",
              "    .dataframe thead th {\n",
              "        text-align: right;\n",
              "    }\n",
              "</style>\n",
              "<table border=\"1\" class=\"dataframe\">\n",
              "  <thead>\n",
              "    <tr style=\"text-align: right;\">\n",
              "      <th></th>\n",
              "      <th>0</th>\n",
              "      <th>1</th>\n",
              "      <th>2</th>\n",
              "      <th>3</th>\n",
              "      <th>4</th>\n",
              "      <th>5</th>\n",
              "      <th>6</th>\n",
              "      <th>7</th>\n",
              "      <th>8</th>\n",
              "      <th>9</th>\n",
              "      <th>...</th>\n",
              "      <th>163</th>\n",
              "      <th>164</th>\n",
              "      <th>165</th>\n",
              "      <th>166</th>\n",
              "      <th>167</th>\n",
              "      <th>168</th>\n",
              "      <th>169</th>\n",
              "      <th>170</th>\n",
              "      <th>171</th>\n",
              "      <th>172</th>\n",
              "    </tr>\n",
              "  </thead>\n",
              "  <tbody>\n",
              "    <tr>\n",
              "      <th>0</th>\n",
              "      <td>0.001010</td>\n",
              "      <td>1.000000</td>\n",
              "      <td>0.353603</td>\n",
              "      <td>0.0</td>\n",
              "      <td>0.0</td>\n",
              "      <td>1.0</td>\n",
              "      <td>0.0</td>\n",
              "      <td>0.0</td>\n",
              "      <td>0.0</td>\n",
              "      <td>0.0</td>\n",
              "      <td>...</td>\n",
              "      <td>0.0</td>\n",
              "      <td>0.0</td>\n",
              "      <td>0.0</td>\n",
              "      <td>0.0</td>\n",
              "      <td>0.0</td>\n",
              "      <td>0.0</td>\n",
              "      <td>0.0</td>\n",
              "      <td>0.0</td>\n",
              "      <td>0.0</td>\n",
              "      <td>0.0</td>\n",
              "    </tr>\n",
              "    <tr>\n",
              "      <th>1</th>\n",
              "      <td>0.000010</td>\n",
              "      <td>1.000000</td>\n",
              "      <td>0.457341</td>\n",
              "      <td>0.0</td>\n",
              "      <td>0.0</td>\n",
              "      <td>0.0</td>\n",
              "      <td>1.0</td>\n",
              "      <td>0.0</td>\n",
              "      <td>0.0</td>\n",
              "      <td>0.0</td>\n",
              "      <td>...</td>\n",
              "      <td>0.0</td>\n",
              "      <td>0.0</td>\n",
              "      <td>0.0</td>\n",
              "      <td>0.0</td>\n",
              "      <td>0.0</td>\n",
              "      <td>0.0</td>\n",
              "      <td>0.0</td>\n",
              "      <td>0.0</td>\n",
              "      <td>0.0</td>\n",
              "      <td>0.0</td>\n",
              "    </tr>\n",
              "    <tr>\n",
              "      <th>2</th>\n",
              "      <td>0.000100</td>\n",
              "      <td>1.000000</td>\n",
              "      <td>0.570351</td>\n",
              "      <td>0.0</td>\n",
              "      <td>0.0</td>\n",
              "      <td>0.0</td>\n",
              "      <td>0.0</td>\n",
              "      <td>1.0</td>\n",
              "      <td>0.0</td>\n",
              "      <td>0.0</td>\n",
              "      <td>...</td>\n",
              "      <td>0.0</td>\n",
              "      <td>0.0</td>\n",
              "      <td>0.0</td>\n",
              "      <td>0.0</td>\n",
              "      <td>0.0</td>\n",
              "      <td>0.0</td>\n",
              "      <td>0.0</td>\n",
              "      <td>0.0</td>\n",
              "      <td>0.0</td>\n",
              "      <td>0.0</td>\n",
              "    </tr>\n",
              "    <tr>\n",
              "      <th>3</th>\n",
              "      <td>0.001010</td>\n",
              "      <td>1.000000</td>\n",
              "      <td>0.473734</td>\n",
              "      <td>0.0</td>\n",
              "      <td>0.0</td>\n",
              "      <td>0.0</td>\n",
              "      <td>0.0</td>\n",
              "      <td>0.0</td>\n",
              "      <td>0.0</td>\n",
              "      <td>0.0</td>\n",
              "      <td>...</td>\n",
              "      <td>0.0</td>\n",
              "      <td>0.0</td>\n",
              "      <td>0.0</td>\n",
              "      <td>0.0</td>\n",
              "      <td>0.0</td>\n",
              "      <td>0.0</td>\n",
              "      <td>0.0</td>\n",
              "      <td>0.0</td>\n",
              "      <td>0.0</td>\n",
              "      <td>0.0</td>\n",
              "    </tr>\n",
              "    <tr>\n",
              "      <th>4</th>\n",
              "      <td>0.000010</td>\n",
              "      <td>1.000000</td>\n",
              "      <td>0.393757</td>\n",
              "      <td>0.0</td>\n",
              "      <td>0.0</td>\n",
              "      <td>0.0</td>\n",
              "      <td>0.0</td>\n",
              "      <td>0.0</td>\n",
              "      <td>0.0</td>\n",
              "      <td>0.0</td>\n",
              "      <td>...</td>\n",
              "      <td>0.0</td>\n",
              "      <td>0.0</td>\n",
              "      <td>0.0</td>\n",
              "      <td>0.0</td>\n",
              "      <td>0.0</td>\n",
              "      <td>0.0</td>\n",
              "      <td>0.0</td>\n",
              "      <td>0.0</td>\n",
              "      <td>0.0</td>\n",
              "      <td>0.0</td>\n",
              "    </tr>\n",
              "    <tr>\n",
              "      <th>...</th>\n",
              "      <td>...</td>\n",
              "      <td>...</td>\n",
              "      <td>...</td>\n",
              "      <td>...</td>\n",
              "      <td>...</td>\n",
              "      <td>...</td>\n",
              "      <td>...</td>\n",
              "      <td>...</td>\n",
              "      <td>...</td>\n",
              "      <td>...</td>\n",
              "      <td>...</td>\n",
              "      <td>...</td>\n",
              "      <td>...</td>\n",
              "      <td>...</td>\n",
              "      <td>...</td>\n",
              "      <td>...</td>\n",
              "      <td>...</td>\n",
              "      <td>...</td>\n",
              "      <td>...</td>\n",
              "      <td>...</td>\n",
              "      <td>...</td>\n",
              "    </tr>\n",
              "    <tr>\n",
              "      <th>819146</th>\n",
              "      <td>0.000010</td>\n",
              "      <td>0.947368</td>\n",
              "      <td>0.391770</td>\n",
              "      <td>0.0</td>\n",
              "      <td>0.0</td>\n",
              "      <td>0.0</td>\n",
              "      <td>0.0</td>\n",
              "      <td>0.0</td>\n",
              "      <td>0.0</td>\n",
              "      <td>0.0</td>\n",
              "      <td>...</td>\n",
              "      <td>0.0</td>\n",
              "      <td>0.0</td>\n",
              "      <td>0.0</td>\n",
              "      <td>0.0</td>\n",
              "      <td>0.0</td>\n",
              "      <td>0.0</td>\n",
              "      <td>0.0</td>\n",
              "      <td>0.0</td>\n",
              "      <td>0.0</td>\n",
              "      <td>0.0</td>\n",
              "    </tr>\n",
              "    <tr>\n",
              "      <th>819147</th>\n",
              "      <td>0.000095</td>\n",
              "      <td>0.947368</td>\n",
              "      <td>0.912169</td>\n",
              "      <td>0.0</td>\n",
              "      <td>0.0</td>\n",
              "      <td>0.0</td>\n",
              "      <td>0.0</td>\n",
              "      <td>0.0</td>\n",
              "      <td>0.0</td>\n",
              "      <td>0.0</td>\n",
              "      <td>...</td>\n",
              "      <td>0.0</td>\n",
              "      <td>0.0</td>\n",
              "      <td>0.0</td>\n",
              "      <td>0.0</td>\n",
              "      <td>0.0</td>\n",
              "      <td>0.0</td>\n",
              "      <td>0.0</td>\n",
              "      <td>0.0</td>\n",
              "      <td>0.0</td>\n",
              "      <td>0.0</td>\n",
              "    </tr>\n",
              "    <tr>\n",
              "      <th>819148</th>\n",
              "      <td>0.000095</td>\n",
              "      <td>0.947368</td>\n",
              "      <td>0.714078</td>\n",
              "      <td>0.0</td>\n",
              "      <td>0.0</td>\n",
              "      <td>0.0</td>\n",
              "      <td>0.0</td>\n",
              "      <td>0.0</td>\n",
              "      <td>0.0</td>\n",
              "      <td>0.0</td>\n",
              "      <td>...</td>\n",
              "      <td>0.0</td>\n",
              "      <td>0.0</td>\n",
              "      <td>0.0</td>\n",
              "      <td>0.0</td>\n",
              "      <td>0.0</td>\n",
              "      <td>0.0</td>\n",
              "      <td>0.0</td>\n",
              "      <td>0.0</td>\n",
              "      <td>0.0</td>\n",
              "      <td>0.0</td>\n",
              "    </tr>\n",
              "    <tr>\n",
              "      <th>819149</th>\n",
              "      <td>0.000095</td>\n",
              "      <td>0.947368</td>\n",
              "      <td>0.449062</td>\n",
              "      <td>0.0</td>\n",
              "      <td>0.0</td>\n",
              "      <td>0.0</td>\n",
              "      <td>0.0</td>\n",
              "      <td>0.0</td>\n",
              "      <td>0.0</td>\n",
              "      <td>0.0</td>\n",
              "      <td>...</td>\n",
              "      <td>0.0</td>\n",
              "      <td>0.0</td>\n",
              "      <td>0.0</td>\n",
              "      <td>0.0</td>\n",
              "      <td>0.0</td>\n",
              "      <td>1.0</td>\n",
              "      <td>0.0</td>\n",
              "      <td>0.0</td>\n",
              "      <td>0.0</td>\n",
              "      <td>0.0</td>\n",
              "    </tr>\n",
              "    <tr>\n",
              "      <th>819150</th>\n",
              "      <td>0.000095</td>\n",
              "      <td>0.947368</td>\n",
              "      <td>0.571593</td>\n",
              "      <td>0.0</td>\n",
              "      <td>0.0</td>\n",
              "      <td>0.0</td>\n",
              "      <td>0.0</td>\n",
              "      <td>0.0</td>\n",
              "      <td>0.0</td>\n",
              "      <td>0.0</td>\n",
              "      <td>...</td>\n",
              "      <td>0.0</td>\n",
              "      <td>0.0</td>\n",
              "      <td>0.0</td>\n",
              "      <td>0.0</td>\n",
              "      <td>0.0</td>\n",
              "      <td>0.0</td>\n",
              "      <td>0.0</td>\n",
              "      <td>0.0</td>\n",
              "      <td>0.0</td>\n",
              "      <td>0.0</td>\n",
              "    </tr>\n",
              "  </tbody>\n",
              "</table>\n",
              "<p>819151 rows × 173 columns</p>\n",
              "</div>\n",
              "      <button class=\"colab-df-convert\" onclick=\"convertToInteractive('df-1b276af6-b89c-4194-9c56-ae551dfd6ccc')\"\n",
              "              title=\"Convert this dataframe to an interactive table.\"\n",
              "              style=\"display:none;\">\n",
              "        \n",
              "  <svg xmlns=\"http://www.w3.org/2000/svg\" height=\"24px\"viewBox=\"0 0 24 24\"\n",
              "       width=\"24px\">\n",
              "    <path d=\"M0 0h24v24H0V0z\" fill=\"none\"/>\n",
              "    <path d=\"M18.56 5.44l.94 2.06.94-2.06 2.06-.94-2.06-.94-.94-2.06-.94 2.06-2.06.94zm-11 1L8.5 8.5l.94-2.06 2.06-.94-2.06-.94L8.5 2.5l-.94 2.06-2.06.94zm10 10l.94 2.06.94-2.06 2.06-.94-2.06-.94-.94-2.06-.94 2.06-2.06.94z\"/><path d=\"M17.41 7.96l-1.37-1.37c-.4-.4-.92-.59-1.43-.59-.52 0-1.04.2-1.43.59L10.3 9.45l-7.72 7.72c-.78.78-.78 2.05 0 2.83L4 21.41c.39.39.9.59 1.41.59.51 0 1.02-.2 1.41-.59l7.78-7.78 2.81-2.81c.8-.78.8-2.07 0-2.86zM5.41 20L4 18.59l7.72-7.72 1.47 1.35L5.41 20z\"/>\n",
              "  </svg>\n",
              "      </button>\n",
              "      \n",
              "  <style>\n",
              "    .colab-df-container {\n",
              "      display:flex;\n",
              "      flex-wrap:wrap;\n",
              "      gap: 12px;\n",
              "    }\n",
              "\n",
              "    .colab-df-convert {\n",
              "      background-color: #E8F0FE;\n",
              "      border: none;\n",
              "      border-radius: 50%;\n",
              "      cursor: pointer;\n",
              "      display: none;\n",
              "      fill: #1967D2;\n",
              "      height: 32px;\n",
              "      padding: 0 0 0 0;\n",
              "      width: 32px;\n",
              "    }\n",
              "\n",
              "    .colab-df-convert:hover {\n",
              "      background-color: #E2EBFA;\n",
              "      box-shadow: 0px 1px 2px rgba(60, 64, 67, 0.3), 0px 1px 3px 1px rgba(60, 64, 67, 0.15);\n",
              "      fill: #174EA6;\n",
              "    }\n",
              "\n",
              "    [theme=dark] .colab-df-convert {\n",
              "      background-color: #3B4455;\n",
              "      fill: #D2E3FC;\n",
              "    }\n",
              "\n",
              "    [theme=dark] .colab-df-convert:hover {\n",
              "      background-color: #434B5C;\n",
              "      box-shadow: 0px 1px 3px 1px rgba(0, 0, 0, 0.15);\n",
              "      filter: drop-shadow(0px 1px 2px rgba(0, 0, 0, 0.3));\n",
              "      fill: #FFFFFF;\n",
              "    }\n",
              "  </style>\n",
              "\n",
              "      <script>\n",
              "        const buttonEl =\n",
              "          document.querySelector('#df-1b276af6-b89c-4194-9c56-ae551dfd6ccc button.colab-df-convert');\n",
              "        buttonEl.style.display =\n",
              "          google.colab.kernel.accessAllowed ? 'block' : 'none';\n",
              "\n",
              "        async function convertToInteractive(key) {\n",
              "          const element = document.querySelector('#df-1b276af6-b89c-4194-9c56-ae551dfd6ccc');\n",
              "          const dataTable =\n",
              "            await google.colab.kernel.invokeFunction('convertToInteractive',\n",
              "                                                     [key], {});\n",
              "          if (!dataTable) return;\n",
              "\n",
              "          const docLinkHtml = 'Like what you see? Visit the ' +\n",
              "            '<a target=\"_blank\" href=https://colab.research.google.com/notebooks/data_table.ipynb>data table notebook</a>'\n",
              "            + ' to learn more about interactive tables.';\n",
              "          element.innerHTML = '';\n",
              "          dataTable['output_type'] = 'display_data';\n",
              "          await google.colab.output.renderOutput(dataTable, element);\n",
              "          const docLink = document.createElement('div');\n",
              "          docLink.innerHTML = docLinkHtml;\n",
              "          element.appendChild(docLink);\n",
              "        }\n",
              "      </script>\n",
              "    </div>\n",
              "  </div>\n",
              "  "
            ]
          },
          "metadata": {},
          "execution_count": 86
        }
      ]
    },
    {
      "cell_type": "markdown",
      "source": [
        "coding diatas digunakan untuk melakukan normalisasi dari data yang ada pada dataset"
      ],
      "metadata": {
        "id": "3OQEI_Ei28Hy"
      }
    },
    {
      "cell_type": "markdown",
      "source": [
        "**4.3 Splitting**"
      ],
      "metadata": {
        "id": "U5mVChyqI7e9"
      }
    },
    {
      "cell_type": "code",
      "source": [
        "from sklearn.datasets import make_blobs\n",
        "from sklearn.model_selection import train_test_split\n",
        "x,y = make_blobs(n_samples=1000)\n",
        "xTrain, xTest, ytrain, ytest = train_test_split(x, y, test_size=0.33, random_state=1, stratify=y)"
      ],
      "metadata": {
        "id": "ACJMGLAHigHI"
      },
      "execution_count": 87,
      "outputs": []
    },
    {
      "cell_type": "code",
      "source": [
        "from collections import Counter\n",
        "print(\"Train distribution\", Counter(ytrain))\n",
        "print(\"Test distribution\", Counter(ytest))"
      ],
      "metadata": {
        "colab": {
          "base_uri": "https://localhost:8080/"
        },
        "id": "sSICmqDpMomI",
        "outputId": "cb622262-a523-4f0c-dcf6-7b86a0a898c7"
      },
      "execution_count": 90,
      "outputs": [
        {
          "output_type": "stream",
          "name": "stdout",
          "text": [
            "Train distribution Counter({0: 224, 1: 223, 2: 223})\n",
            "Test distribution Counter({0: 110, 1: 110, 2: 110})\n"
          ]
        }
      ]
    },
    {
      "cell_type": "markdown",
      "source": [
        "Coding diatas digunakan untuk membagi dataset menjadi subset yang baru, dibagi menjadi dua subset yaitu Train distributor dan test distribution."
      ],
      "metadata": {
        "id": "e6sQJ9De2pMs"
      }
    },
    {
      "cell_type": "markdown",
      "source": [
        "This stratify parameter makes a split so that the proportion of values in the sample produced will be the same as the proportion of values provided to parameter stratify.\n",
        "\n",
        "For example, if variable y is a binary categorical variable with values 0 and 1 and there are 25% of zeros and 75% of ones, stratify=y will make sure that your random split has 25% of 0's and 75% of 1's.\n",
        "\n",
        "For more: https://stackoverflow.com/questions/34842405/parameter-stratify-from-method-train-test-split-scikit-learn"
      ],
      "metadata": {
        "id": "QyCbWtbCI3v5"
      }
    },
    {
      "cell_type": "markdown",
      "source": [
        "Tugas praktekkan dengan dataset yg berbeda dari kaggle dan upload di github\n"
      ],
      "metadata": {
        "id": "an04NDqXOUHT"
      }
    },
    {
      "cell_type": "code",
      "source": [
        "from sklearn.linear_model import LogisticRegression\n",
        "\n",
        "models = []\n",
        "models.append(('LR', LogisticRegression()))"
      ],
      "metadata": {
        "id": "-9rDCS2vNw0D"
      },
      "execution_count": 91,
      "outputs": []
    },
    {
      "cell_type": "code",
      "source": [
        "results_c = []\n",
        "names_c = []\n",
        "\n",
        "for name, model in models:\n",
        "    # define how to split off validation data ('kfold' how many folds)\n",
        "    kfold = KFold(n_splits=10)    \n",
        "    # train the model\n",
        "    cv_results = cross_val_score(model, xTrain, ytrain, cv=kfold, scoring='accuracy')    \n",
        "    results_c.append(cv_results)\n",
        "    names_c.append(name)\n",
        "    msg = \"%s: %f (%f)\" % (name, cv_results.mean(), cv_results.std())\n",
        "    print(msg)"
      ],
      "metadata": {
        "colab": {
          "base_uri": "https://localhost:8080/"
        },
        "id": "4_yApp8fqKar",
        "outputId": "a1ca2f07-8596-4597-dad2-6584c2e09f57"
      },
      "execution_count": 93,
      "outputs": [
        {
          "output_type": "stream",
          "name": "stdout",
          "text": [
            "LR: 0.988060 (0.013012)\n"
          ]
        }
      ]
    },
    {
      "cell_type": "markdown",
      "source": [
        "Coding diatas mencari nilai dari regresi logistik yang ada pada dataset diatas"
      ],
      "metadata": {
        "id": "Iu5yHTGV2Kqd"
      }
    },
    {
      "cell_type": "code",
      "source": [
        "LR = LogisticRegression()\n",
        "LR.fit(xTrain, ytrain)"
      ],
      "metadata": {
        "colab": {
          "base_uri": "https://localhost:8080/",
          "height": 75
        },
        "id": "xQ1qS0elrBK6",
        "outputId": "b463cdf4-3fa7-44b4-8fa9-268a9d50d8fb"
      },
      "execution_count": 95,
      "outputs": [
        {
          "output_type": "execute_result",
          "data": {
            "text/plain": [
              "LogisticRegression()"
            ],
            "text/html": [
              "<style>#sk-container-id-3 {color: black;background-color: white;}#sk-container-id-3 pre{padding: 0;}#sk-container-id-3 div.sk-toggleable {background-color: white;}#sk-container-id-3 label.sk-toggleable__label {cursor: pointer;display: block;width: 100%;margin-bottom: 0;padding: 0.3em;box-sizing: border-box;text-align: center;}#sk-container-id-3 label.sk-toggleable__label-arrow:before {content: \"▸\";float: left;margin-right: 0.25em;color: #696969;}#sk-container-id-3 label.sk-toggleable__label-arrow:hover:before {color: black;}#sk-container-id-3 div.sk-estimator:hover label.sk-toggleable__label-arrow:before {color: black;}#sk-container-id-3 div.sk-toggleable__content {max-height: 0;max-width: 0;overflow: hidden;text-align: left;background-color: #f0f8ff;}#sk-container-id-3 div.sk-toggleable__content pre {margin: 0.2em;color: black;border-radius: 0.25em;background-color: #f0f8ff;}#sk-container-id-3 input.sk-toggleable__control:checked~div.sk-toggleable__content {max-height: 200px;max-width: 100%;overflow: auto;}#sk-container-id-3 input.sk-toggleable__control:checked~label.sk-toggleable__label-arrow:before {content: \"▾\";}#sk-container-id-3 div.sk-estimator input.sk-toggleable__control:checked~label.sk-toggleable__label {background-color: #d4ebff;}#sk-container-id-3 div.sk-label input.sk-toggleable__control:checked~label.sk-toggleable__label {background-color: #d4ebff;}#sk-container-id-3 input.sk-hidden--visually {border: 0;clip: rect(1px 1px 1px 1px);clip: rect(1px, 1px, 1px, 1px);height: 1px;margin: -1px;overflow: hidden;padding: 0;position: absolute;width: 1px;}#sk-container-id-3 div.sk-estimator {font-family: monospace;background-color: #f0f8ff;border: 1px dotted black;border-radius: 0.25em;box-sizing: border-box;margin-bottom: 0.5em;}#sk-container-id-3 div.sk-estimator:hover {background-color: #d4ebff;}#sk-container-id-3 div.sk-parallel-item::after {content: \"\";width: 100%;border-bottom: 1px solid gray;flex-grow: 1;}#sk-container-id-3 div.sk-label:hover label.sk-toggleable__label {background-color: #d4ebff;}#sk-container-id-3 div.sk-serial::before {content: \"\";position: absolute;border-left: 1px solid gray;box-sizing: border-box;top: 0;bottom: 0;left: 50%;z-index: 0;}#sk-container-id-3 div.sk-serial {display: flex;flex-direction: column;align-items: center;background-color: white;padding-right: 0.2em;padding-left: 0.2em;position: relative;}#sk-container-id-3 div.sk-item {position: relative;z-index: 1;}#sk-container-id-3 div.sk-parallel {display: flex;align-items: stretch;justify-content: center;background-color: white;position: relative;}#sk-container-id-3 div.sk-item::before, #sk-container-id-3 div.sk-parallel-item::before {content: \"\";position: absolute;border-left: 1px solid gray;box-sizing: border-box;top: 0;bottom: 0;left: 50%;z-index: -1;}#sk-container-id-3 div.sk-parallel-item {display: flex;flex-direction: column;z-index: 1;position: relative;background-color: white;}#sk-container-id-3 div.sk-parallel-item:first-child::after {align-self: flex-end;width: 50%;}#sk-container-id-3 div.sk-parallel-item:last-child::after {align-self: flex-start;width: 50%;}#sk-container-id-3 div.sk-parallel-item:only-child::after {width: 0;}#sk-container-id-3 div.sk-dashed-wrapped {border: 1px dashed gray;margin: 0 0.4em 0.5em 0.4em;box-sizing: border-box;padding-bottom: 0.4em;background-color: white;}#sk-container-id-3 div.sk-label label {font-family: monospace;font-weight: bold;display: inline-block;line-height: 1.2em;}#sk-container-id-3 div.sk-label-container {text-align: center;}#sk-container-id-3 div.sk-container {/* jupyter's `normalize.less` sets `[hidden] { display: none; }` but bootstrap.min.css set `[hidden] { display: none !important; }` so we also need the `!important` here to be able to override the default hidden behavior on the sphinx rendered scikit-learn.org. See: https://github.com/scikit-learn/scikit-learn/issues/21755 */display: inline-block !important;position: relative;}#sk-container-id-3 div.sk-text-repr-fallback {display: none;}</style><div id=\"sk-container-id-3\" class=\"sk-top-container\"><div class=\"sk-text-repr-fallback\"><pre>LogisticRegression()</pre><b>In a Jupyter environment, please rerun this cell to show the HTML representation or trust the notebook. <br />On GitHub, the HTML representation is unable to render, please try loading this page with nbviewer.org.</b></div><div class=\"sk-container\" hidden><div class=\"sk-item\"><div class=\"sk-estimator sk-toggleable\"><input class=\"sk-toggleable__control sk-hidden--visually\" id=\"sk-estimator-id-3\" type=\"checkbox\" checked><label for=\"sk-estimator-id-3\" class=\"sk-toggleable__label sk-toggleable__label-arrow\">LogisticRegression</label><div class=\"sk-toggleable__content\"><pre>LogisticRegression()</pre></div></div></div></div></div>"
            ]
          },
          "metadata": {},
          "execution_count": 95
        }
      ]
    },
    {
      "cell_type": "markdown",
      "source": [
        "coding diatas digunakan untuk implementasi dari nilai regresi logistik"
      ],
      "metadata": {
        "id": "Jsn8YR0o1xjb"
      }
    },
    {
      "cell_type": "code",
      "source": [
        "predictions = LR.predict(xTest)\n",
        "print(accuracy_score(ytest, predictions))"
      ],
      "metadata": {
        "id": "08s4bURXrm0U",
        "colab": {
          "base_uri": "https://localhost:8080/"
        },
        "outputId": "9d36f2ad-a631-49b3-8a99-3cc2d9488760"
      },
      "execution_count": 96,
      "outputs": [
        {
          "output_type": "stream",
          "name": "stdout",
          "text": [
            "0.9878787878787879\n"
          ]
        }
      ]
    },
    {
      "cell_type": "markdown",
      "source": [
        "Coding diatas menggambarkan hasil prediksi dari regresi linear dan didapatkan hasil nya 1"
      ],
      "metadata": {
        "id": "9DpP_0KP1Lyu"
      }
    },
    {
      "cell_type": "code",
      "source": [
        "# Confusion Matrix \n",
        "from sklearn.metrics import confusion_matrix\n",
        "import pylab as pl\n",
        "\n",
        "print(confusion_matrix(ytest, predictions))\n",
        "\n",
        "cm = confusion_matrix(ytest, predictions)\n",
        "pl.matshow(cm)\n",
        "pl.title('Confusion matrix of the classifier')\n",
        "pl.colorbar()\n",
        "pl.show()"
      ],
      "metadata": {
        "colab": {
          "base_uri": "https://localhost:8080/",
          "height": 724
        },
        "id": "Wh2-d2uCr17a",
        "outputId": "6482c206-bbe9-41b0-c826-ea569d0b1ecc"
      },
      "execution_count": 97,
      "outputs": [
        {
          "output_type": "stream",
          "name": "stdout",
          "text": [
            "[[109   1   0]\n",
            " [  1 109   0]\n",
            " [  2   0 108]]\n"
          ]
        },
        {
          "output_type": "display_data",
          "data": {
            "text/plain": [
              "<Figure size 800x800 with 2 Axes>"
            ],
            "image/png": "[encoded data removed]"
          },
          "metadata": {}
        }
      ]
    },
    {
      "cell_type": "markdown",
      "source": [
        "Coding di atas menggambarkan hasil matriks dari dataset yang sudah diperbaiki dan dihilangkan missing valuenya"
      ],
      "metadata": {
        "id": "_gsYUiE101VA"
      }
    },
    {
      "cell_type": "code",
      "source": [
        "# Classification Report\n",
        "from sklearn.metrics import classification_report\n",
        "print(classification_report(ytest, predictions))"
      ],
      "metadata": {
        "colab": {
          "base_uri": "https://localhost:8080/"
        },
        "id": "gL6HppHzsRBw",
        "outputId": "95848464-3b9b-435b-f28c-44b1086389a6"
      },
      "execution_count": 98,
      "outputs": [
        {
          "output_type": "stream",
          "name": "stdout",
          "text": [
            "              precision    recall  f1-score   support\n",
            "\n",
            "           0       0.97      0.99      0.98       110\n",
            "           1       0.99      0.99      0.99       110\n",
            "           2       1.00      0.98      0.99       110\n",
            "\n",
            "    accuracy                           0.99       330\n",
            "   macro avg       0.99      0.99      0.99       330\n",
            "weighted avg       0.99      0.99      0.99       330\n",
            "\n"
          ]
        }
      ]
    },
    {
      "cell_type": "markdown",
      "source": [
        "Coding diatas menggambarkan hasil laporan dari klasifikasi data yang ada"
      ],
      "metadata": {
        "id": "_qz5C9He0sBY"
      }
    },
    {
      "cell_type": "code",
      "execution_count": null,
      "metadata": {
        "id": "OxfpNV63imB-"
      },
      "outputs": [],
      "source": []
    }
  ],
  "metadata": {
    "accelerator": "TPU",
    "colab": {
      "provenance": [],
      "machine_shape": "hm",
      "include_colab_link": true
    },
    "kernelspec": {
      "display_name": "Python 3",
      "name": "python3"
    },
    "gpuClass": "premium"
  },
  "nbformat": 4,
  "nbformat_minor": 0
}